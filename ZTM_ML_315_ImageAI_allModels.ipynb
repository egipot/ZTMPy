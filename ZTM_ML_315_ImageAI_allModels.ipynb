{
  "nbformat": 4,
  "nbformat_minor": 0,
  "metadata": {
    "colab": {
      "provenance": [],
      "authorship_tag": "ABX9TyPP9MEB+NP9PXKf2ynF0XN1",
      "include_colab_link": true
    },
    "kernelspec": {
      "name": "python3",
      "display_name": "Python 3"
    },
    "language_info": {
      "name": "python"
    }
  },
  "cells": [
    {
      "cell_type": "markdown",
      "metadata": {
        "id": "view-in-github",
        "colab_type": "text"
      },
      "source": [
        "<a href=\"https://colab.research.google.com/github/egipot/ZTMPy/blob/main/ZTM_ML_315_ImageAI_allModels.ipynb\" target=\"_parent\"><img src=\"https://colab.research.google.com/assets/colab-badge.svg\" alt=\"Open In Colab\"/></a>"
      ]
    },
    {
      "cell_type": "markdown",
      "source": [
        "https://github.com/OlafenwaMoses/ImageAI"
      ],
      "metadata": {
        "id": "skvqG8SrElsQ"
      }
    },
    {
      "cell_type": "code",
      "execution_count": 1,
      "metadata": {
        "id": "JRhUZOnOEKqP"
      },
      "outputs": [],
      "source": [
        "pip install cython pillow>=7.0.0 numpy>=1.18.1 opencv-python>=4.1.2 torch>=1.9.0 --extra-index-url https://download.pytorch.org/whl/cpu torchvision>=0.10.0 --extra-index-url https://download.pytorch.org/whl/cpu pytest==7.1.3 tqdm==4.64.1 scipy>=1.7.3 matplotlib>=3.4.3 mock==4.0.3"
      ]
    },
    {
      "cell_type": "code",
      "source": [
        "pip install -U tensorflow keras opencv-python"
      ],
      "metadata": {
        "colab": {
          "base_uri": "https://localhost:8080/"
        },
        "id": "F94wXLhWFJad",
        "outputId": "3e37b522-8441-47a8-c836-6c00678cd988"
      },
      "execution_count": 2,
      "outputs": [
        {
          "output_type": "stream",
          "name": "stdout",
          "text": [
            "Requirement already satisfied: tensorflow in /usr/local/lib/python3.10/dist-packages (2.15.0)\n",
            "Collecting tensorflow\n",
            "  Downloading tensorflow-2.16.2-cp310-cp310-manylinux_2_17_x86_64.manylinux2014_x86_64.whl (590.6 MB)\n",
            "\u001b[2K     \u001b[90m━━━━━━━━━━━━━━━━━━━━━━━━━━━━━━━━━━━━━━━━\u001b[0m \u001b[32m590.6/590.6 MB\u001b[0m \u001b[31m2.2 MB/s\u001b[0m eta \u001b[36m0:00:00\u001b[0m\n",
            "\u001b[?25hRequirement already satisfied: keras in /usr/local/lib/python3.10/dist-packages (2.15.0)\n",
            "Collecting keras\n",
            "  Downloading keras-3.4.1-py3-none-any.whl (1.1 MB)\n",
            "\u001b[2K     \u001b[90m━━━━━━━━━━━━━━━━━━━━━━━━━━━━━━━━━━━━━━━━\u001b[0m \u001b[32m1.1/1.1 MB\u001b[0m \u001b[31m67.1 MB/s\u001b[0m eta \u001b[36m0:00:00\u001b[0m\n",
            "\u001b[?25hRequirement already satisfied: opencv-python in /usr/local/lib/python3.10/dist-packages (4.8.0.76)\n",
            "Collecting opencv-python\n",
            "  Downloading opencv_python-4.10.0.84-cp37-abi3-manylinux_2_17_x86_64.manylinux2014_x86_64.whl (62.5 MB)\n",
            "\u001b[2K     \u001b[90m━━━━━━━━━━━━━━━━━━━━━━━━━━━━━━━━━━━━━━━━\u001b[0m \u001b[32m62.5/62.5 MB\u001b[0m \u001b[31m9.8 MB/s\u001b[0m eta \u001b[36m0:00:00\u001b[0m\n",
            "\u001b[?25hRequirement already satisfied: absl-py>=1.0.0 in /usr/local/lib/python3.10/dist-packages (from tensorflow) (1.4.0)\n",
            "Requirement already satisfied: astunparse>=1.6.0 in /usr/local/lib/python3.10/dist-packages (from tensorflow) (1.6.3)\n",
            "Requirement already satisfied: flatbuffers>=23.5.26 in /usr/local/lib/python3.10/dist-packages (from tensorflow) (24.3.25)\n",
            "Requirement already satisfied: gast!=0.5.0,!=0.5.1,!=0.5.2,>=0.2.1 in /usr/local/lib/python3.10/dist-packages (from tensorflow) (0.6.0)\n",
            "Requirement already satisfied: google-pasta>=0.1.1 in /usr/local/lib/python3.10/dist-packages (from tensorflow) (0.2.0)\n",
            "Collecting h5py>=3.10.0 (from tensorflow)\n",
            "  Downloading h5py-3.11.0-cp310-cp310-manylinux_2_17_x86_64.manylinux2014_x86_64.whl (5.3 MB)\n",
            "\u001b[2K     \u001b[90m━━━━━━━━━━━━━━━━━━━━━━━━━━━━━━━━━━━━━━━━\u001b[0m \u001b[32m5.3/5.3 MB\u001b[0m \u001b[31m71.9 MB/s\u001b[0m eta \u001b[36m0:00:00\u001b[0m\n",
            "\u001b[?25hRequirement already satisfied: libclang>=13.0.0 in /usr/local/lib/python3.10/dist-packages (from tensorflow) (18.1.1)\n",
            "Collecting ml-dtypes~=0.3.1 (from tensorflow)\n",
            "  Downloading ml_dtypes-0.3.2-cp310-cp310-manylinux_2_17_x86_64.manylinux2014_x86_64.whl (2.2 MB)\n",
            "\u001b[2K     \u001b[90m━━━━━━━━━━━━━━━━━━━━━━━━━━━━━━━━━━━━━━━━\u001b[0m \u001b[32m2.2/2.2 MB\u001b[0m \u001b[31m57.2 MB/s\u001b[0m eta \u001b[36m0:00:00\u001b[0m\n",
            "\u001b[?25hRequirement already satisfied: opt-einsum>=2.3.2 in /usr/local/lib/python3.10/dist-packages (from tensorflow) (3.3.0)\n",
            "Requirement already satisfied: packaging in /usr/local/lib/python3.10/dist-packages (from tensorflow) (24.1)\n",
            "Requirement already satisfied: protobuf!=4.21.0,!=4.21.1,!=4.21.2,!=4.21.3,!=4.21.4,!=4.21.5,<5.0.0dev,>=3.20.3 in /usr/local/lib/python3.10/dist-packages (from tensorflow) (3.20.3)\n",
            "Requirement already satisfied: requests<3,>=2.21.0 in /usr/local/lib/python3.10/dist-packages (from tensorflow) (2.31.0)\n",
            "Requirement already satisfied: setuptools in /usr/local/lib/python3.10/dist-packages (from tensorflow) (67.7.2)\n",
            "Requirement already satisfied: six>=1.12.0 in /usr/local/lib/python3.10/dist-packages (from tensorflow) (1.16.0)\n",
            "Requirement already satisfied: termcolor>=1.1.0 in /usr/local/lib/python3.10/dist-packages (from tensorflow) (2.4.0)\n",
            "Requirement already satisfied: typing-extensions>=3.6.6 in /usr/local/lib/python3.10/dist-packages (from tensorflow) (4.12.2)\n",
            "Requirement already satisfied: wrapt>=1.11.0 in /usr/local/lib/python3.10/dist-packages (from tensorflow) (1.14.1)\n",
            "Requirement already satisfied: grpcio<2.0,>=1.24.3 in /usr/local/lib/python3.10/dist-packages (from tensorflow) (1.64.1)\n",
            "Collecting tensorboard<2.17,>=2.16 (from tensorflow)\n",
            "  Downloading tensorboard-2.16.2-py3-none-any.whl (5.5 MB)\n",
            "\u001b[2K     \u001b[90m━━━━━━━━━━━━━━━━━━━━━━━━━━━━━━━━━━━━━━━━\u001b[0m \u001b[32m5.5/5.5 MB\u001b[0m \u001b[31m91.5 MB/s\u001b[0m eta \u001b[36m0:00:00\u001b[0m\n",
            "\u001b[?25hRequirement already satisfied: tensorflow-io-gcs-filesystem>=0.23.1 in /usr/local/lib/python3.10/dist-packages (from tensorflow) (0.37.0)\n",
            "Requirement already satisfied: numpy<2.0.0,>=1.23.5 in /usr/local/lib/python3.10/dist-packages (from tensorflow) (1.25.2)\n",
            "Requirement already satisfied: rich in /usr/local/lib/python3.10/dist-packages (from keras) (13.7.1)\n",
            "Collecting namex (from keras)\n",
            "  Downloading namex-0.0.8-py3-none-any.whl (5.8 kB)\n",
            "Collecting optree (from keras)\n",
            "  Downloading optree-0.12.1-cp310-cp310-manylinux_2_17_x86_64.manylinux2014_x86_64.whl (347 kB)\n",
            "\u001b[2K     \u001b[90m━━━━━━━━━━━━━━━━━━━━━━━━━━━━━━━━━━━━━━━━\u001b[0m \u001b[32m347.7/347.7 kB\u001b[0m \u001b[31m38.1 MB/s\u001b[0m eta \u001b[36m0:00:00\u001b[0m\n",
            "\u001b[?25hRequirement already satisfied: wheel<1.0,>=0.23.0 in /usr/local/lib/python3.10/dist-packages (from astunparse>=1.6.0->tensorflow) (0.43.0)\n",
            "Requirement already satisfied: charset-normalizer<4,>=2 in /usr/local/lib/python3.10/dist-packages (from requests<3,>=2.21.0->tensorflow) (3.3.2)\n",
            "Requirement already satisfied: idna<4,>=2.5 in /usr/local/lib/python3.10/dist-packages (from requests<3,>=2.21.0->tensorflow) (3.7)\n",
            "Requirement already satisfied: urllib3<3,>=1.21.1 in /usr/local/lib/python3.10/dist-packages (from requests<3,>=2.21.0->tensorflow) (2.0.7)\n",
            "Requirement already satisfied: certifi>=2017.4.17 in /usr/local/lib/python3.10/dist-packages (from requests<3,>=2.21.0->tensorflow) (2024.6.2)\n",
            "Requirement already satisfied: markdown>=2.6.8 in /usr/local/lib/python3.10/dist-packages (from tensorboard<2.17,>=2.16->tensorflow) (3.6)\n",
            "Requirement already satisfied: tensorboard-data-server<0.8.0,>=0.7.0 in /usr/local/lib/python3.10/dist-packages (from tensorboard<2.17,>=2.16->tensorflow) (0.7.2)\n",
            "Requirement already satisfied: werkzeug>=1.0.1 in /usr/local/lib/python3.10/dist-packages (from tensorboard<2.17,>=2.16->tensorflow) (3.0.3)\n",
            "Requirement already satisfied: markdown-it-py>=2.2.0 in /usr/local/lib/python3.10/dist-packages (from rich->keras) (3.0.0)\n",
            "Requirement already satisfied: pygments<3.0.0,>=2.13.0 in /usr/local/lib/python3.10/dist-packages (from rich->keras) (2.16.1)\n",
            "Requirement already satisfied: mdurl~=0.1 in /usr/local/lib/python3.10/dist-packages (from markdown-it-py>=2.2.0->rich->keras) (0.1.2)\n",
            "Requirement already satisfied: MarkupSafe>=2.1.1 in /usr/local/lib/python3.10/dist-packages (from werkzeug>=1.0.1->tensorboard<2.17,>=2.16->tensorflow) (2.1.5)\n",
            "Installing collected packages: namex, optree, opencv-python, ml-dtypes, h5py, tensorboard, keras, tensorflow\n",
            "  Attempting uninstall: opencv-python\n",
            "    Found existing installation: opencv-python 4.8.0.76\n",
            "    Uninstalling opencv-python-4.8.0.76:\n",
            "      Successfully uninstalled opencv-python-4.8.0.76\n",
            "  Attempting uninstall: ml-dtypes\n",
            "    Found existing installation: ml-dtypes 0.2.0\n",
            "    Uninstalling ml-dtypes-0.2.0:\n",
            "      Successfully uninstalled ml-dtypes-0.2.0\n",
            "  Attempting uninstall: h5py\n",
            "    Found existing installation: h5py 3.9.0\n",
            "    Uninstalling h5py-3.9.0:\n",
            "      Successfully uninstalled h5py-3.9.0\n",
            "  Attempting uninstall: tensorboard\n",
            "    Found existing installation: tensorboard 2.15.2\n",
            "    Uninstalling tensorboard-2.15.2:\n",
            "      Successfully uninstalled tensorboard-2.15.2\n",
            "  Attempting uninstall: keras\n",
            "    Found existing installation: keras 2.15.0\n",
            "    Uninstalling keras-2.15.0:\n",
            "      Successfully uninstalled keras-2.15.0\n",
            "  Attempting uninstall: tensorflow\n",
            "    Found existing installation: tensorflow 2.15.0\n",
            "    Uninstalling tensorflow-2.15.0:\n",
            "      Successfully uninstalled tensorflow-2.15.0\n",
            "\u001b[31mERROR: pip's dependency resolver does not currently take into account all the packages that are installed. This behaviour is the source of the following dependency conflicts.\n",
            "tf-keras 2.15.1 requires tensorflow<2.16,>=2.15, but you have tensorflow 2.16.2 which is incompatible.\u001b[0m\u001b[31m\n",
            "\u001b[0mSuccessfully installed h5py-3.11.0 keras-3.4.1 ml-dtypes-0.3.2 namex-0.0.8 opencv-python-4.10.0.84 optree-0.12.1 tensorboard-2.16.2 tensorflow-2.16.2\n"
          ]
        }
      ]
    },
    {
      "cell_type": "code",
      "source": [
        "pip install imageai --upgrade"
      ],
      "metadata": {
        "colab": {
          "base_uri": "https://localhost:8080/"
        },
        "id": "JP8HEV9EGlr8",
        "outputId": "612ac35e-8af1-4d4f-d5cc-f614b6b09e79"
      },
      "execution_count": 4,
      "outputs": [
        {
          "output_type": "stream",
          "name": "stdout",
          "text": [
            "Collecting imageai\n",
            "  Downloading imageai-3.0.3-py3-none-any.whl (69 kB)\n",
            "\u001b[2K     \u001b[90m━━━━━━━━━━━━━━━━━━━━━━━━━━━━━━━━━━━━━━━━\u001b[0m \u001b[32m69.8/69.8 kB\u001b[0m \u001b[31m1.6 MB/s\u001b[0m eta \u001b[36m0:00:00\u001b[0m\n",
            "\u001b[?25hInstalling collected packages: imageai\n",
            "Successfully installed imageai-3.0.3\n"
          ]
        }
      ]
    },
    {
      "cell_type": "markdown",
      "source": [
        "\n",
        "\n",
        "---\n",
        "\n"
      ],
      "metadata": {
        "id": "NeeSWbScLJKP"
      }
    },
    {
      "cell_type": "markdown",
      "source": [
        "MobileNetV2 (Size = 4.82 mb, fastest prediction time and moderate accuracy)"
      ],
      "metadata": {
        "id": "vWQ2UDByLKg7"
      }
    },
    {
      "cell_type": "code",
      "source": [
        "from imageai.Classification import ImageClassification\n",
        "import os\n",
        "\n",
        "exec_path = os.getcwd()\n",
        "\n",
        "prediction = ImageClassification()\n",
        "# SqueezeNet model also no longer exists, now the fastest is MobileNetV2\n",
        "prediction.setModelTypeAsMobileNetV2()\n",
        "prediction.setModelPath(os.path.join(exec_path, 'mobilenet_v2-b0353104.pth'))\n",
        "prediction.loadModel()\n",
        "\n",
        "predctions, probabilities = prediction.classifyImage(os.path.join(exec_path,'house.jpg'), result_count=5)\n",
        "for eachPred, eachProb in zip(predctions, probabilities):\n",
        "    print(f'{eachPred} : {eachProb}')\n",
        ""
      ],
      "metadata": {
        "colab": {
          "base_uri": "https://localhost:8080/"
        },
        "id": "X0Mj9RxpEZhB",
        "outputId": "4b7cff94-2e53-4359-aea7-5153d2e0e1c0"
      },
      "execution_count": 6,
      "outputs": [
        {
          "output_type": "stream",
          "name": "stdout",
          "text": [
            "boathouse : 97.1359\n",
            "mobile home : 0.6925\n",
            "lakeside : 0.5863\n",
            "beacon : 0.431\n",
            "dam : 0.1176\n"
          ]
        }
      ]
    },
    {
      "cell_type": "code",
      "source": [
        "from imageai.Classification import ImageClassification\n",
        "import os\n",
        "\n",
        "exec_path = os.getcwd()\n",
        "\n",
        "prediction = ImageClassification()\n",
        "# SqueezeNet model also no longer exists, now the fastest is MobileNetV2\n",
        "prediction.setModelTypeAsMobileNetV2()\n",
        "prediction.setModelPath(os.path.join(exec_path, 'mobilenet_v2-b0353104.pth'))\n",
        "prediction.loadModel()\n",
        "\n",
        "predctions, probabilities = prediction.classifyImage(os.path.join(exec_path,'giraffe.jpg'), result_count=5)\n",
        "for eachPred, eachProb in zip(predctions, probabilities):\n",
        "    print(f'{eachPred} : {eachProb}')"
      ],
      "metadata": {
        "colab": {
          "base_uri": "https://localhost:8080/"
        },
        "id": "iJqsLg72I7nr",
        "outputId": "f0f05110-d27c-4f68-e8d2-9d1f20deddfc"
      },
      "execution_count": 7,
      "outputs": [
        {
          "output_type": "stream",
          "name": "stdout",
          "text": [
            "impala : 29.0923\n",
            "German short-haired pointer : 17.2527\n",
            "zebra : 13.7695\n",
            "gazelle : 11.4433\n",
            "llama : 6.3483\n"
          ]
        }
      ]
    },
    {
      "cell_type": "code",
      "source": [
        "from imageai.Classification import ImageClassification\n",
        "import os\n",
        "\n",
        "exec_path = os.getcwd()\n",
        "\n",
        "prediction = ImageClassification()\n",
        "# SqueezeNet model also no longer exists, now the fastest is MobileNetV2\n",
        "prediction.setModelTypeAsMobileNetV2()\n",
        "prediction.setModelPath(os.path.join(exec_path, 'mobilenet_v2-b0353104.pth'))\n",
        "prediction.loadModel()\n",
        "\n",
        "predctions, probabilities = prediction.classifyImage(os.path.join(exec_path,'godzilla.jpg'), result_count=5)\n",
        "for eachPred, eachProb in zip(predctions, probabilities):\n",
        "    print(f'{eachPred} : {eachProb}')"
      ],
      "metadata": {
        "colab": {
          "base_uri": "https://localhost:8080/"
        },
        "id": "NT2Q1-DhJAvy",
        "outputId": "f1540c6d-c499-49b3-fd42-249853d0b797"
      },
      "execution_count": 8,
      "outputs": [
        {
          "output_type": "stream",
          "name": "stdout",
          "text": [
            "common iguana : 47.002\n",
            "American alligator : 32.1233\n",
            "triceratops : 9.9207\n",
            "frilled lizard : 6.3106\n",
            "African crocodile : 0.3448\n"
          ]
        }
      ]
    },
    {
      "cell_type": "markdown",
      "source": [
        "uploading my own image and testing ..."
      ],
      "metadata": {
        "id": "SyFVY-qBJFNF"
      }
    },
    {
      "cell_type": "code",
      "source": [
        "from imageai.Classification import ImageClassification\n",
        "import os\n",
        "\n",
        "exec_path = os.getcwd()\n",
        "\n",
        "prediction = ImageClassification()\n",
        "# SqueezeNet model also no longer exists, now the fastest is MobileNetV2\n",
        "prediction.setModelTypeAsMobileNetV2()\n",
        "prediction.setModelPath(os.path.join(exec_path, 'mobilenet_v2-b0353104.pth'))\n",
        "prediction.loadModel()\n",
        "\n",
        "predctions, probabilities = prediction.classifyImage(os.path.join(exec_path,'eye.jpg'), result_count=5)\n",
        "for eachPred, eachProb in zip(predctions, probabilities):\n",
        "    print(f'{eachPred} : {eachProb}')"
      ],
      "metadata": {
        "colab": {
          "base_uri": "https://localhost:8080/"
        },
        "id": "45fScgQYJIQ4",
        "outputId": "c1f2c4f5-4227-48ec-9f44-0b2667b0f4ea"
      },
      "execution_count": 9,
      "outputs": [
        {
          "output_type": "stream",
          "name": "stdout",
          "text": [
            "coil : 79.4482\n",
            "wall clock : 2.8665\n",
            "analog clock : 1.8217\n",
            "Siberian husky : 1.2401\n",
            "Eskimo dog : 1.2082\n"
          ]
        }
      ]
    },
    {
      "cell_type": "code",
      "source": [
        "from imageai.Classification import ImageClassification\n",
        "import os\n",
        "\n",
        "exec_path = os.getcwd()\n",
        "\n",
        "prediction = ImageClassification()\n",
        "# SqueezeNet model also no longer exists, now the fastest is MobileNetV2\n",
        "prediction.setModelTypeAsMobileNetV2()\n",
        "prediction.setModelPath(os.path.join(exec_path, 'mobilenet_v2-b0353104.pth'))\n",
        "prediction.loadModel()\n",
        "\n",
        "predctions, probabilities = prediction.classifyImage(os.path.join(exec_path,'sparrow.png'), result_count=5)\n",
        "for eachPred, eachProb in zip(predctions, probabilities):\n",
        "    print(f'{eachPred} : {eachProb}')"
      ],
      "metadata": {
        "colab": {
          "base_uri": "https://localhost:8080/"
        },
        "id": "68YODJ4rK9au",
        "outputId": "259244f0-a066-4d66-f026-cac54b85a96f"
      },
      "execution_count": 10,
      "outputs": [
        {
          "output_type": "stream",
          "name": "stdout",
          "text": [
            "chickadee : 63.4312\n",
            "magpie : 14.3448\n",
            "junco : 9.9934\n",
            "jay : 3.6642\n",
            "brambling : 2.6749\n"
          ]
        }
      ]
    },
    {
      "cell_type": "markdown",
      "source": [
        "\n",
        "\n",
        "---\n",
        "\n"
      ],
      "metadata": {
        "id": "INv_xXVOLO1b"
      }
    },
    {
      "cell_type": "markdown",
      "source": [
        "ResNet50 by Microsoft Research (Size = 98 mb, fast prediction time and high accuracy)"
      ],
      "metadata": {
        "id": "3BTg4Ox9O8Nj"
      }
    },
    {
      "cell_type": "code",
      "source": [
        "from imageai.Classification import ImageClassification\n",
        "import os\n",
        "\n",
        "execution_path = os.getcwd()\n",
        "\n",
        "prediction = ImageClassification()\n",
        "prediction.setModelTypeAsResNet50()\n",
        "prediction.setModelPath(os.path.join(execution_path, \"resnet50-19c8e357.pth\"))\n",
        "prediction.loadModel()\n",
        "\n",
        "predictions, probabilities = prediction.classifyImage(os.path.join(execution_path, \"sparrow.png\"), result_count=5 )\n",
        "for eachPrediction, eachProbability in zip(predictions, probabilities):\n",
        "    print(eachPrediction , \" : \" , eachProbability)"
      ],
      "metadata": {
        "colab": {
          "base_uri": "https://localhost:8080/"
        },
        "id": "xoacEmUjO90I",
        "outputId": "ac344ea3-7095-4359-fc7c-8be80a21ed18"
      },
      "execution_count": 18,
      "outputs": [
        {
          "output_type": "stream",
          "name": "stdout",
          "text": [
            "water ouzel  :  25.7383\n",
            "partridge  :  18.3307\n",
            "quail  :  17.9213\n",
            "chickadee  :  10.0077\n",
            "prairie chicken  :  4.4849\n"
          ]
        }
      ]
    },
    {
      "cell_type": "code",
      "source": [
        "from imageai.Classification import ImageClassification\n",
        "import os\n",
        "\n",
        "execution_path = os.getcwd()\n",
        "\n",
        "prediction = ImageClassification()\n",
        "prediction.setModelTypeAsResNet50()\n",
        "prediction.setModelPath(os.path.join(execution_path, \"resnet50-19c8e357.pth\"))\n",
        "prediction.loadModel()\n",
        "\n",
        "predictions, probabilities = prediction.classifyImage(os.path.join(execution_path, \"eye.jpg\"), result_count=5 )\n",
        "for eachPrediction, eachProbability in zip(predictions, probabilities):\n",
        "    print(eachPrediction , \" : \" , eachProbability)"
      ],
      "metadata": {
        "colab": {
          "base_uri": "https://localhost:8080/"
        },
        "id": "EmXgBvXUPJo_",
        "outputId": "0290a0ce-2f74-4a7d-d9c4-93b680aa2487"
      },
      "execution_count": 19,
      "outputs": [
        {
          "output_type": "stream",
          "name": "stdout",
          "text": [
            "centipede  :  73.0081\n",
            "coil  :  19.0509\n",
            "hognose snake  :  1.2338\n",
            "shower cap  :  0.3877\n",
            "nematode  :  0.2839\n"
          ]
        }
      ]
    },
    {
      "cell_type": "code",
      "source": [
        "from imageai.Classification import ImageClassification\n",
        "import os\n",
        "\n",
        "execution_path = os.getcwd()\n",
        "\n",
        "prediction = ImageClassification()\n",
        "prediction.setModelTypeAsResNet50()\n",
        "prediction.setModelPath(os.path.join(execution_path, \"resnet50-19c8e357.pth\"))\n",
        "prediction.loadModel()\n",
        "\n",
        "predictions, probabilities = prediction.classifyImage(os.path.join(execution_path, \"giraffe.jpg\"), result_count=5 )\n",
        "for eachPrediction, eachProbability in zip(predictions, probabilities):\n",
        "    print(eachPrediction , \" : \" , eachProbability)"
      ],
      "metadata": {
        "colab": {
          "base_uri": "https://localhost:8080/"
        },
        "id": "B5g62LpAPOIF",
        "outputId": "5af7e213-956a-4024-fd67-25a553f720ff"
      },
      "execution_count": 20,
      "outputs": [
        {
          "output_type": "stream",
          "name": "stdout",
          "text": [
            "German short-haired pointer  :  30.053\n",
            "impala  :  19.973\n",
            "gazelle  :  7.6218\n",
            "zebra  :  7.0344\n",
            "hartebeest  :  6.2713\n"
          ]
        }
      ]
    },
    {
      "cell_type": "code",
      "source": [
        "from imageai.Classification import ImageClassification\n",
        "import os\n",
        "\n",
        "execution_path = os.getcwd()\n",
        "\n",
        "prediction = ImageClassification()\n",
        "prediction.setModelTypeAsResNet50()\n",
        "prediction.setModelPath(os.path.join(execution_path, \"resnet50-19c8e357.pth\"))\n",
        "prediction.loadModel()\n",
        "\n",
        "predictions, probabilities = prediction.classifyImage(os.path.join(execution_path, \"godzilla.jpg\"), result_count=5 )\n",
        "for eachPrediction, eachProbability in zip(predictions, probabilities):\n",
        "    print(eachPrediction , \" : \" , eachProbability)"
      ],
      "metadata": {
        "colab": {
          "base_uri": "https://localhost:8080/"
        },
        "id": "ZUQXDX8oPWaA",
        "outputId": "d6ee9a57-1b21-448d-d31b-5e76e2e2855a"
      },
      "execution_count": 21,
      "outputs": [
        {
          "output_type": "stream",
          "name": "stdout",
          "text": [
            "American alligator  :  71.7845\n",
            "African crocodile  :  13.0974\n",
            "common iguana  :  11.6872\n",
            "triceratops  :  3.0125\n",
            "frilled lizard  :  0.1599\n"
          ]
        }
      ]
    },
    {
      "cell_type": "code",
      "source": [
        "from imageai.Classification import ImageClassification\n",
        "import os\n",
        "\n",
        "execution_path = os.getcwd()\n",
        "\n",
        "prediction = ImageClassification()\n",
        "prediction.setModelTypeAsResNet50()\n",
        "prediction.setModelPath(os.path.join(execution_path, \"resnet50-19c8e357.pth\"))\n",
        "prediction.loadModel()\n",
        "\n",
        "predictions, probabilities = prediction.classifyImage(os.path.join(execution_path, \"house.jpg\"), result_count=5 )\n",
        "for eachPrediction, eachProbability in zip(predictions, probabilities):\n",
        "    print(eachPrediction , \" : \" , eachProbability)"
      ],
      "metadata": {
        "colab": {
          "base_uri": "https://localhost:8080/"
        },
        "id": "prNJ2OinPZT0",
        "outputId": "4e601497-e344-4a9c-b26e-2c06cee23526"
      },
      "execution_count": 22,
      "outputs": [
        {
          "output_type": "stream",
          "name": "stdout",
          "text": [
            "boathouse  :  57.8629\n",
            "mobile home  :  13.2792\n",
            "beacon  :  12.5297\n",
            "planetarium  :  3.1539\n",
            "lakeside  :  2.7216\n"
          ]
        }
      ]
    },
    {
      "cell_type": "markdown",
      "source": [
        "\n",
        "\n",
        "---\n",
        "\n"
      ],
      "metadata": {
        "id": "E36S76VVPc1b"
      }
    },
    {
      "cell_type": "markdown",
      "source": [
        "DenseNet121 by Facebook AI Research (Size = 31.6 mb, slower prediction time and highest accuracy)"
      ],
      "metadata": {
        "id": "fmC7sGKtP7Mc"
      }
    },
    {
      "cell_type": "code",
      "source": [
        "from imageai.Classification import ImageClassification\n",
        "import os\n",
        "\n",
        "execution_path = os.getcwd()\n",
        "\n",
        "prediction = ImageClassification()\n",
        "prediction.setModelTypeAsDenseNet121()\n",
        "prediction.setModelPath(os.path.join(execution_path, \"densenet121-a639ec97.pth\"))\n",
        "prediction.loadModel()\n",
        "\n",
        "predictions, probabilities = prediction.classifyImage(os.path.join(execution_path, \"giraffe.jpg\"), result_count=5 )\n",
        "for eachPrediction, eachProbability in zip(predictions, probabilities):\n",
        "    print(eachPrediction , \" : \" , eachProbability)"
      ],
      "metadata": {
        "colab": {
          "base_uri": "https://localhost:8080/"
        },
        "id": "4QVXZnP4PgHZ",
        "outputId": "f42cfad1-7bcb-4c61-aca5-e331eaff8eba"
      },
      "execution_count": 24,
      "outputs": [
        {
          "output_type": "stream",
          "name": "stdout",
          "text": [
            "jaguar  :  28.0619\n",
            "leopard  :  13.3631\n",
            "German short-haired pointer  :  12.3255\n",
            "gazelle  :  5.0803\n",
            "zebra  :  4.8324\n"
          ]
        }
      ]
    },
    {
      "cell_type": "code",
      "source": [
        "from imageai.Classification import ImageClassification\n",
        "import os\n",
        "\n",
        "execution_path = os.getcwd()\n",
        "\n",
        "prediction = ImageClassification()\n",
        "prediction.setModelTypeAsDenseNet121()\n",
        "prediction.setModelPath(os.path.join(execution_path, \"densenet121-a639ec97.pth\"))\n",
        "prediction.loadModel()\n",
        "\n",
        "predictions, probabilities = prediction.classifyImage(os.path.join(execution_path, \"house.jpg\"), result_count=5 )\n",
        "for eachPrediction, eachProbability in zip(predictions, probabilities):\n",
        "    print(eachPrediction , \" : \" , eachProbability)"
      ],
      "metadata": {
        "colab": {
          "base_uri": "https://localhost:8080/"
        },
        "id": "lTP-sskiPvqA",
        "outputId": "3275b409-e791-4df9-c7a8-29abb599dfec"
      },
      "execution_count": 25,
      "outputs": [
        {
          "output_type": "stream",
          "name": "stdout",
          "text": [
            "boathouse  :  74.3314\n",
            "beacon  :  7.9257\n",
            "mobile home  :  2.5145\n",
            "picket fence  :  2.5051\n",
            "worm fence  :  2.4292\n"
          ]
        }
      ]
    },
    {
      "cell_type": "code",
      "source": [
        "from imageai.Classification import ImageClassification\n",
        "import os\n",
        "\n",
        "execution_path = os.getcwd()\n",
        "\n",
        "prediction = ImageClassification()\n",
        "prediction.setModelTypeAsDenseNet121()\n",
        "prediction.setModelPath(os.path.join(execution_path, \"densenet121-a639ec97.pth\"))\n",
        "prediction.loadModel()\n",
        "\n",
        "predictions, probabilities = prediction.classifyImage(os.path.join(execution_path, \"godzilla.jpg\"), result_count=5 )\n",
        "for eachPrediction, eachProbability in zip(predictions, probabilities):\n",
        "    print(eachPrediction , \" : \" , eachProbability)"
      ],
      "metadata": {
        "colab": {
          "base_uri": "https://localhost:8080/"
        },
        "id": "daCGbTtTP0jM",
        "outputId": "b30bccaa-974c-495b-e8d0-7617c1f42ab8"
      },
      "execution_count": 26,
      "outputs": [
        {
          "output_type": "stream",
          "name": "stdout",
          "text": [
            "common iguana  :  58.8815\n",
            "American alligator  :  26.3095\n",
            "triceratops  :  10.2108\n",
            "African crocodile  :  2.9281\n",
            "frilled lizard  :  0.8501\n"
          ]
        }
      ]
    },
    {
      "cell_type": "code",
      "source": [
        "from imageai.Classification import ImageClassification\n",
        "import os\n",
        "\n",
        "execution_path = os.getcwd()\n",
        "\n",
        "prediction = ImageClassification()\n",
        "prediction.setModelTypeAsDenseNet121()\n",
        "prediction.setModelPath(os.path.join(execution_path, \"densenet121-a639ec97.pth\"))\n",
        "prediction.loadModel()\n",
        "\n",
        "predictions, probabilities = prediction.classifyImage(os.path.join(execution_path, \"eye.jpg\"), result_count=5 )\n",
        "for eachPrediction, eachProbability in zip(predictions, probabilities):\n",
        "    print(eachPrediction , \" : \" , eachProbability)"
      ],
      "metadata": {
        "colab": {
          "base_uri": "https://localhost:8080/"
        },
        "id": "gBJOMGRtP3XN",
        "outputId": "2bcc906f-1256-41a0-9971-1db022058397"
      },
      "execution_count": 27,
      "outputs": [
        {
          "output_type": "stream",
          "name": "stdout",
          "text": [
            "coil  :  82.5939\n",
            "dome  :  3.6333\n",
            "stove  :  1.3389\n",
            "combination lock  :  1.0526\n",
            "centipede  :  0.9345\n"
          ]
        }
      ]
    },
    {
      "cell_type": "code",
      "source": [
        "from imageai.Classification import ImageClassification\n",
        "import os\n",
        "\n",
        "execution_path = os.getcwd()\n",
        "\n",
        "prediction = ImageClassification()\n",
        "prediction.setModelTypeAsDenseNet121()\n",
        "prediction.setModelPath(os.path.join(execution_path, \"densenet121-a639ec97.pth\"))\n",
        "prediction.loadModel()\n",
        "\n",
        "predictions, probabilities = prediction.classifyImage(os.path.join(execution_path, \"sparrow.png\"), result_count=5 )\n",
        "for eachPrediction, eachProbability in zip(predictions, probabilities):\n",
        "    print(eachPrediction , \" : \" , eachProbability)"
      ],
      "metadata": {
        "colab": {
          "base_uri": "https://localhost:8080/"
        },
        "id": "tNBmUR4LQFUT",
        "outputId": "8af3be3b-ca7d-46c6-93b7-a698b2a32cdc"
      },
      "execution_count": 28,
      "outputs": [
        {
          "output_type": "stream",
          "name": "stdout",
          "text": [
            "water ouzel  :  44.2778\n",
            "prairie chicken  :  9.6985\n",
            "ptarmigan  :  8.9122\n",
            "partridge  :  7.8334\n",
            "chickadee  :  4.0439\n"
          ]
        }
      ]
    },
    {
      "cell_type": "markdown",
      "source": [
        "\n",
        "\n",
        "---\n",
        "\n"
      ],
      "metadata": {
        "id": "Hb5g7_cUQO1E"
      }
    },
    {
      "cell_type": "markdown",
      "source": [
        "InceptionV3 by Google Brain team (Size = 91.6 mb, slow prediction time and higher accuracy)"
      ],
      "metadata": {
        "id": "gopiAy0zQP7Q"
      }
    },
    {
      "cell_type": "code",
      "source": [
        "from imageai.Classification import ImageClassification\n",
        "import os\n",
        "\n",
        "execution_path = os.getcwd()\n",
        "\n",
        "prediction = ImageClassification()\n",
        "prediction.setModelTypeAsInceptionV3()\n",
        "prediction.setModelPath(os.path.join(execution_path, \"inception_v3_google-1a9a5a14.pth\"))\n",
        "prediction.loadModel()\n",
        "\n",
        "predictions, probabilities = prediction.classifyImage(os.path.join(execution_path, \"sparrow.png\"), result_count=5 )\n",
        "for eachPrediction, eachProbability in zip(predictions, probabilities):\n",
        "    print(eachPrediction , \" : \" , eachProbability)"
      ],
      "metadata": {
        "colab": {
          "base_uri": "https://localhost:8080/"
        },
        "id": "PnTqMxLQQSg5",
        "outputId": "b894904e-85de-45b0-e530-58a7da477b6d"
      },
      "execution_count": 29,
      "outputs": [
        {
          "output_type": "stream",
          "name": "stdout",
          "text": [
            "magpie  :  91.2205\n",
            "jay  :  6.3022\n",
            "water ouzel  :  1.146\n",
            "chickadee  :  0.9807\n",
            "bulbul  :  0.3194\n"
          ]
        }
      ]
    },
    {
      "cell_type": "code",
      "source": [
        "from imageai.Classification import ImageClassification\n",
        "import os\n",
        "\n",
        "execution_path = os.getcwd()\n",
        "\n",
        "prediction = ImageClassification()\n",
        "prediction.setModelTypeAsInceptionV3()\n",
        "prediction.setModelPath(os.path.join(execution_path, \"inception_v3_google-1a9a5a14.pth\"))\n",
        "prediction.loadModel()\n",
        "\n",
        "predictions, probabilities = prediction.classifyImage(os.path.join(execution_path, \"eye.jpg\"), result_count=5 )\n",
        "for eachPrediction, eachProbability in zip(predictions, probabilities):\n",
        "    print(eachPrediction , \" : \" , eachProbability)"
      ],
      "metadata": {
        "colab": {
          "base_uri": "https://localhost:8080/"
        },
        "id": "7X3FOaSCTRpF",
        "outputId": "cc23825c-cd8b-487c-ba92-dc099d3997d6"
      },
      "execution_count": 31,
      "outputs": [
        {
          "output_type": "stream",
          "name": "stdout",
          "text": [
            "coil  :  97.7699\n",
            "analog clock  :  1.1178\n",
            "centipede  :  0.5811\n",
            "electric fan  :  0.0843\n",
            "dome  :  0.0715\n"
          ]
        }
      ]
    },
    {
      "cell_type": "code",
      "source": [
        "from imageai.Classification import ImageClassification\n",
        "import os\n",
        "\n",
        "execution_path = os.getcwd()\n",
        "\n",
        "prediction = ImageClassification()\n",
        "prediction.setModelTypeAsInceptionV3()\n",
        "prediction.setModelPath(os.path.join(execution_path, \"inception_v3_google-1a9a5a14.pth\"))\n",
        "prediction.loadModel()\n",
        "\n",
        "predictions, probabilities = prediction.classifyImage(os.path.join(execution_path, \"giraffe.jpg\"), result_count=5 )\n",
        "for eachPrediction, eachProbability in zip(predictions, probabilities):\n",
        "    print(eachPrediction , \" : \" , eachProbability)"
      ],
      "metadata": {
        "colab": {
          "base_uri": "https://localhost:8080/"
        },
        "id": "282cf3Y-TYe-",
        "outputId": "136a4957-9846-4d76-a646-9e8b97dc5a0a"
      },
      "execution_count": 32,
      "outputs": [
        {
          "output_type": "stream",
          "name": "stdout",
          "text": [
            "zebra  :  53.3407\n",
            "impala  :  27.4812\n",
            "gazelle  :  11.0163\n",
            "hartebeest  :  4.4939\n",
            "leopard  :  0.6465\n"
          ]
        }
      ]
    },
    {
      "cell_type": "code",
      "source": [
        "from imageai.Classification import ImageClassification\n",
        "import os\n",
        "\n",
        "execution_path = os.getcwd()\n",
        "\n",
        "prediction = ImageClassification()\n",
        "prediction.setModelTypeAsInceptionV3()\n",
        "prediction.setModelPath(os.path.join(execution_path, \"inception_v3_google-1a9a5a14.pth\"))\n",
        "prediction.loadModel()\n",
        "\n",
        "predictions, probabilities = prediction.classifyImage(os.path.join(execution_path, \"godzilla.jpg\"), result_count=5 )\n",
        "for eachPrediction, eachProbability in zip(predictions, probabilities):\n",
        "    print(eachPrediction , \" : \" , eachProbability)"
      ],
      "metadata": {
        "colab": {
          "base_uri": "https://localhost:8080/"
        },
        "id": "0rUjSoUNTqvj",
        "outputId": "7e7fefce-4da3-4186-e71b-c7e265e736c0"
      },
      "execution_count": 34,
      "outputs": [
        {
          "output_type": "stream",
          "name": "stdout",
          "text": [
            "common iguana  :  76.6689\n",
            "American alligator  :  22.2129\n",
            "triceratops  :  0.3786\n",
            "Komodo dragon  :  0.2343\n",
            "teddy  :  0.0922\n"
          ]
        }
      ]
    },
    {
      "cell_type": "code",
      "source": [
        "from imageai.Classification import ImageClassification\n",
        "import os\n",
        "\n",
        "execution_path = os.getcwd()\n",
        "\n",
        "prediction = ImageClassification()\n",
        "prediction.setModelTypeAsInceptionV3()\n",
        "prediction.setModelPath(os.path.join(execution_path, \"inception_v3_google-1a9a5a14.pth\"))\n",
        "prediction.loadModel()\n",
        "\n",
        "predictions, probabilities = prediction.classifyImage(os.path.join(execution_path, \"house.jpg\"), result_count=5 )\n",
        "for eachPrediction, eachProbability in zip(predictions, probabilities):\n",
        "    print(eachPrediction , \" : \" , eachProbability)"
      ],
      "metadata": {
        "colab": {
          "base_uri": "https://localhost:8080/"
        },
        "id": "_BuzgnEuTlo9",
        "outputId": "50c20121-d11e-4554-b6f1-ccf90998b948"
      },
      "execution_count": 33,
      "outputs": [
        {
          "output_type": "stream",
          "name": "stdout",
          "text": [
            "boathouse  :  99.9558\n",
            "lakeside  :  0.015\n",
            "beacon  :  0.0122\n",
            "birdhouse  :  0.006\n",
            "thatch  :  0.0032\n"
          ]
        }
      ]
    },
    {
      "cell_type": "markdown",
      "source": [
        "\n",
        "\n",
        "---\n",
        "\n"
      ],
      "metadata": {
        "id": "nJGc2uYNTvbC"
      }
    }
  ]
}