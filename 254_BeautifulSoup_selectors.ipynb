{
  "nbformat": 4,
  "nbformat_minor": 0,
  "metadata": {
    "colab": {
      "provenance": [],
      "authorship_tag": "ABX9TyOpbUKaDLTwgt9GRQR/GH+7",
      "include_colab_link": true
    },
    "kernelspec": {
      "name": "python3",
      "display_name": "Python 3"
    },
    "language_info": {
      "name": "python"
    }
  },
  "cells": [
    {
      "cell_type": "markdown",
      "metadata": {
        "id": "view-in-github",
        "colab_type": "text"
      },
      "source": [
        "<a href=\"https://colab.research.google.com/github/egipot/ZTMPy/blob/main/254_BeautifulSoup_selectors.ipynb\" target=\"_parent\"><img src=\"https://colab.research.google.com/assets/colab-badge.svg\" alt=\"Open In Colab\"/></a>"
      ]
    },
    {
      "cell_type": "code",
      "execution_count": null,
      "metadata": {
        "id": "ci3rtHudpA5z"
      },
      "outputs": [],
      "source": [
        "#https://www.w3schools.com/cssref/css_selectors.php\n",
        "\n"
      ]
    },
    {
      "cell_type": "code",
      "source": [
        "import requests\n",
        "from bs4 import BeautifulSoup\n"
      ],
      "metadata": {
        "id": "4_xVCp5Zp653"
      },
      "execution_count": 1,
      "outputs": []
    },
    {
      "cell_type": "code",
      "source": [
        "res = requests.get('https://news.ycombinator.com/news')\n",
        "soup = BeautifulSoup(res.text, 'html.parser')"
      ],
      "metadata": {
        "id": "Lx6Eb5GsqAW7"
      },
      "execution_count": 2,
      "outputs": []
    },
    {
      "cell_type": "code",
      "source": [
        "#printing a selected class, use the dot (.) notation, to grep all the scores on the page\n",
        "#for this example \"score\" class\n",
        "print(soup.select('.score'))"
      ],
      "metadata": {
        "colab": {
          "base_uri": "https://localhost:8080/"
        },
        "id": "kxTFlrirqJc1",
        "outputId": "54c08d8f-ff92-4ac4-af40-15251a38c64f"
      },
      "execution_count": 3,
      "outputs": [
        {
          "output_type": "stream",
          "name": "stdout",
          "text": [
            "[<span class=\"score\" id=\"score_39592444\">113 points</span>, <span class=\"score\" id=\"score_39590666\">504 points</span>, <span class=\"score\" id=\"score_39591529\">123 points</span>, <span class=\"score\" id=\"score_39592771\">31 points</span>, <span class=\"score\" id=\"score_39592993\">15 points</span>, <span class=\"score\" id=\"score_39592689\">100 points</span>, <span class=\"score\" id=\"score_39591972\">20 points</span>, <span class=\"score\" id=\"score_39579725\">22 points</span>, <span class=\"score\" id=\"score_39589479\">102 points</span>, <span class=\"score\" id=\"score_39588830\">123 points</span>, <span class=\"score\" id=\"score_39591694\">78 points</span>, <span class=\"score\" id=\"score_39593256\">15 points</span>, <span class=\"score\" id=\"score_39593159\">6 points</span>, <span class=\"score\" id=\"score_39592288\">57 points</span>, <span class=\"score\" id=\"score_39586828\">285 points</span>, <span class=\"score\" id=\"score_39592367\">29 points</span>, <span class=\"score\" id=\"score_39588899\">62 points</span>, <span class=\"score\" id=\"score_39589924\">130 points</span>, <span class=\"score\" id=\"score_39578796\">55 points</span>, <span class=\"score\" id=\"score_39591542\">7 points</span>, <span class=\"score\" id=\"score_39592702\">14 points</span>, <span class=\"score\" id=\"score_39587344\">747 points</span>, <span class=\"score\" id=\"score_39575909\">45 points</span>, <span class=\"score\" id=\"score_39589102\">66 points</span>, <span class=\"score\" id=\"score_39575264\">77 points</span>, <span class=\"score\" id=\"score_39588977\">37 points</span>, <span class=\"score\" id=\"score_39590683\">9 points</span>, <span class=\"score\" id=\"score_39587947\">175 points</span>, <span class=\"score\" id=\"score_39589626\">108 points</span>]\n"
          ]
        }
      ]
    },
    {
      "cell_type": "code",
      "source": [
        "#printing a selected ID, use the pound (#) notation, to grep all the scores on the page\n",
        "#for this example, filter \"score_39592444\" among the IDs\n",
        "print(soup.select('#score_39592444'))\n"
      ],
      "metadata": {
        "colab": {
          "base_uri": "https://localhost:8080/"
        },
        "id": "YNLuySSbqfct",
        "outputId": "25602476-1048-4584-eba3-ab6481fa0a74"
      },
      "execution_count": 6,
      "outputs": [
        {
          "output_type": "stream",
          "name": "stdout",
          "text": [
            "[<span class=\"score\" id=\"score_39592444\">113 points</span>]\n"
          ]
        }
      ]
    },
    {
      "cell_type": "code",
      "source": [
        "#grep a link that have more than 100pts or votes\n",
        "#right click, select Inspect == the source code is opened with highlight on the specific equivalent code in HTML\n",
        "\n",
        "print(soup.select('.titleline')[0])"
      ],
      "metadata": {
        "colab": {
          "base_uri": "https://localhost:8080/"
        },
        "id": "yQi6b-yTraF_",
        "outputId": "4c3bf7dc-7bfb-475f-cee3-fe66c57a7510"
      },
      "execution_count": 7,
      "outputs": [
        {
          "output_type": "stream",
          "name": "stdout",
          "text": [
            "<span class=\"titleline\"><a href=\"https://www.hillelwayne.com/post/graph-types/\">The hunt for the missing data type</a><span class=\"sitebit comhead\"> (<a href=\"from?site=hillelwayne.com\"><span class=\"sitestr\">hillelwayne.com</span></a>)</span></span>\n"
          ]
        }
      ]
    },
    {
      "cell_type": "code",
      "source": [
        "print(soup.select('.titleline')[1])"
      ],
      "metadata": {
        "colab": {
          "base_uri": "https://localhost:8080/"
        },
        "id": "eBva_E2vsY29",
        "outputId": "99049cd1-0a3c-41b0-f60e-447c1d4b7c5d"
      },
      "execution_count": 8,
      "outputs": [
        {
          "output_type": "stream",
          "name": "stdout",
          "text": [
            "<span class=\"titleline\"><a href=\"https://www.anthropic.com/news/claude-3-family\">Claude 3 model family</a><span class=\"sitebit comhead\"> (<a href=\"from?site=anthropic.com\"><span class=\"sitestr\">anthropic.com</span></a>)</span></span>\n"
          ]
        }
      ]
    },
    {
      "cell_type": "code",
      "source": [
        "links = soup.select('.titleline')\n",
        "votes = soup.select('.score')"
      ],
      "metadata": {
        "id": "4I-YoZ_ksjqK"
      },
      "execution_count": 9,
      "outputs": []
    },
    {
      "cell_type": "code",
      "source": [
        "links"
      ],
      "metadata": {
        "colab": {
          "base_uri": "https://localhost:8080/"
        },
        "id": "mR3a4Twqs2jx",
        "outputId": "ad582386-7d4f-4259-81d4-a68f746a3b25"
      },
      "execution_count": 10,
      "outputs": [
        {
          "output_type": "execute_result",
          "data": {
            "text/plain": [
              "[<span class=\"titleline\"><a href=\"https://www.hillelwayne.com/post/graph-types/\">The hunt for the missing data type</a><span class=\"sitebit comhead\"> (<a href=\"from?site=hillelwayne.com\"><span class=\"sitestr\">hillelwayne.com</span></a>)</span></span>,\n",
              " <span class=\"titleline\"><a href=\"https://www.anthropic.com/news/claude-3-family\">Claude 3 model family</a><span class=\"sitebit comhead\"> (<a href=\"from?site=anthropic.com\"><span class=\"sitestr\">anthropic.com</span></a>)</span></span>,\n",
              " <span class=\"titleline\"><a href=\"https://astro.sshh.io/\">Show HN: Astro App</a><span class=\"sitebit comhead\"> (<a href=\"from?site=sshh.io\"><span class=\"sitestr\">sshh.io</span></a>)</span></span>,\n",
              " <span class=\"titleline\"><a href=\"https://www.ubicloud.com/blog/improving-network-performance-with-linux-flowtables\">Improving Network Performance with Linux Flowtables</a><span class=\"sitebit comhead\"> (<a href=\"from?site=ubicloud.com\"><span class=\"sitestr\">ubicloud.com</span></a>)</span></span>,\n",
              " <span class=\"titleline\"><a href=\"https://www.surfertoday.com/surfing/the-woman-who-coined-the-expression-surfing-the-internet\">The woman who coined the expression 'Surfing the Internet'</a><span class=\"sitebit comhead\"> (<a href=\"from?site=surfertoday.com\"><span class=\"sitestr\">surfertoday.com</span></a>)</span></span>,\n",
              " <span class=\"titleline\"><a href=\"https://www.tomshardware.com/pc-components/gpus/nvidia-bans-using-translation-layers-for-cuda-software-to-run-on-other-chips-new-restriction-apparently-targets-zluda-and-some-chinese-gpu-makers\">Nvidia bans using translation layers for CUDA software to run on other chips</a><span class=\"sitebit comhead\"> (<a href=\"from?site=tomshardware.com\"><span class=\"sitestr\">tomshardware.com</span></a>)</span></span>,\n",
              " <span class=\"titleline\"><a href=\"item?id=39591972\">Launch HN: Just words (YC W24) – Optimize your product's copy for user growth</a></span>,\n",
              " <span class=\"titleline\"><a href=\"https://skio.com/careers/\">Skio (YC S20) – Subscriptions for Shopify, ReCharge Migrations Is Hiring</a><span class=\"sitebit comhead\"> (<a href=\"from?site=skio.com\"><span class=\"sitestr\">skio.com</span></a>)</span></span>,\n",
              " <span class=\"titleline\"><a href=\"https://www.anandtech.com/show/21276/intel-previews-sierra-forest-with-288-e-cores-announces-granite-rapids-d-for-2025-launch-at-mwc-2024\">Intel Previews Sierra Forest with 288 E-Cores, Announces Granite Rapids-D</a><span class=\"sitebit comhead\"> (<a href=\"from?site=anandtech.com\"><span class=\"sitestr\">anandtech.com</span></a>)</span></span>,\n",
              " <span class=\"titleline\"><a href=\"https://www.youtube.com/watch?v=-C6AcRnUmbE\">I made a bad camera lens from some old glasses [video]</a><span class=\"sitebit comhead\"> (<a href=\"from?site=youtube.com\"><span class=\"sitestr\">youtube.com</span></a>)</span></span>,\n",
              " <span class=\"titleline\"><a href=\"https://mainlymiles.com/2024/03/03/singapore-airlines-concorde-full-story/\">Singapore Airlines Concorde</a><span class=\"sitebit comhead\"> (<a href=\"from?site=mainlymiles.com\"><span class=\"sitestr\">mainlymiles.com</span></a>)</span></span>,\n",
              " <span class=\"titleline\"><a href=\"https://arxiv.org/abs/2311.05063\">Rust for Embedded Systems: Current state, challenges and open problems</a><span class=\"sitebit comhead\"> (<a href=\"from?site=arxiv.org\"><span class=\"sitestr\">arxiv.org</span></a>)</span></span>,\n",
              " <span class=\"titleline\"><a href=\"https://opus-codec.org/demo/opus-1.5/\">Opus 1.5 Released: Opus Gets a Serious Machine Learning Upgrade</a><span class=\"sitebit comhead\"> (<a href=\"from?site=opus-codec.org\"><span class=\"sitestr\">opus-codec.org</span></a>)</span></span>,\n",
              " <span class=\"titleline\"><a href=\"https://joshaustin.tech/blog/java-is-becoming-rust/\" rel=\"nofollow\">Java is becoming more like Rust, and I am here for it</a><span class=\"sitebit comhead\"> (<a href=\"from?site=joshaustin.tech\"><span class=\"sitestr\">joshaustin.tech</span></a>)</span></span>,\n",
              " <span class=\"titleline\"><a href=\"https://www.macstories.net/stories/macpad-how-i-created-the-hybrid-mac-ipad-laptop-and-tablet-that-apple-wont-make/\">MacPad: I Created the Hybrid Mac-iPad Laptop and Tablet That Apple Won't Make</a><span class=\"sitebit comhead\"> (<a href=\"from?site=macstories.net\"><span class=\"sitestr\">macstories.net</span></a>)</span></span>,\n",
              " <span class=\"titleline\"><a href=\"https://www.osar.fr/notes/motionblur/\">Motion blur all the way down (2022)</a><span class=\"sitebit comhead\"> (<a href=\"from?site=osar.fr\"><span class=\"sitestr\">osar.fr</span></a>)</span></span>,\n",
              " <span class=\"titleline\"><a href=\"https://www.nature.com/articles/s41467-024-46116-y\">Effect of gut microbiome modulation on muscle function and cognition</a><span class=\"sitebit comhead\"> (<a href=\"from?site=nature.com\"><span class=\"sitestr\">nature.com</span></a>)</span></span>,\n",
              " <span class=\"titleline\"><a href=\"https://nhigham.com/2022/05/11/what-is-a-schur-decomposition/\">What Is a Schur Decomposition? (2022)</a><span class=\"sitebit comhead\"> (<a href=\"from?site=nhigham.com\"><span class=\"sitestr\">nhigham.com</span></a>)</span></span>,\n",
              " <span class=\"titleline\"><a href=\"https://www.apple.com/newsroom/2024/03/apple-unveils-the-new-13-and-15-inch-macbook-air-with-the-powerful-m3-chip/\">New 13- and 15‑inch MacBook Air with M3 chip</a><span class=\"sitebit comhead\"> (<a href=\"from?site=apple.com\"><span class=\"sitestr\">apple.com</span></a>)</span></span>,\n",
              " <span class=\"titleline\"><a href=\"http://www.velato.net/\">Velato: A programming language where source code must be a valid MIDI music file</a><span class=\"sitebit comhead\"> (<a href=\"from?site=velato.net\"><span class=\"sitestr\">velato.net</span></a>)</span></span>,\n",
              " <span class=\"titleline\"><a href=\"https://developer-friendly.blog/2024/03/03/kubernetes-the-hard-way/\" rel=\"nofollow\">Kubernetes the Hard Way – Vagrant, Ansible, No Cloud</a><span class=\"sitebit comhead\"> (<a href=\"from?site=developer-friendly.blog\"><span class=\"sitestr\">developer-friendly.blog</span></a>)</span></span>,\n",
              " <span class=\"titleline\"><a href=\"https://www.youtube.com/watch?v=Ss7gIs2-hzk\">What we learned from C++ atomics and memory model standardization – Hans-J Boehm [video]</a><span class=\"sitebit comhead\"> (<a href=\"from?site=youtube.com\"><span class=\"sitestr\">youtube.com</span></a>)</span></span>,\n",
              " <span class=\"titleline\"><a href=\"https://heathermeeker.com/2024/02/17/french-court-issues-damages-award-for-violation-of-gpl/\">French court issues damages award for violation of GPL</a><span class=\"sitebit comhead\"> (<a href=\"from?site=heathermeeker.com\"><span class=\"sitestr\">heathermeeker.com</span></a>)</span></span>,\n",
              " <span class=\"titleline\"><a href=\"https://www.themusicman.uk/broken-vintage-piano/\">A broken vintage piano turned into an analog hybrid of 20 instruments</a><span class=\"sitebit comhead\"> (<a href=\"from?site=themusicman.uk\"><span class=\"sitestr\">themusicman.uk</span></a>)</span></span>,\n",
              " <span class=\"titleline\"><a href=\"https://www.quantamagazine.org/the-theorist-who-sees-math-in-art-music-and-writing-20240112/\">A mathematician who finds poetry in math and math in poetry</a><span class=\"sitebit comhead\"> (<a href=\"from?site=quantamagazine.org\"><span class=\"sitestr\">quantamagazine.org</span></a>)</span></span>,\n",
              " <span class=\"titleline\"><a href=\"https://arxiv.org/abs/2402.09090\">A computational approach to emergence in complex multi-level systems</a><span class=\"sitebit comhead\"> (<a href=\"from?site=arxiv.org\"><span class=\"sitestr\">arxiv.org</span></a>)</span></span>,\n",
              " <span class=\"titleline\"><a href=\"https://ieeexplore.ieee.org/abstract/document/6319640\">A windowed graph Fourier transform (2012)</a><span class=\"sitebit comhead\"> (<a href=\"from?site=ieee.org\"><span class=\"sitestr\">ieee.org</span></a>)</span></span>,\n",
              " <span class=\"titleline\"><a href=\"https://github.com/rerun-io/revy\">Revy – proof-of-concept time-travel debugger for the Bevy game engine</a><span class=\"sitebit comhead\"> (<a href=\"from?site=github.com/rerun-io\"><span class=\"sitestr\">github.com/rerun-io</span></a>)</span></span>,\n",
              " <span class=\"titleline\"><a href=\"https://deprogrammaticaipsum.com/twenty-years-is-nothing/\">Twenty years is nothing</a><span class=\"sitebit comhead\"> (<a href=\"from?site=deprogrammaticaipsum.com\"><span class=\"sitestr\">deprogrammaticaipsum.com</span></a>)</span></span>,\n",
              " <span class=\"titleline\"><a href=\"https://www.nature.com/articles/d41586-024-00616-5\">More than 2M research papers have disappeared from the Internet</a><span class=\"sitebit comhead\"> (<a href=\"from?site=nature.com\"><span class=\"sitestr\">nature.com</span></a>)</span></span>]"
            ]
          },
          "metadata": {},
          "execution_count": 10
        }
      ]
    },
    {
      "cell_type": "code",
      "source": [
        "votes"
      ],
      "metadata": {
        "colab": {
          "base_uri": "https://localhost:8080/"
        },
        "id": "cyLbzQrSs5Lr",
        "outputId": "34850819-fca0-45d9-c9a5-58d05de91ae7"
      },
      "execution_count": 11,
      "outputs": [
        {
          "output_type": "execute_result",
          "data": {
            "text/plain": [
              "[<span class=\"score\" id=\"score_39592444\">113 points</span>,\n",
              " <span class=\"score\" id=\"score_39590666\">504 points</span>,\n",
              " <span class=\"score\" id=\"score_39591529\">123 points</span>,\n",
              " <span class=\"score\" id=\"score_39592771\">31 points</span>,\n",
              " <span class=\"score\" id=\"score_39592993\">15 points</span>,\n",
              " <span class=\"score\" id=\"score_39592689\">100 points</span>,\n",
              " <span class=\"score\" id=\"score_39591972\">20 points</span>,\n",
              " <span class=\"score\" id=\"score_39579725\">22 points</span>,\n",
              " <span class=\"score\" id=\"score_39589479\">102 points</span>,\n",
              " <span class=\"score\" id=\"score_39588830\">123 points</span>,\n",
              " <span class=\"score\" id=\"score_39591694\">78 points</span>,\n",
              " <span class=\"score\" id=\"score_39593256\">15 points</span>,\n",
              " <span class=\"score\" id=\"score_39593159\">6 points</span>,\n",
              " <span class=\"score\" id=\"score_39592288\">57 points</span>,\n",
              " <span class=\"score\" id=\"score_39586828\">285 points</span>,\n",
              " <span class=\"score\" id=\"score_39592367\">29 points</span>,\n",
              " <span class=\"score\" id=\"score_39588899\">62 points</span>,\n",
              " <span class=\"score\" id=\"score_39589924\">130 points</span>,\n",
              " <span class=\"score\" id=\"score_39578796\">55 points</span>,\n",
              " <span class=\"score\" id=\"score_39591542\">7 points</span>,\n",
              " <span class=\"score\" id=\"score_39592702\">14 points</span>,\n",
              " <span class=\"score\" id=\"score_39587344\">747 points</span>,\n",
              " <span class=\"score\" id=\"score_39575909\">45 points</span>,\n",
              " <span class=\"score\" id=\"score_39589102\">66 points</span>,\n",
              " <span class=\"score\" id=\"score_39575264\">77 points</span>,\n",
              " <span class=\"score\" id=\"score_39588977\">37 points</span>,\n",
              " <span class=\"score\" id=\"score_39590683\">9 points</span>,\n",
              " <span class=\"score\" id=\"score_39587947\">175 points</span>,\n",
              " <span class=\"score\" id=\"score_39589626\">108 points</span>]"
            ]
          },
          "metadata": {},
          "execution_count": 11
        }
      ]
    },
    {
      "cell_type": "code",
      "source": [
        "votes[0]"
      ],
      "metadata": {
        "colab": {
          "base_uri": "https://localhost:8080/"
        },
        "id": "NR_0Bn3ys60l",
        "outputId": "cb7fc13c-0363-4fa4-8245-559039f6aba6"
      },
      "execution_count": 12,
      "outputs": [
        {
          "output_type": "execute_result",
          "data": {
            "text/plain": [
              "<span class=\"score\" id=\"score_39592444\">113 points</span>"
            ]
          },
          "metadata": {},
          "execution_count": 12
        }
      ]
    },
    {
      "cell_type": "code",
      "source": [
        "votes[0].get('score_39592444')"
      ],
      "metadata": {
        "id": "aXzIEx7NtM_i"
      },
      "execution_count": 14,
      "outputs": []
    },
    {
      "cell_type": "code",
      "source": [
        "#get the exact ID value (for cases that the value is changing frequently)\n",
        "votes[0].get('id')"
      ],
      "metadata": {
        "colab": {
          "base_uri": "https://localhost:8080/",
          "height": 35
        },
        "id": "XGPNGjIItdvO",
        "outputId": "2f253d77-0ea7-4d15-d11c-898ffe9c1b5f"
      },
      "execution_count": 15,
      "outputs": [
        {
          "output_type": "execute_result",
          "data": {
            "text/plain": [
              "'score_39592444'"
            ],
            "application/vnd.google.colaboratory.intrinsic+json": {
              "type": "string"
            }
          },
          "metadata": {},
          "execution_count": 15
        }
      ]
    }
  ]
}