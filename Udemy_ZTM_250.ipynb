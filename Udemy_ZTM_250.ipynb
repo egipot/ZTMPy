{
  "nbformat": 4,
  "nbformat_minor": 0,
  "metadata": {
    "colab": {
      "provenance": [],
      "authorship_tag": "ABX9TyPVlBSsU6WafdUBzpmOjXGQ",
      "include_colab_link": true
    },
    "kernelspec": {
      "name": "python3",
      "display_name": "Python 3"
    },
    "language_info": {
      "name": "python"
    }
  },
  "cells": [
    {
      "cell_type": "markdown",
      "metadata": {
        "id": "view-in-github",
        "colab_type": "text"
      },
      "source": [
        "<a href=\"https://colab.research.google.com/github/egipot/ZTMPy/blob/main/Udemy_ZTM_250.ipynb\" target=\"_parent\"><img src=\"https://colab.research.google.com/assets/colab-badge.svg\" alt=\"Open In Colab\"/></a>"
      ]
    },
    {
      "cell_type": "code",
      "execution_count": 1,
      "metadata": {
        "colab": {
          "base_uri": "https://localhost:8080/",
          "height": 345
        },
        "id": "1CRmyt3iSpYU",
        "outputId": "204eb6fb-a27f-4b90-81dd-3a5b9d31dc6e"
      },
      "outputs": [
        {
          "output_type": "error",
          "ename": "ModuleNotFoundError",
          "evalue": "ignored",
          "traceback": [
            "\u001b[0;31m---------------------------------------------------------------------------\u001b[0m",
            "\u001b[0;31mModuleNotFoundError\u001b[0m                       Traceback (most recent call last)",
            "\u001b[0;32m<ipython-input-1-c9ff8b72564d>\u001b[0m in \u001b[0;36m<cell line: 1>\u001b[0;34m()\u001b[0m\n\u001b[0;32m----> 1\u001b[0;31m \u001b[0;32mimport\u001b[0m \u001b[0mbeautifulsoup4\u001b[0m\u001b[0;34m\u001b[0m\u001b[0;34m\u001b[0m\u001b[0m\n\u001b[0m\u001b[1;32m      2\u001b[0m \u001b[0mprint\u001b[0m\u001b[0;34m(\u001b[0m\u001b[0mbeautifulsoup4\u001b[0m\u001b[0;34m.\u001b[0m\u001b[0m__version__\u001b[0m\u001b[0;34m)\u001b[0m\u001b[0;34m\u001b[0m\u001b[0;34m\u001b[0m\u001b[0m\n",
            "\u001b[0;31mModuleNotFoundError\u001b[0m: No module named 'beautifulsoup4'",
            "",
            "\u001b[0;31m---------------------------------------------------------------------------\u001b[0;32m\nNOTE: If your import is failing due to a missing package, you can\nmanually install dependencies using either !pip or !apt.\n\nTo view examples of installing some common dependencies, click the\n\"Open Examples\" button below.\n\u001b[0;31m---------------------------------------------------------------------------\u001b[0m\n"
          ],
          "errorDetails": {
            "actions": [
              {
                "action": "open_url",
                "actionText": "Open Examples",
                "url": "/notebooks/snippets/importing_libraries.ipynb"
              }
            ]
          }
        }
      ],
      "source": [
        "import beautifulsoup4\n",
        "print(beautifulsoup4.__version__)"
      ]
    },
    {
      "cell_type": "code",
      "source": [
        "pip install beautifulsoup4"
      ],
      "metadata": {
        "colab": {
          "base_uri": "https://localhost:8080/"
        },
        "id": "OeIZMYphTDap",
        "outputId": "99d3c6e7-8578-4a90-96cd-4879719d6dfd"
      },
      "execution_count": 2,
      "outputs": [
        {
          "output_type": "stream",
          "name": "stdout",
          "text": [
            "Requirement already satisfied: beautifulsoup4 in /usr/local/lib/python3.10/dist-packages (4.11.2)\n",
            "Requirement already satisfied: soupsieve>1.2 in /usr/local/lib/python3.10/dist-packages (from beautifulsoup4) (2.5)\n"
          ]
        }
      ]
    },
    {
      "cell_type": "code",
      "source": [
        "import bs4\n",
        "bs4.__version__"
      ],
      "metadata": {
        "colab": {
          "base_uri": "https://localhost:8080/",
          "height": 36
        },
        "id": "2uGJaYPsThIK",
        "outputId": "f5ec350a-c30f-43bd-ee1b-ac2397bad2b4"
      },
      "execution_count": 3,
      "outputs": [
        {
          "output_type": "execute_result",
          "data": {
            "text/plain": [
              "'4.11.2'"
            ],
            "application/vnd.google.colaboratory.intrinsic+json": {
              "type": "string"
            }
          },
          "metadata": {},
          "execution_count": 3
        }
      ]
    },
    {
      "cell_type": "code",
      "source": [
        "pip install requests"
      ],
      "metadata": {
        "colab": {
          "base_uri": "https://localhost:8080/"
        },
        "id": "GCplYb7oTp-Z",
        "outputId": "03c21cf7-5841-41b0-9bb1-89f58b4b770f"
      },
      "execution_count": 4,
      "outputs": [
        {
          "output_type": "stream",
          "name": "stdout",
          "text": [
            "Requirement already satisfied: requests in /usr/local/lib/python3.10/dist-packages (2.31.0)\n",
            "Requirement already satisfied: charset-normalizer<4,>=2 in /usr/local/lib/python3.10/dist-packages (from requests) (3.2.0)\n",
            "Requirement already satisfied: idna<4,>=2.5 in /usr/local/lib/python3.10/dist-packages (from requests) (3.4)\n",
            "Requirement already satisfied: urllib3<3,>=1.21.1 in /usr/local/lib/python3.10/dist-packages (from requests) (2.0.4)\n",
            "Requirement already satisfied: certifi>=2017.4.17 in /usr/local/lib/python3.10/dist-packages (from requests) (2023.7.22)\n"
          ]
        }
      ]
    },
    {
      "cell_type": "code",
      "source": [
        "import requests\n",
        "requests.__version__"
      ],
      "metadata": {
        "colab": {
          "base_uri": "https://localhost:8080/",
          "height": 36
        },
        "id": "HOeBJbQVTzYz",
        "outputId": "5a3ae4df-fe91-4abc-de1d-76fb30369ff3"
      },
      "execution_count": 5,
      "outputs": [
        {
          "output_type": "execute_result",
          "data": {
            "text/plain": [
              "'2.31.0'"
            ],
            "application/vnd.google.colaboratory.intrinsic+json": {
              "type": "string"
            }
          },
          "metadata": {},
          "execution_count": 5
        }
      ]
    },
    {
      "cell_type": "code",
      "source": [
        "from bs4 import BeautifulSoup"
      ],
      "metadata": {
        "id": "_6fA2R5UZrlT"
      },
      "execution_count": 6,
      "outputs": []
    },
    {
      "cell_type": "code",
      "source": [
        "res = requests.get('https://news.ycombinator.com/news')"
      ],
      "metadata": {
        "id": "u3xVRDJmbmGS"
      },
      "execution_count": 7,
      "outputs": []
    },
    {
      "cell_type": "code",
      "source": [
        "res"
      ],
      "metadata": {
        "colab": {
          "base_uri": "https://localhost:8080/"
        },
        "id": "cdY-eanrb-Ze",
        "outputId": "0915ba11-f804-48cf-bfc4-db10e4593eb2"
      },
      "execution_count": 8,
      "outputs": [
        {
          "output_type": "execute_result",
          "data": {
            "text/plain": [
              "<Response [200]>"
            ]
          },
          "metadata": {},
          "execution_count": 8
        }
      ]
    },
    {
      "cell_type": "code",
      "source": [
        "res.text"
      ],
      "metadata": {
        "colab": {
          "base_uri": "https://localhost:8080/",
          "height": 109
        },
        "id": "LuXlH5d8euF9",
        "outputId": "de6371cd-ed0c-4278-c076-62649666f3b7"
      },
      "execution_count": 9,
      "outputs": [
        {
          "output_type": "execute_result",
          "data": {
            "text/plain": [
              "'<html lang=\"en\" op=\"news\"><head><meta name=\"referrer\" content=\"origin\"><meta name=\"viewport\" content=\"width=device-width, initial-scale=1.0\"><link rel=\"stylesheet\" type=\"text/css\" href=\"news.css?SMGYVhiPoR5RtKWDg6AV\">\\n        <link rel=\"shortcut icon\" href=\"favicon.ico\">\\n          <link rel=\"alternate\" type=\"application/rss+xml\" title=\"RSS\" href=\"rss\">\\n        <title>Hacker News</title></head><body><center><table id=\"hnmain\" border=\"0\" cellpadding=\"0\" cellspacing=\"0\" width=\"85%\" bgcolor=\"#f6f6ef\">\\n        <tr><td bgcolor=\"#ff6600\"><table border=\"0\" cellpadding=\"0\" cellspacing=\"0\" width=\"100%\" style=\"padding:2px\"><tr><td style=\"width:18px;padding-right:4px\"><a href=\"https://news.ycombinator.com\"><img src=\"y18.svg\" width=\"18\" height=\"18\" style=\"border:1px white solid; display:block\"></a></td>\\n                  <td style=\"line-height:12pt; height:10px;\"><span class=\"pagetop\"><b class=\"hnname\"><a href=\"news\">Hacker News</a></b>\\n                            <a href=\"newest\">new</a> | <a href=\"front\">past</a> | <a href=\"newcomments\">comments</a> | <a href=\"ask\">ask</a> | <a href=\"show\">show</a> | <a href=\"jobs\">jobs</a> | <a href=\"submit\">submit</a>            </span></td><td style=\"text-align:right;padding-right:4px;\"><span class=\"pagetop\">\\n                              <a href=\"login?goto=news\">login</a>\\n                          </span></td>\\n              </tr></table></td></tr>\\n<tr id=\"pagespace\" title=\"\" style=\"height:10px\"></tr><tr><td><table border=\"0\" cellpadding=\"0\" cellspacing=\"0\">\\n            <tr class=\\'athing\\' id=\\'37462947\\'>\\n      <td align=\"right\" valign=\"top\" class=\"title\"><span class=\"rank\">1.</span></td>      <td valign=\"top\" class=\"votelinks\"><center><a id=\\'up_37462947\\'href=\\'vote?id=37462947&amp;how=up&amp;goto=news\\'><div class=\\'votearrow\\' title=\\'upvote\\'></div></a></center></td><td class=\"title\"><span class=\"titleline\"><a href=\"https://yeokhengmeng.com/2023/09/hdmi-isa-graphics-card-for-vintage-pcs/\" rel=\"noreferrer\">HDMI ISA graphics card for vintage PCs by improving the Graphics Gremlin</a><span class=\"sitebit comhead\"> (<a href=\"from?site=yeokhengmeng.com\"><span class=\"sitestr\">yeokhengmeng.com</span></a>)</span></span></td></tr><tr><td colspan=\"2\"></td><td class=\"subtext\"><span class=\"subline\">\\n          <span class=\"score\" id=\"score_37462947\">72 points</span> by <a href=\"user?id=yeokm1\" class=\"hnuser\">yeokm1</a> <span class=\"age\" title=\"2023-09-11T04:38:28\"><a href=\"item?id=37462947\">4 hours ago</a></span> <span id=\"unv_37462947\"></span> | <a href=\"hide?id=37462947&amp;goto=news\">hide</a> | <a href=\"item?id=37462947\">3&nbsp;comments</a>        </span>\\n              </td></tr>\\n      <tr class=\"spacer\" style=\"height:5px\"></tr>\\n                <tr class=\\'athing\\' id=\\'37462351\\'>\\n      <td align=\"right\" valign=\"top\" class=\"title\"><span class=\"rank\">2.</span></td>      <td valign=\"top\" class=\"votelinks\"><center><a id=\\'up_37462351\\'href=\\'vote?id=37462351&amp;how=up&amp;goto=news\\'><div class=\\'votearrow\\' title=\\'upvote\\'></div></a></center></td><td class=\"title\"><span class=\"titleline\"><a href=\"https://phys.org/news/2023-09-japan-rocket-lunar-lander-x-ray.html\" rel=\"noreferrer\">Japan launches rocket carrying lunar lander and X-ray telescope</a><span class=\"sitebit comhead\"> (<a href=\"from?site=phys.org\"><span class=\"sitestr\">phys.org</span></a>)</span></span></td></tr><tr><td colspan=\"2\"></td><td class=\"subtext\"><span class=\"subline\">\\n          <span class=\"score\" id=\"score_37462351\">72 points</span> by <a href=\"user?id=wglb\" class=\"hnuser\">wglb</a> <span class=\"age\" title=\"2023-09-11T03:00:24\"><a href=\"item?id=37462351\">5 hours ago</a></span> <span id=\"unv_37462351\"></span> | <a href=\"hide?id=37462351&amp;goto=news\">hide</a> | <a href=\"item?id=37462351\">13&nbsp;comments</a>        </span>\\n              </td></tr>\\n      <tr class=\"spacer\" style=\"height:5px\"></tr>\\n                <tr class=\\'athing\\' id=\\'37459495\\'>\\n      <td align=\"right\" valign=\"top\" class=\"title\"><span class=\"rank\">3.</span></td>      <td valign=\"top\" class=\"votelinks\"><center><a id=\\'up_37459495\\'href=\\'vote?id=37459495&amp;how=up&amp;goto=news\\'><div class=\\'votearrow\\' title=\\'upvote\\'></div></a></center></td><td class=\"title\"><span class=\"titleline\"><a href=\"https://dougseven.com/2014/04/17/knightmare-a-devops-cautionary-tale/\" rel=\"noreferrer\">Knightmare: A DevOps Cautionary\\xa0Tale (2014)</a><span class=\"sitebit comhead\"> (<a href=\"from?site=dougseven.com\"><span class=\"sitestr\">dougseven.com</span></a>)</span></span></td></tr><tr><td colspan=\"2\"></td><td class=\"subtext\"><span class=\"subline\">\\n          <span class=\"score\" id=\"score_37459495\">388 points</span> by <a href=\"user?id=sathishmanohar\" class=\"hnuser\">sathishmanohar</a> <span class=\"age\" title=\"2023-09-10T20:07:12\"><a href=\"item?id=37459495\">12 hours ago</a></span> <span id=\"unv_37459495\"></span> | <a href=\"hide?id=37459495&amp;goto=news\">hide</a> | <a href=\"item?id=37459495\">226&nbsp;comments</a>        </span>\\n              </td></tr>\\n      <tr class=\"spacer\" style=\"height:5px\"></tr>\\n                <tr class=\\'athing\\' id=\\'37460815\\'>\\n      <td align=\"right\" valign=\"top\" class=\"title\"><span class=\"rank\">4.</span></td>      <td valign=\"top\" class=\"votelinks\"><center><a id=\\'up_37460815\\'href=\\'vote?id=37460815&amp;how=up&amp;goto=news\\'><div class=\\'votearrow\\' title=\\'upvote\\'></div></a></center></td><td class=\"title\"><span class=\"titleline\"><a href=\"https://benhoyt.com/writings/awk-make/\" rel=\"noreferrer\">The Awk book’s 60-line version of Make</a><span class=\"sitebit comhead\"> (<a href=\"from?site=benhoyt.com\"><span class=\"sitestr\">benhoyt.com</span></a>)</span></span></td></tr><tr><td colspan=\"2\"></td><td class=\"subtext\"><span class=\"subline\">\\n          <span class=\"score\" id=\"score_37460815\">160 points</span> by <a href=\"user?id=nalgeon\" class=\"hnuser\">nalgeon</a> <span class=\"age\" title=\"2023-09-10T22:36:24\"><a href=\"item?id=37460815\">10 hours ago</a></span> <span id=\"unv_37460815\"></span> | <a href=\"hide?id=37460815&amp;goto=news\">hide</a> | <a href=\"item?id=37460815\">31&nbsp;comments</a>        </span>\\n              </td></tr>\\n      <tr class=\"spacer\" style=\"height:5px\"></tr>\\n                <tr class=\\'athing\\' id=\\'37463662\\'>\\n      <td align=\"right\" valign=\"top\" class=\"title\"><span class=\"rank\">5.</span></td>      <td valign=\"top\" class=\"votelinks\"><center><a id=\\'up_37463662\\'href=\\'vote?id=37463662&amp;how=up&amp;goto=news\\'><div class=\\'votearrow\\' title=\\'upvote\\'></div></a></center></td><td class=\"title\"><span class=\"titleline\"><a href=\"https://www.simplemobiletools.com\" rel=\"noreferrer\">A group of open source Android apps without ads and unnecessary permissions</a><span class=\"sitebit comhead\"> (<a href=\"from?site=simplemobiletools.com\"><span class=\"sitestr\">simplemobiletools.com</span></a>)</span></span></td></tr><tr><td colspan=\"2\"></td><td class=\"subtext\"><span class=\"subline\">\\n          <span class=\"score\" id=\"score_37463662\">90 points</span> by <a href=\"user?id=laktak\" class=\"hnuser\">laktak</a> <span class=\"age\" title=\"2023-09-11T06:33:15\"><a href=\"item?id=37463662\">2 hours ago</a></span> <span id=\"unv_37463662\"></span> | <a href=\"hide?id=37463662&amp;goto=news\">hide</a> | <a href=\"item?id=37463662\">36&nbsp;comments</a>        </span>\\n              </td></tr>\\n      <tr class=\"spacer\" style=\"height:5px\"></tr>\\n                <tr class=\\'athing\\' id=\\'37462806\\'>\\n      <td align=\"right\" valign=\"top\" class=\"title\"><span class=\"rank\">6.</span></td>      <td valign=\"top\" class=\"votelinks\"><center><a id=\\'up_37462806\\'href=\\'vote?id=37462806&amp;how=up&amp;goto=news\\'><div class=\\'votearrow\\' title=\\'upvote\\'></div></a></center></td><td class=\"title\"><span class=\"titleline\"><a href=\"https://retrocomputing.stackexchange.com/questions/26083/how-could-early-unix-os-comprise-so-few-lines-of-code\" rel=\"noreferrer\">How could the early Unix OS comprise so few lines of code?</a><span class=\"sitebit comhead\"> (<a href=\"from?site=retrocomputing.stackexchange.com\"><span class=\"sitestr\">retrocomputing.stackexchange.com</span></a>)</span></span></td></tr><tr><td colspan=\"2\"></td><td class=\"subtext\"><span class=\"subline\">\\n          <span class=\"score\" id=\"score_37462806\">32 points</span> by <a href=\"user?id=peter_d_sherman\" class=\"hnuser\">peter_d_sherman</a> <span class=\"age\" title=\"2023-09-11T04:14:53\"><a href=\"item?id=37462806\">4 hours ago</a></span> <span id=\"unv_37462806\"></span> | <a href=\"hide?id=37462806&amp;goto=news\">hide</a> | <a href=\"item?id=37462806\">8&nbsp;comments</a>        </span>\\n              </td></tr>\\n      <tr class=\"spacer\" style=\"height:5px\"></tr>\\n                <tr class=\\'athing\\' id=\\'37459371\\'>\\n      <td align=\"right\" valign=\"top\" class=\"title\"><span class=\"rank\">7.</span></td>      <td valign=\"top\" class=\"votelinks\"><center><a id=\\'up_37459371\\'href=\\'vote?id=37459371&amp;how=up&amp;goto=news\\'><div class=\\'votearrow\\' title=\\'upvote\\'></div></a></center></td><td class=\"title\"><span class=\"titleline\"><a href=\"https://www.usgs.gov/faqs/why-ocean-salty\" rel=\"noreferrer\">Why is the ocean salty? (2022)</a><span class=\"sitebit comhead\"> (<a href=\"from?site=usgs.gov\"><span class=\"sitestr\">usgs.gov</span></a>)</span></span></td></tr><tr><td colspan=\"2\"></td><td class=\"subtext\"><span class=\"subline\">\\n          <span class=\"score\" id=\"score_37459371\">180 points</span> by <a href=\"user?id=thunderbong\" class=\"hnuser\">thunderbong</a> <span class=\"age\" title=\"2023-09-10T19:56:32\"><a href=\"item?id=37459371\">12 hours ago</a></span> <span id=\"unv_37459371\"></span> | <a href=\"hide?id=37459371&amp;goto=news\">hide</a> | <a href=\"item?id=37459371\">140&nbsp;comments</a>        </span>\\n              </td></tr>\\n      <tr class=\"spacer\" style=\"height:5px\"></tr>\\n                <tr class=\\'athing\\' id=\\'37452868\\'>\\n      <td align=\"right\" valign=\"top\" class=\"title\"><span class=\"rank\">8.</span></td>      <td valign=\"top\" class=\"votelinks\"><center><a id=\\'up_37452868\\'href=\\'vote?id=37452868&amp;how=up&amp;goto=news\\'><div class=\\'votearrow\\' title=\\'upvote\\'></div></a></center></td><td class=\"title\"><span class=\"titleline\"><a href=\"https://publicdomainreview.org/collection/madame-b-album/\" rel=\"nofollow noreferrer\">The “Madame B Album” (ca. 1870s)</a><span class=\"sitebit comhead\"> (<a href=\"from?site=publicdomainreview.org\"><span class=\"sitestr\">publicdomainreview.org</span></a>)</span></span></td></tr><tr><td colspan=\"2\"></td><td class=\"subtext\"><span class=\"subline\">\\n          <span class=\"score\" id=\"score_37452868\">4 points</span> by <a href=\"user?id=prismatic\" class=\"hnuser\">prismatic</a> <span class=\"age\" title=\"2023-09-10T04:18:36\"><a href=\"item?id=37452868\">1 hour ago</a></span> <span id=\"unv_37452868\"></span> | <a href=\"hide?id=37452868&amp;goto=news\">hide</a> | <a href=\"item?id=37452868\">discuss</a>        </span>\\n              </td></tr>\\n      <tr class=\"spacer\" style=\"height:5px\"></tr>\\n                <tr class=\\'athing\\' id=\\'37463864\\'>\\n      <td align=\"right\" valign=\"top\" class=\"title\"><span class=\"rank\">9.</span></td>      <td><img src=\"s.gif\" height=\"1\" width=\"14\"></td>       <td class=\"title\"><span class=\"titleline\"><a href=\"item?id=37463864\">Meticulous (YC S21) Is Hiring #3 engineer to build AI for testing</a></span></td></tr><tr><td colspan=\"2\"></td><td class=\"subtext\">\\n        <span class=\"age\" title=\"2023-09-11T07:01:04\"><a href=\"item?id=37463864\">1 hour ago</a></span> | <a href=\"hide?id=37463864&amp;goto=news\">hide</a>      </td></tr>\\n      <tr class=\"spacer\" style=\"height:5px\"></tr>\\n                <tr class=\\'athing\\' id=\\'37460614\\'>\\n      <td align=\"right\" valign=\"top\" class=\"title\"><span class=\"rank\">10.</span></td>      <td valign=\"top\" class=\"votelinks\"><center><a id=\\'up_37460614\\'href=\\'vote?id=37460614&amp;how=up&amp;goto=news\\'><div class=\\'votearrow\\' title=\\'upvote\\'></div></a></center></td><td class=\"title\"><span class=\"titleline\"><a href=\"https://popovicu.com/posts/risc-v-sbi-and-full-boot-process/\" rel=\"noreferrer\">RISC-V SBI and the full boot process</a><span class=\"sitebit comhead\"> (<a href=\"from?site=popovicu.com\"><span class=\"sitestr\">popovicu.com</span></a>)</span></span></td></tr><tr><td colspan=\"2\"></td><td class=\"subtext\"><span class=\"subline\">\\n          <span class=\"score\" id=\"score_37460614\">92 points</span> by <a href=\"user?id=snvzz\" class=\"hnuser\">snvzz</a> <span class=\"age\" title=\"2023-09-10T22:10:09\"><a href=\"item?id=37460614\">10 hours ago</a></span> <span id=\"unv_37460614\"></span> | <a href=\"hide?id=37460614&amp;goto=news\">hide</a> | <a href=\"item?id=37460614\">16&nbsp;comments</a>        </span>\\n              </td></tr>\\n      <tr class=\"spacer\" style=\"height:5px\"></tr>\\n                <tr class=\\'athing\\' id=\\'37461449\\'>\\n      <td align=\"right\" valign=\"top\" class=\"title\"><span class=\"rank\">11.</span></td>      <td valign=\"top\" class=\"votelinks\"><center><a id=\\'up_37461449\\'href=\\'vote?id=37461449&amp;how=up&amp;goto=news\\'><div class=\\'votearrow\\' title=\\'upvote\\'></div></a></center></td><td class=\"title\"><span class=\"titleline\"><a href=\"https://www.ctrl.blog/entry/windows-system-components-default-edge.html\" rel=\"noreferrer\">Microsoft has not stopped forcing Edge on Windows 11 users</a><span class=\"sitebit comhead\"> (<a href=\"from?site=ctrl.blog\"><span class=\"sitestr\">ctrl.blog</span></a>)</span></span></td></tr><tr><td colspan=\"2\"></td><td class=\"subtext\"><span class=\"subline\">\\n          <span class=\"score\" id=\"score_37461449\">445 points</span> by <a href=\"user?id=extr0pian\" class=\"hnuser\">extr0pian</a> <span class=\"age\" title=\"2023-09-11T00:25:04\"><a href=\"item?id=37461449\">8 hours ago</a></span> <span id=\"unv_37461449\"></span> | <a href=\"hide?id=37461449&amp;goto=news\">hide</a> | <a href=\"item?id=37461449\">251&nbsp;comments</a>        </span>\\n              </td></tr>\\n      <tr class=\"spacer\" style=\"height:5px\"></tr>\\n                <tr class=\\'athing\\' id=\\'37459341\\'>\\n      <td align=\"right\" valign=\"top\" class=\"title\"><span class=\"rank\">12.</span></td>      <td valign=\"top\" class=\"votelinks\"><center><a id=\\'up_37459341\\'href=\\'vote?id=37459341&amp;how=up&amp;goto=news\\'><div class=\\'votearrow\\' title=\\'upvote\\'></div></a></center></td><td class=\"title\"><span class=\"titleline\"><a href=\"https://designsystem.digital.gov/\" rel=\"noreferrer\">A design system for the federal government</a><span class=\"sitebit comhead\"> (<a href=\"from?site=digital.gov\"><span class=\"sitestr\">digital.gov</span></a>)</span></span></td></tr><tr><td colspan=\"2\"></td><td class=\"subtext\"><span class=\"subline\">\\n          <span class=\"score\" id=\"score_37459341\">124 points</span> by <a href=\"user?id=galaxyLogic\" class=\"hnuser\">galaxyLogic</a> <span class=\"age\" title=\"2023-09-10T19:53:14\"><a href=\"item?id=37459341\">12 hours ago</a></span> <span id=\"unv_37459341\"></span> | <a href=\"hide?id=37459341&amp;goto=news\">hide</a> | <a href=\"item?id=37459341\">53&nbsp;comments</a>        </span>\\n              </td></tr>\\n      <tr class=\"spacer\" style=\"height:5px\"></tr>\\n                <tr class=\\'athing\\' id=\\'37462125\\'>\\n      <td align=\"right\" valign=\"top\" class=\"title\"><span class=\"rank\">13.</span></td>      <td valign=\"top\" class=\"votelinks\"><center><a id=\\'up_37462125\\'href=\\'vote?id=37462125&amp;how=up&amp;goto=news\\'><div class=\\'votearrow\\' title=\\'upvote\\'></div></a></center></td><td class=\"title\"><span class=\"titleline\"><a href=\"https://github.com/Yifan-Song793/RestGPT\">RestGPT</a><span class=\"sitebit comhead\"> (<a href=\"from?site=github.com/yifan-song793\"><span class=\"sitestr\">github.com/yifan-song793</span></a>)</span></span></td></tr><tr><td colspan=\"2\"></td><td class=\"subtext\"><span class=\"subline\">\\n          <span class=\"score\" id=\"score_37462125\">133 points</span> by <a href=\"user?id=omarfarooq\" class=\"hnuser\">omarfarooq</a> <span class=\"age\" title=\"2023-09-11T02:22:45\"><a href=\"item?id=37462125\">6 hours ago</a></span> <span id=\"unv_37462125\"></span> | <a href=\"hide?id=37462125&amp;goto=news\">hide</a> | <a href=\"item?id=37462125\">33&nbsp;comments</a>        </span>\\n              </td></tr>\\n      <tr class=\"spacer\" style=\"height:5px\"></tr>\\n                <tr class=\\'athing\\' id=\\'37461489\\'>\\n      <td align=\"right\" valign=\"top\" class=\"title\"><span class=\"rank\">14.</span></td>      <td valign=\"top\" class=\"votelinks\"><center><a id=\\'up_37461489\\'href=\\'vote?id=37461489&amp;how=up&amp;goto=news\\'><div class=\\'votearrow\\' title=\\'upvote\\'></div></a></center></td><td class=\"title\"><span class=\"titleline\"><a href=\"https://lwn.net/Articles/940973/\" rel=\"noreferrer\">A more dynamic software I&#x2F;O TLB</a><span class=\"sitebit comhead\"> (<a href=\"from?site=lwn.net\"><span class=\"sitestr\">lwn.net</span></a>)</span></span></td></tr><tr><td colspan=\"2\"></td><td class=\"subtext\"><span class=\"subline\">\\n          <span class=\"score\" id=\"score_37461489\">50 points</span> by <a href=\"user?id=mfiguiere\" class=\"hnuser\">mfiguiere</a> <span class=\"age\" title=\"2023-09-11T00:33:17\"><a href=\"item?id=37461489\">8 hours ago</a></span> <span id=\"unv_37461489\"></span> | <a href=\"hide?id=37461489&amp;goto=news\">hide</a> | <a href=\"item?id=37461489\">1&nbsp;comment</a>        </span>\\n              </td></tr>\\n      <tr class=\"spacer\" style=\"height:5px\"></tr>\\n                <tr class=\\'athing\\' id=\\'37444095\\'>\\n      <td align=\"right\" valign=\"top\" class=\"title\"><span class=\"rank\">15.</span></td>      <td valign=\"top\" class=\"votelinks\"><center><a id=\\'up_37444095\\'href=\\'vote?id=37444095&amp;how=up&amp;goto=news\\'><div class=\\'votearrow\\' title=\\'upvote\\'></div></a></center></td><td class=\"title\"><span class=\"titleline\"><a href=\"https://hamimports.com/\" rel=\"noreferrer\">Ham Imports</a><span class=\"sitebit comhead\"> (<a href=\"from?site=hamimports.com\"><span class=\"sitestr\">hamimports.com</span></a>)</span></span></td></tr><tr><td colspan=\"2\"></td><td class=\"subtext\"><span class=\"subline\">\\n          <span class=\"score\" id=\"score_37444095\">48 points</span> by <a href=\"user?id=thcipriani\" class=\"hnuser\">thcipriani</a> <span class=\"age\" title=\"2023-09-09T11:17:36\"><a href=\"item?id=37444095\">7 hours ago</a></span> <span id=\"unv_37444095\"></span> | <a href=\"hide?id=37444095&amp;goto=news\">hide</a> | <a href=\"item?id=37444095\">12&nbsp;comments</a>        </span>\\n              </td></tr>\\n      <tr class=\"spacer\" style=\"height:5px\"></tr>\\n                <tr class=\\'athing\\' id=\\'37447163\\'>\\n      <td align=\"right\" valign=\"top\" class=\"title\"><span class=\"rank\">16.</span></td>      <td valign=\"top\" class=\"votelinks\"><center><a id=\\'up_37447163\\'href=\\'vote?id=37447163&amp;how=up&amp;goto=news\\'><div class=\\'votearrow\\' title=\\'upvote\\'></div></a></center></td><td class=\"title\"><span class=\"titleline\"><a href=\"https://www.thelancet.com/journals/landig/article/PIIS2589-75002200111-X/fulltext\" rel=\"noreferrer\">Effectiveness of wearable activity trackers to increase physical activity</a><span class=\"sitebit comhead\"> (<a href=\"from?site=thelancet.com\"><span class=\"sitestr\">thelancet.com</span></a>)</span></span></td></tr><tr><td colspan=\"2\"></td><td class=\"subtext\"><span class=\"subline\">\\n          <span class=\"score\" id=\"score_37447163\">152 points</span> by <a href=\"user?id=lxm\" class=\"hnuser\">lxm</a> <span class=\"age\" title=\"2023-09-09T16:29:02\"><a href=\"item?id=37447163\">13 hours ago</a></span> <span id=\"unv_37447163\"></span> | <a href=\"hide?id=37447163&amp;goto=news\">hide</a> | <a href=\"item?id=37447163\">77&nbsp;comments</a>        </span>\\n              </td></tr>\\n      <tr class=\"spacer\" style=\"height:5px\"></tr>\\n                <tr class=\\'athing\\' id=\\'37426601\\'>\\n      <td align=\"right\" valign=\"top\" class=\"title\"><span class=\"rank\">17.</span></td>      <td valign=\"top\" class=\"votelinks\"><center><a id=\\'up_37426601\\'href=\\'vote?id=37426601&amp;how=up&amp;goto=news\\'><div class=\\'votearrow\\' title=\\'upvote\\'></div></a></center></td><td class=\"title\"><span class=\"titleline\"><a href=\"https://www.frontiersin.org/articles/10.3389/fncel.2023.1220030/full\" rel=\"noreferrer\">The computational power of the human brain</a><span class=\"sitebit comhead\"> (<a href=\"from?site=frontiersin.org\"><span class=\"sitestr\">frontiersin.org</span></a>)</span></span></td></tr><tr><td colspan=\"2\"></td><td class=\"subtext\"><span class=\"subline\">\\n          <span class=\"score\" id=\"score_37426601\">47 points</span> by <a href=\"user?id=geox\" class=\"hnuser\">geox</a> <span class=\"age\" title=\"2023-09-07T22:39:18\"><a href=\"item?id=37426601\">8 hours ago</a></span> <span id=\"unv_37426601\"></span> | <a href=\"hide?id=37426601&amp;goto=news\">hide</a> | <a href=\"item?id=37426601\">28&nbsp;comments</a>        </span>\\n              </td></tr>\\n      <tr class=\"spacer\" style=\"height:5px\"></tr>\\n                <tr class=\\'athing\\' id=\\'37458753\\'>\\n      <td align=\"right\" valign=\"top\" class=\"title\"><span class=\"rank\">18.</span></td>      <td valign=\"top\" class=\"votelinks\"><center><a id=\\'up_37458753\\'href=\\'vote?id=37458753&amp;how=up&amp;goto=news\\'><div class=\\'votearrow\\' title=\\'upvote\\'></div></a></center></td><td class=\"title\"><span class=\"titleline\"><a href=\"https://www.nrel.gov/news/program/2023/battery-electric-fishing-vessel-marks-a-sea-change-for-small-commercial-fishers.html\" rel=\"noreferrer\">Battery-electric fishing vessel marks a sea change for small commercial fishers</a><span class=\"sitebit comhead\"> (<a href=\"from?site=nrel.gov\"><span class=\"sitestr\">nrel.gov</span></a>)</span></span></td></tr><tr><td colspan=\"2\"></td><td class=\"subtext\"><span class=\"subline\">\\n          <span class=\"score\" id=\"score_37458753\">79 points</span> by <a href=\"user?id=geox\" class=\"hnuser\">geox</a> <span class=\"age\" title=\"2023-09-10T18:48:07\"><a href=\"item?id=37458753\">14 hours ago</a></span> <span id=\"unv_37458753\"></span> | <a href=\"hide?id=37458753&amp;goto=news\">hide</a> | <a href=\"item?id=37458753\">57&nbsp;comments</a>        </span>\\n              </td></tr>\\n      <tr class=\"spacer\" style=\"height:5px\"></tr>\\n                <tr class=\\'athing\\' id=\\'37439732\\'>\\n      <td align=\"right\" valign=\"top\" class=\"title\"><span class=\"rank\">19.</span></td>      <td valign=\"top\" class=\"votelinks\"><center><a id=\\'up_37439732\\'href=\\'vote?id=37439732&amp;how=up&amp;goto=news\\'><div class=\\'votearrow\\' title=\\'upvote\\'></div></a></center></td><td class=\"title\"><span class=\"titleline\"><a href=\"https://daily.jstor.org/the-carrington-event-of-1859-disrupted-telegraph-lines/\" rel=\"noreferrer\">The Carrington Event of 1859 and the Potential for a “Miyake Event”</a><span class=\"sitebit comhead\"> (<a href=\"from?site=jstor.org\"><span class=\"sitestr\">jstor.org</span></a>)</span></span></td></tr><tr><td colspan=\"2\"></td><td class=\"subtext\"><span class=\"subline\">\\n          <span class=\"score\" id=\"score_37439732\">48 points</span> by <a href=\"user?id=Thevet\" class=\"hnuser\">Thevet</a> <span class=\"age\" title=\"2023-09-08T21:35:46\"><a href=\"item?id=37439732\">9 hours ago</a></span> <span id=\"unv_37439732\"></span> | <a href=\"hide?id=37439732&amp;goto=news\">hide</a> | <a href=\"item?id=37439732\">2&nbsp;comments</a>        </span>\\n              </td></tr>\\n      <tr class=\"spacer\" style=\"height:5px\"></tr>\\n                <tr class=\\'athing\\' id=\\'37452210\\'>\\n      <td align=\"right\" valign=\"top\" class=\"title\"><span class=\"rank\">20.</span></td>      <td valign=\"top\" class=\"votelinks\"><center><a id=\\'up_37452210\\'href=\\'vote?id=37452210&amp;how=up&amp;goto=news\\'><div class=\\'votearrow\\' title=\\'upvote\\'></div></a></center></td><td class=\"title\"><span class=\"titleline\"><a href=\"https://github.com/ChimeHQ/TextViewBenchmark\">TextViewBenchmark: A suite of performance tests for macOS text views</a><span class=\"sitebit comhead\"> (<a href=\"from?site=github.com/chimehq\"><span class=\"sitestr\">github.com/chimehq</span></a>)</span></span></td></tr><tr><td colspan=\"2\"></td><td class=\"subtext\"><span class=\"subline\">\\n          <span class=\"score\" id=\"score_37452210\">20 points</span> by <a href=\"user?id=zdw\" class=\"hnuser\">zdw</a> <span class=\"age\" title=\"2023-09-10T01:57:59\"><a href=\"item?id=37452210\">6 hours ago</a></span> <span id=\"unv_37452210\"></span> | <a href=\"hide?id=37452210&amp;goto=news\">hide</a> | <a href=\"item?id=37452210\">discuss</a>        </span>\\n              </td></tr>\\n      <tr class=\"spacer\" style=\"height:5px\"></tr>\\n                <tr class=\\'athing\\' id=\\'37457426\\'>\\n      <td align=\"right\" valign=\"top\" class=\"title\"><span class=\"rank\">21.</span></td>      <td valign=\"top\" class=\"votelinks\"><center><a id=\\'up_37457426\\'href=\\'vote?id=37457426&amp;how=up&amp;goto=news\\'><div class=\\'votearrow\\' title=\\'upvote\\'></div></a></center></td><td class=\"title\"><span class=\"titleline\"><a href=\"https://arxiv.org/abs/2309.00610\" rel=\"noreferrer\">CityDreamer: Compositional Generative Model of Unbounded 3D Cities</a><span class=\"sitebit comhead\"> (<a href=\"from?site=arxiv.org\"><span class=\"sitestr\">arxiv.org</span></a>)</span></span></td></tr><tr><td colspan=\"2\"></td><td class=\"subtext\"><span class=\"subline\">\\n          <span class=\"score\" id=\"score_37457426\">18 points</span> by <a href=\"user?id=PaulHoule\" class=\"hnuser\">PaulHoule</a> <span class=\"age\" title=\"2023-09-10T16:31:04\"><a href=\"item?id=37457426\">5 hours ago</a></span> <span id=\"unv_37457426\"></span> | <a href=\"hide?id=37457426&amp;goto=news\">hide</a> | <a href=\"item?id=37457426\">3&nbsp;comments</a>        </span>\\n              </td></tr>\\n      <tr class=\"spacer\" style=\"height:5px\"></tr>\\n                <tr class=\\'athing\\' id=\\'37459829\\'>\\n      <td align=\"right\" valign=\"top\" class=\"title\"><span class=\"rank\">22.</span></td>      <td valign=\"top\" class=\"votelinks\"><center><a id=\\'up_37459829\\'href=\\'vote?id=37459829&amp;how=up&amp;goto=news\\'><div class=\\'votearrow\\' title=\\'upvote\\'></div></a></center></td><td class=\"title\"><span class=\"titleline\"><a href=\"https://tmikov.blogspot.com/2023/09/how-to-speed-up-micro-benchmark-300x.html\" rel=\"noreferrer\">Static Hermes: Compile JavaScript to speed it up 300x (in microbenchmarks)</a><span class=\"sitebit comhead\"> (<a href=\"from?site=tmikov.blogspot.com\"><span class=\"sitestr\">tmikov.blogspot.com</span></a>)</span></span></td></tr><tr><td colspan=\"2\"></td><td class=\"subtext\"><span class=\"subline\">\\n          <span class=\"score\" id=\"score_37459829\">77 points</span> by <a href=\"user?id=unchar1\" class=\"hnuser\">unchar1</a> <span class=\"age\" title=\"2023-09-10T20:38:34\"><a href=\"item?id=37459829\">12 hours ago</a></span> <span id=\"unv_37459829\"></span> | <a href=\"hide?id=37459829&amp;goto=news\">hide</a> | <a href=\"item?id=37459829\">11&nbsp;comments</a>        </span>\\n              </td></tr>\\n      <tr class=\"spacer\" style=\"height:5px\"></tr>\\n                <tr class=\\'athing\\' id=\\'37460941\\'>\\n      <td align=\"right\" valign=\"top\" class=\"title\"><span class=\"rank\">23.</span></td>      <td valign=\"top\" class=\"votelinks\"><center><a id=\\'up_37460941\\'href=\\'vote?id=37460941&amp;how=up&amp;goto=news\\'><div class=\\'votearrow\\' title=\\'upvote\\'></div></a></center></td><td class=\"title\"><span class=\"titleline\"><a href=\"https://www.greenbuildinglawupdate.com/2020/11/articles/environmental/to-make-dishwashers-great-again/\" rel=\"noreferrer\">To make dishwashers great again? (2020)</a><span class=\"sitebit comhead\"> (<a href=\"from?site=greenbuildinglawupdate.com\"><span class=\"sitestr\">greenbuildinglawupdate.com</span></a>)</span></span></td></tr><tr><td colspan=\"2\"></td><td class=\"subtext\"><span class=\"subline\">\\n          <span class=\"score\" id=\"score_37460941\">85 points</span> by <a href=\"user?id=MichaelZuo\" class=\"hnuser\">MichaelZuo</a> <span class=\"age\" title=\"2023-09-10T22:57:00\"><a href=\"item?id=37460941\">9 hours ago</a></span> <span id=\"unv_37460941\"></span> | <a href=\"hide?id=37460941&amp;goto=news\">hide</a> | <a href=\"item?id=37460941\">358&nbsp;comments</a>        </span>\\n              </td></tr>\\n      <tr class=\"spacer\" style=\"height:5px\"></tr>\\n                <tr class=\\'athing\\' id=\\'37420834\\'>\\n      <td align=\"right\" valign=\"top\" class=\"title\"><span class=\"rank\">24.</span></td>      <td valign=\"top\" class=\"votelinks\"><center><a id=\\'up_37420834\\'href=\\'vote?id=37420834&amp;how=up&amp;goto=news\\'><div class=\\'votearrow\\' title=\\'upvote\\'></div></a></center></td><td class=\"title\"><span class=\"titleline\"><a href=\"https://www.historytoday.com/archive/great-debates/signs-zodiac-dendera-dating-controversy\" rel=\"noreferrer\">The Dendera Dating Controversy</a><span class=\"sitebit comhead\"> (<a href=\"from?site=historytoday.com\"><span class=\"sitestr\">historytoday.com</span></a>)</span></span></td></tr><tr><td colspan=\"2\"></td><td class=\"subtext\"><span class=\"subline\">\\n          <span class=\"score\" id=\"score_37420834\">41 points</span> by <a href=\"user?id=samizdis\" class=\"hnuser\">samizdis</a> <span class=\"age\" title=\"2023-09-07T15:53:34\"><a href=\"item?id=37420834\">11 hours ago</a></span> <span id=\"unv_37420834\"></span> | <a href=\"hide?id=37420834&amp;goto=news\">hide</a> | <a href=\"item?id=37420834\">31&nbsp;comments</a>        </span>\\n              </td></tr>\\n      <tr class=\"spacer\" style=\"height:5px\"></tr>\\n                <tr class=\\'athing\\' id=\\'37463310\\'>\\n      <td align=\"right\" valign=\"top\" class=\"title\"><span class=\"rank\">25.</span></td>      <td valign=\"top\" class=\"votelinks\"><center><a id=\\'up_37463310\\'href=\\'vote?id=37463310&amp;how=up&amp;goto=news\\'><div class=\\'votearrow\\' title=\\'upvote\\'></div></a></center></td><td class=\"title\"><span class=\"titleline\"><a href=\"https://github.com/orgs/community/discussions/57851\">GitHub education pack requesting real name on public profile</a><span class=\"sitebit comhead\"> (<a href=\"from?site=github.com/orgs\"><span class=\"sitestr\">github.com/orgs</span></a>)</span></span></td></tr><tr><td colspan=\"2\"></td><td class=\"subtext\"><span class=\"subline\">\\n          <span class=\"score\" id=\"score_37463310\">30 points</span> by <a href=\"user?id=fernvenue\" class=\"hnuser\">fernvenue</a> <span class=\"age\" title=\"2023-09-11T05:40:36\"><a href=\"item?id=37463310\">3 hours ago</a></span> <span id=\"unv_37463310\"></span> | <a href=\"hide?id=37463310&amp;goto=news\">hide</a> | <a href=\"item?id=37463310\">1&nbsp;comment</a>        </span>\\n              </td></tr>\\n      <tr class=\"spacer\" style=\"height:5px\"></tr>\\n                <tr class=\\'athing\\' id=\\'37456471\\'>\\n      <td align=\"right\" valign=\"top\" class=\"title\"><span class=\"rank\">26.</span></td>      <td valign=\"top\" class=\"votelinks\"><center><a id=\\'up_37456471\\'href=\\'vote?id=37456471&amp;how=up&amp;goto=news\\'><div class=\\'votearrow\\' title=\\'upvote\\'></div></a></center></td><td class=\"title\"><span class=\"titleline\"><a href=\"https://github.com/eduard-permyakov/peredvizhnikov-engine\">Peredvizhnikov Engine: Lock-free game engine written in C++20</a><span class=\"sitebit comhead\"> (<a href=\"from?site=github.com/eduard-permyakov\"><span class=\"sitestr\">github.com/eduard-permyakov</span></a>)</span></span></td></tr><tr><td colspan=\"2\"></td><td class=\"subtext\"><span class=\"subline\">\\n          <span class=\"score\" id=\"score_37456471\">332 points</span> by <a href=\"user?id=gjvc\" class=\"hnuser\">gjvc</a> <span class=\"age\" title=\"2023-09-10T15:03:53\"><a href=\"item?id=37456471\">17 hours ago</a></span> <span id=\"unv_37456471\"></span> | <a href=\"hide?id=37456471&amp;goto=news\">hide</a> | <a href=\"item?id=37456471\">152&nbsp;comments</a>        </span>\\n              </td></tr>\\n      <tr class=\"spacer\" style=\"height:5px\"></tr>\\n                <tr class=\\'athing\\' id=\\'37444411\\'>\\n      <td align=\"right\" valign=\"top\" class=\"title\"><span class=\"rank\">27.</span></td>      <td valign=\"top\" class=\"votelinks\"><center><a id=\\'up_37444411\\'href=\\'vote?id=37444411&amp;how=up&amp;goto=news\\'><div class=\\'votearrow\\' title=\\'upvote\\'></div></a></center></td><td class=\"title\"><span class=\"titleline\"><a href=\"https://github.com/definitive-io/code-indexer-loop\">Show HN: Code Indexer Loop</a><span class=\"sitebit comhead\"> (<a href=\"from?site=github.com/definitive-io\"><span class=\"sitestr\">github.com/definitive-io</span></a>)</span></span></td></tr><tr><td colspan=\"2\"></td><td class=\"subtext\"><span class=\"subline\">\\n          <span class=\"score\" id=\"score_37444411\">14 points</span> by <a href=\"user?id=ricklamers\" class=\"hnuser\">ricklamers</a> <span class=\"age\" title=\"2023-09-09T12:11:08\"><a href=\"item?id=37444411\">6 hours ago</a></span> <span id=\"unv_37444411\"></span> | <a href=\"hide?id=37444411&amp;goto=news\">hide</a> | <a href=\"item?id=37444411\">2&nbsp;comments</a>        </span>\\n              </td></tr>\\n      <tr class=\"spacer\" style=\"height:5px\"></tr>\\n                <tr class=\\'athing\\' id=\\'37462315\\'>\\n      <td align=\"right\" valign=\"top\" class=\"title\"><span class=\"rank\">28.</span></td>      <td valign=\"top\" class=\"votelinks\"><center><a id=\\'up_37462315\\'href=\\'vote?id=37462315&amp;how=up&amp;goto=news\\'><div class=\\'votearrow\\' title=\\'upvote\\'></div></a></center></td><td class=\"title\"><span class=\"titleline\"><a href=\"https://ashen.earth/wasm-game-of-life-2\" rel=\"noreferrer\">Pure WASM Life 2: Optimizing WebAssembly and Canvas</a><span class=\"sitebit comhead\"> (<a href=\"from?site=ashen.earth\"><span class=\"sitestr\">ashen.earth</span></a>)</span></span></td></tr><tr><td colspan=\"2\"></td><td class=\"subtext\"><span class=\"subline\">\\n          <span class=\"score\" id=\"score_37462315\">31 points</span> by <a href=\"user?id=todsacerdoti\" class=\"hnuser\">todsacerdoti</a> <span class=\"age\" title=\"2023-09-11T02:53:09\"><a href=\"item?id=37462315\">5 hours ago</a></span> <span id=\"unv_37462315\"></span> | <a href=\"hide?id=37462315&amp;goto=news\">hide</a> | <a href=\"item?id=37462315\">1&nbsp;comment</a>        </span>\\n              </td></tr>\\n      <tr class=\"spacer\" style=\"height:5px\"></tr>\\n                <tr class=\\'athing\\' id=\\'37460236\\'>\\n      <td align=\"right\" valign=\"top\" class=\"title\"><span class=\"rank\">29.</span></td>      <td valign=\"top\" class=\"votelinks\"><center><a id=\\'up_37460236\\'href=\\'vote?id=37460236&amp;how=up&amp;goto=news\\'><div class=\\'votearrow\\' title=\\'upvote\\'></div></a></center></td><td class=\"title\"><span class=\"titleline\"><a href=\"https://justhistoryposts.com/2023/09/05/historical-objects-the-bees-of-childeric-i/\" rel=\"noreferrer\">Historical Objects: The Bees of Childeric I</a><span class=\"sitebit comhead\"> (<a href=\"from?site=justhistoryposts.com\"><span class=\"sitestr\">justhistoryposts.com</span></a>)</span></span></td></tr><tr><td colspan=\"2\"></td><td class=\"subtext\"><span class=\"subline\">\\n          <span class=\"score\" id=\"score_37460236\">25 points</span> by <a href=\"user?id=benbreen\" class=\"hnuser\">benbreen</a> <span class=\"age\" title=\"2023-09-10T21:26:06\"><a href=\"item?id=37460236\">8 hours ago</a></span> <span id=\"unv_37460236\"></span> | <a href=\"hide?id=37460236&amp;goto=news\">hide</a> | <a href=\"item?id=37460236\">1&nbsp;comment</a>        </span>\\n              </td></tr>\\n      <tr class=\"spacer\" style=\"height:5px\"></tr>\\n                <tr class=\\'athing\\' id=\\'37453854\\'>\\n      <td align=\"right\" valign=\"top\" class=\"title\"><span class=\"rank\">30.</span></td>      <td valign=\"top\" class=\"votelinks\"><center><a id=\\'up_37453854\\'href=\\'vote?id=37453854&amp;how=up&amp;goto=news\\'><div class=\\'votearrow\\' title=\\'upvote\\'></div></a></center></td><td class=\"title\"><span class=\"titleline\"><a href=\"https://github.com/nginx/unit\">Nginx Unit – Universal web app server</a><span class=\"sitebit comhead\"> (<a href=\"from?site=github.com/nginx\"><span class=\"sitestr\">github.com/nginx</span></a>)</span></span></td></tr><tr><td colspan=\"2\"></td><td class=\"subtext\"><span class=\"subline\">\\n          <span class=\"score\" id=\"score_37453854\">589 points</span> by <a href=\"user?id=promiseofbeans\" class=\"hnuser\">promiseofbeans</a> <span class=\"age\" title=\"2023-09-10T08:10:06\"><a href=\"item?id=37453854\">1 day ago</a></span> <span id=\"unv_37453854\"></span> | <a href=\"hide?id=37453854&amp;goto=news\">hide</a> | <a href=\"item?id=37453854\">164&nbsp;comments</a>        </span>\\n              </td></tr>\\n      <tr class=\"spacer\" style=\"height:5px\"></tr>\\n            <tr class=\"morespace\" style=\"height:10px\"></tr><tr><td colspan=\"2\"></td>\\n      <td class=\\'title\\'><a href=\\'?p=2\\' class=\\'morelink\\' rel=\\'next\\'>More</a></td>    </tr>\\n  </table>\\n</td></tr>\\n<tr><td><img src=\"s.gif\" height=\"10\" width=\"0\"><table width=\"100%\" cellspacing=\"0\" cellpadding=\"1\"><tr><td bgcolor=\"#ff6600\"></td></tr></table><br>\\n<center><span class=\"yclinks\"><a href=\"newsguidelines.html\">Guidelines</a> | <a href=\"newsfaq.html\">FAQ</a> | <a href=\"lists\">Lists</a> | <a href=\"https://github.com/HackerNews/API\">API</a> | <a href=\"security.html\">Security</a> | <a href=\"https://www.ycombinator.com/legal/\">Legal</a> | <a href=\"https://www.ycombinator.com/apply/\">Apply to YC</a> | <a href=\"mailto:hn@ycombinator.com\">Contact</a></span><br><br>\\n<form method=\"get\" action=\"//hn.algolia.com/\">Search: <input type=\"text\" name=\"q\" size=\"17\" autocorrect=\"off\" spellcheck=\"false\" autocapitalize=\"off\" autocomplete=\"false\"></form></center></td></tr>      </table></center></body>\\n      <script type=\\'text/javascript\\' src=\\'hn.js?SMGYVhiPoR5RtKWDg6AV\\'></script>\\n  </html>\\n'"
            ],
            "application/vnd.google.colaboratory.intrinsic+json": {
              "type": "string"
            }
          },
          "metadata": {},
          "execution_count": 9
        }
      ]
    }
  ]
}