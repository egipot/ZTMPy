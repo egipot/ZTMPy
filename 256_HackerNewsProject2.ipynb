{
  "nbformat": 4,
  "nbformat_minor": 0,
  "metadata": {
    "colab": {
      "provenance": [],
      "authorship_tag": "ABX9TyMv/5e5Z+yM6GVj7hRHqxvB",
      "include_colab_link": true
    },
    "kernelspec": {
      "name": "python3",
      "display_name": "Python 3"
    },
    "language_info": {
      "name": "python"
    }
  },
  "cells": [
    {
      "cell_type": "markdown",
      "metadata": {
        "id": "view-in-github",
        "colab_type": "text"
      },
      "source": [
        "<a href=\"https://colab.research.google.com/github/egipot/ZTMPy/blob/main/256_HackerNewsProject2.ipynb\" target=\"_parent\"><img src=\"https://colab.research.google.com/assets/colab-badge.svg\" alt=\"Open In Colab\"/></a>"
      ]
    },
    {
      "cell_type": "code",
      "execution_count": null,
      "metadata": {
        "id": "kkMwusQm52G2"
      },
      "outputs": [],
      "source": [
        "# import requests\n",
        "# from bs4 import BeautifulSoup\n",
        "# import pprint\n",
        "\n",
        "# res = requests.get('https://news.ycombinator.com/news')\n",
        "# res2 = requests.get('https://news.ycombinator.com/news?p=2')\n",
        "# soup = BeautifulSoup(res.text, 'html.parser')\n",
        "# soup2 = BeautifulSoup(res2.text, 'html.parser')\n",
        "\n",
        "# links = soup.select('.titleline > a') #heads up! .storylink changed to .titleline\n",
        "# subtext = soup.select('.subtext')\n",
        "# links2 = soup2.select('.titleline > a') #heads up! .storylink changed to .titleline\n",
        "# subtext2 = soup2.select('.subtext')\n",
        "\n",
        "# mega_links = links + links2\n",
        "# mega_subtext = subtext + subtext2\n",
        "\n",
        "# def sort_stories_by_votes(hnlist):\n",
        "#   return sorted(hnlist, key= lambda k:k['votes'], reverse=True)\n",
        "\n",
        "# def create_custom_hn(links, subtext):\n",
        "#   hn = []\n",
        "#   for idx, item in enumerate(links):\n",
        "#     title = item.getText()\n",
        "#     href = item.get('href', None)\n",
        "#     vote = subtext[idx].select('.score')\n",
        "#     if len(vote):\n",
        "#       points = int(vote[0].getText().replace(' points', ''))\n",
        "#       if points > 99:\n",
        "#         hn.append({'title': title, 'link': href, 'votes': points})\n",
        "#   return sort_stories_by_votes(hn)\n",
        "\n",
        "# pprint.pprint(create_custom_hn(mega_links, mega_subtext))\n"
      ]
    },
    {
      "cell_type": "code",
      "source": [
        "import requests\n",
        "from bs4 import BeautifulSoup\n",
        "import pprint"
      ],
      "metadata": {
        "id": "HGKjBNdn6WAu"
      },
      "execution_count": 1,
      "outputs": []
    },
    {
      "cell_type": "code",
      "source": [
        "res = requests.get('https://news.ycombinator.com/news')\n",
        "res2 = requests.get('https://news.ycombinator.com/news?p=2')\n",
        "soup = BeautifulSoup(res.text, 'html.parser')\n",
        "soup2 = BeautifulSoup(res2.text, 'html.parser')"
      ],
      "metadata": {
        "id": "KQweLTnm6bZ2"
      },
      "execution_count": 2,
      "outputs": []
    },
    {
      "cell_type": "code",
      "source": [
        "\n",
        "links = soup.select('.titleline > a') #heads up! .storylink changed to .titleline\n",
        "subtext = soup.select('.subtext')\n",
        "links2 = soup2.select('.titleline > a') #heads up! .storylink changed to .titleline\n",
        "subtext2 = soup2.select('.subtext')"
      ],
      "metadata": {
        "id": "G_pi2DLh6emH"
      },
      "execution_count": 3,
      "outputs": []
    },
    {
      "cell_type": "code",
      "source": [
        "links"
      ],
      "metadata": {
        "colab": {
          "base_uri": "https://localhost:8080/"
        },
        "id": "-s87PfSQ7hqm",
        "outputId": "a1278082-4f2a-4360-9c8a-6b20362eb5aa"
      },
      "execution_count": 10,
      "outputs": [
        {
          "output_type": "execute_result",
          "data": {
            "text/plain": [
              "[<a href=\"https://www.hillelwayne.com/post/graph-types/\">The hunt for the missing data type</a>,\n",
              " <a href=\"https://www.anthropic.com/news/claude-3-family\">Claude 3 model family</a>,\n",
              " <a href=\"https://astro.sshh.io/\">Show HN: Astro App</a>,\n",
              " <a href=\"https://www.ubicloud.com/blog/improving-network-performance-with-linux-flowtables\">Improving Network Performance with Linux Flowtables</a>,\n",
              " <a href=\"https://www.surfertoday.com/surfing/the-woman-who-coined-the-expression-surfing-the-internet\">The women who coined the expression 'surfing the internet' (2019)</a>,\n",
              " <a href=\"https://opus-codec.org/demo/opus-1.5/\">Opus 1.5 released: Opus gets a machine learning upgrade</a>,\n",
              " <a href=\"item?id=39591972\">Launch HN: Just words (YC W24) – Optimize your product's copy for user growth</a>,\n",
              " <a href=\"https://www.nytimes.com/2024/03/04/science/moon-landing-sideways-gravity.html\" rel=\"nofollow\">Why it's so challenging to land upright on the moon</a>,\n",
              " <a href=\"https://mainlymiles.com/2024/03/03/singapore-airlines-concorde-full-story/\">Singapore Airlines Concorde</a>,\n",
              " <a href=\"https://www.anandtech.com/show/21276/intel-previews-sierra-forest-with-288-e-cores-announces-granite-rapids-d-for-2025-launch-at-mwc-2024\">Intel Previews Sierra Forest with 288 E-Cores, Announces Granite Rapids-D</a>,\n",
              " <a href=\"https://skio.com/careers/\">Skio (YC S20) – Subscriptions for Shopify, ReCharge migrations – Is Hiring</a>,\n",
              " <a href=\"https://www.youtube.com/watch?v=-C6AcRnUmbE\">I made a bad camera lens from some old glasses [video]</a>,\n",
              " <a href=\"https://arxiv.org/abs/2311.05063\">Rust for Embedded Systems: Current state, challenges and open problems</a>,\n",
              " <a href=\"https://www.futureflight.aero/news-article/2024-02-27/us-air-force-evaluating-pivotals-blackfly-ultralight-evtol-aircraft\">U.S. Air Force Evaluating Pivotal's Blackfly Ultralight EVTOL Aircraft</a>,\n",
              " <a href=\"https://heathermeeker.com/2024/02/17/french-court-issues-damages-award-for-violation-of-gpl/\">French court issues damages award for violation of GPL</a>,\n",
              " <a href=\"https://www.macstories.net/stories/macpad-how-i-created-the-hybrid-mac-ipad-laptop-and-tablet-that-apple-wont-make/\">MacPad: I created the hybrid Mac-iPad laptop and tablet that Apple won't make</a>,\n",
              " <a href=\"https://smallcultfollowing.com/babysteps/blog/2024/03/04/borrow-checking-without-lifetimes/\">Borrow checking without lifetimes</a>,\n",
              " <a href=\"https://www.apple.com/newsroom/2024/03/apple-unveils-the-new-13-and-15-inch-macbook-air-with-the-powerful-m3-chip/\">New 13- and 15‑inch MacBook Air with M3 chip</a>,\n",
              " <a href=\"https://nhigham.com/2022/05/11/what-is-a-schur-decomposition/\">What Is a Schur Decomposition? (2022)</a>,\n",
              " <a href=\"https://github.com/rerun-io/revy\">Revy – proof-of-concept time-travel debugger for the Bevy game engine</a>,\n",
              " <a href=\"https://twitter.com/oatmealdome/status/1764704580724576465\">Yuzu emulator developers settle Nintendo lawsuit, pay $2.4M in damages</a>,\n",
              " <a href=\"https://www.tomshardware.com/pc-components/gpus/nvidia-bans-using-translation-layers-for-cuda-software-to-run-on-other-chips-new-restriction-apparently-targets-zluda-and-some-chinese-gpu-makers\">Nvidia bans using translation layers for CUDA software to run on other chips</a>,\n",
              " <a href=\"https://commoncog.com/what-the-ceo-wants-you-to-know/\">What the CEO wants you to know (2023)</a>,\n",
              " <a href=\"http://www.velato.net/\">Velato: A programming language where source code must be a valid MIDI music file</a>,\n",
              " <a href=\"https://www.youtube.com/watch?v=Ss7gIs2-hzk\">What we learned from C++ atomics and memory model standardization [video]</a>,\n",
              " <a href=\"https://github.com/harshadmanglani/polaris\">Show HN: Workflow orchestrator in Golang</a>,\n",
              " <a href=\"https://www.themusicman.uk/broken-vintage-piano/\">A broken vintage piano turned into an analog hybrid of 20 instruments</a>,\n",
              " <a href=\"https://www.quantamagazine.org/the-theorist-who-sees-math-in-art-music-and-writing-20240112/\">A mathematician who finds poetry in math and math in poetry</a>,\n",
              " <a href=\"https://arxiv.org/abs/2402.09090\">A computational approach to emergence in complex multi-level systems</a>,\n",
              " <a href=\"https://blog.peerdb.io/comparing-postgres-managed-services-aws-azure-gcp-and-supabase\">Comparing Postgres Managed Services: AWS, Azure, GCP and Supabase</a>]"
            ]
          },
          "metadata": {},
          "execution_count": 10
        }
      ]
    },
    {
      "cell_type": "code",
      "source": [
        "links2"
      ],
      "metadata": {
        "colab": {
          "base_uri": "https://localhost:8080/"
        },
        "id": "19fh3PPV7lIK",
        "outputId": "386e112c-c34b-4ad0-f703-6f3a91c6bc0d"
      },
      "execution_count": 11,
      "outputs": [
        {
          "output_type": "execute_result",
          "data": {
            "text/plain": [
              "[<a href=\"https://www.youtube.com/watch?v=UyKtxsdI0z8\" rel=\"nofollow\">Hermeus Hypersonic Aircraft – Real Engineering [video]</a>,\n",
              " <a href=\"https://ieeexplore.ieee.org/abstract/document/6319640\">A windowed graph Fourier transform (2012)</a>,\n",
              " <a href=\"https://www.osar.fr/notes/motionblur/\">Motion blur all the way down (2022)</a>,\n",
              " <a href=\"https://deprogrammaticaipsum.com/twenty-years-is-nothing/\">Twenty years is nothing</a>,\n",
              " <a href=\"https://voussoir.net/writing/css_for_printing\">CSS for printing to paper</a>,\n",
              " <a href=\"https://www-cdn.anthropic.com/de8ba9b01c9ab7cbabf5c33b80b7bbc618857627/Model_Card_Claude_3.pdf\" rel=\"nofollow\">The Claude 3 Model Family: Opus, Sonnet, Haiku [pdf]</a>,\n",
              " <a href=\"https://www.nature.com/articles/d41586-024-00616-5\">More than 2M research papers have disappeared from the Internet</a>,\n",
              " <a href=\"https://www.gresham.ac.uk/sites/default/files/2021-02-09-1300-HART_FictionalWorlds-T.pdf\">Mathematical journeys into fictional worlds (2021) [pdf]</a>,\n",
              " <a href=\"https://www.computer.org/publications/tech-news/research/dame-stephanie-steve-shirley-computer-pioneer\">A woman named \"Steve\" – IT pioneer, entrepreneur, philanthropist (2019)</a>,\n",
              " <a href=\"https://twitter.com/davepl1968/status/1764459921616359478\">The Corvette that Windows zip folders bought</a>,\n",
              " <a href=\"https://simonwillison.net/2024/Mar/3/interesting-ideas-in-observable-framework/\">Interesting ideas in Observable Framework</a>,\n",
              " <a href=\"https://lu.sagebl.eu/notes/what-i-like-about-go/\">What I like about Go</a>,\n",
              " <a href=\"https://www.nature.com/articles/s41467-024-46116-y\">Effect of gut microbiome modulation on muscle function and cognition</a>,\n",
              " <a href=\"https://physics.aps.org/articles/v17/37\">Cold Chemistry Is Different</a>,\n",
              " <a href=\"https://www.macrumors.com/2024/03/04/m3-macbook-air-more-external-displays/\">M3 MacBook Air Supports More External Displays Than M3 MacBook Pro</a>,\n",
              " <a href=\"https://www.wescottdesign.com/articles/Sampling/sampling.pdf\">Sampling: What Nyquist didn't say, and what to do about it (2018) [pdf]</a>,\n",
              " <a href=\"https://www.reuters.com/technology/apple-hit-with-over-18-bln-euro-eu-antitrust-fine-spotify-case-2024-03-04/\">Apple hit with over 1.8B euro EU antitrust fine in Spotify case</a>,\n",
              " <a href=\"http://www.cs.nott.ac.uk/~pszgmh/afp.html\">Advanced Functional Programming Free Course</a>,\n",
              " <a href=\"http://solarcooking.org/radiant-fridge.htm\">Using a solar oven as a radiant refrigerator at night</a>,\n",
              " <a href=\"https://www.nytimes.com/2024/02/28/arts/design/surrealism-centennial-pompidou-brussels.html\">Surrealism Is 100</a>,\n",
              " <a href=\"https://www.theregister.com/2024/03/04/tiny_core_linux_15/\">Tiny Core Linux 15 stuffs modern computing in a nutshell</a>,\n",
              " <a href=\"https://aaronfrancis.com/2024/do-literally-anything\">Do literally anything</a>,\n",
              " <a href=\"https://developer-friendly.blog/2024/03/03/kubernetes-the-hard-way/\">Kubernetes the Hard Way – Vagrant, Ansible, No Cloud</a>,\n",
              " <a href=\"https://arstechnica.com/space/2024/03/blue-origin-staffing-up-to-build-a-human-spacecraft/\" rel=\"nofollow\">Blue Origin is getting serious about developing a human spacecraft</a>,\n",
              " <a href=\"https://alpine-ajax.js.org\">Show HN: Alpine Ajax – If Htmx and Alpine.js Had a Baby</a>,\n",
              " <a href=\"https://calbryant.uk/blog/better-pc-cooling-with-python/\">Better PC cooling with Python and Grafana</a>,\n",
              " <a href=\"https://midshowcase.com/?q=mandalorian\" rel=\"nofollow\">Show HN: Midjourney Showcase</a>,\n",
              " <a href=\"https://theintercept.com/2024/03/04/signal-app-username-phone-number-privacy/\" rel=\"nofollow\">New Signal Usernames Help Stymie Subpoenas, Data Privacy</a>,\n",
              " <a href=\"https://en.wikipedia.org/wiki/Paris_pneumatic_post\" rel=\"nofollow\">The Underground Clocks of Paris</a>,\n",
              " <a href=\"https://bellard.org/ts_zip/\" rel=\"nofollow\">Ts_zip: Text Compression Using Large Language Models</a>]"
            ]
          },
          "metadata": {},
          "execution_count": 11
        }
      ]
    },
    {
      "cell_type": "code",
      "source": [
        "subtext"
      ],
      "metadata": {
        "colab": {
          "base_uri": "https://localhost:8080/"
        },
        "id": "yOaFcuKG7yeI",
        "outputId": "9fbc1cb6-923e-4b60-98b6-378674b137a5"
      },
      "execution_count": 12,
      "outputs": [
        {
          "output_type": "execute_result",
          "data": {
            "text/plain": [
              "[<td class=\"subtext\"><span class=\"subline\">\n",
              " <span class=\"score\" id=\"score_39592444\">189 points</span> by <a class=\"hnuser\" href=\"user?id=todsacerdoti\">todsacerdoti</a> <span class=\"age\" title=\"2024-03-04T16:42:14\"><a href=\"item?id=39592444\">2 hours ago</a></span> <span id=\"unv_39592444\"></span> | <a href=\"hide?id=39592444&amp;goto=news\">hide</a> | <a href=\"item?id=39592444\">86 comments</a> </span>\n",
              " </td>,\n",
              " <td class=\"subtext\"><span class=\"subline\">\n",
              " <span class=\"score\" id=\"score_39590666\">605 points</span> by <a class=\"hnuser\" href=\"user?id=marc__1\">marc__1</a> <span class=\"age\" title=\"2024-03-04T14:08:51\"><a href=\"item?id=39590666\">5 hours ago</a></span> <span id=\"unv_39590666\"></span> | <a href=\"hide?id=39590666&amp;goto=news\">hide</a> | <a href=\"item?id=39590666\">348 comments</a> </span>\n",
              " </td>,\n",
              " <td class=\"subtext\"><span class=\"subline\">\n",
              " <span class=\"score\" id=\"score_39591529\">149 points</span> by <a class=\"hnuser\" href=\"user?id=sshh12\">sshh12</a> <span class=\"age\" title=\"2024-03-04T15:24:35\"><a href=\"item?id=39591529\">3 hours ago</a></span> <span id=\"unv_39591529\"></span> | <a href=\"hide?id=39591529&amp;goto=news\">hide</a> | <a href=\"item?id=39591529\">43 comments</a> </span>\n",
              " </td>,\n",
              " <td class=\"subtext\"><span class=\"subline\">\n",
              " <span class=\"score\" id=\"score_39592771\">51 points</span> by <a class=\"hnuser\" href=\"user?id=furkansahin\">furkansahin</a> <span class=\"age\" title=\"2024-03-04T17:05:46\"><a href=\"item?id=39592771\">2 hours ago</a></span> <span id=\"unv_39592771\"></span> | <a href=\"hide?id=39592771&amp;goto=news\">hide</a> | <a href=\"item?id=39592771\">7 comments</a> </span>\n",
              " </td>,\n",
              " <td class=\"subtext\"><span class=\"subline\">\n",
              " <span class=\"score\" id=\"score_39592993\">49 points</span> by <a class=\"hnuser\" href=\"user?id=cfcfcf\">cfcfcf</a> <span class=\"age\" title=\"2024-03-04T17:20:34\"><a href=\"item?id=39592993\">1 hour ago</a></span> <span id=\"unv_39592993\"></span> | <a href=\"hide?id=39592993&amp;goto=news\">hide</a> | <a href=\"item?id=39592993\">28 comments</a> </span>\n",
              " </td>,\n",
              " <td class=\"subtext\"><span class=\"subline\">\n",
              " <span class=\"score\" id=\"score_39593256\">98 points</span> by <a class=\"hnuser\" href=\"user?id=summm\">summm</a> <span class=\"age\" title=\"2024-03-04T17:36:42\"><a href=\"item?id=39593256\">1 hour ago</a></span> <span id=\"unv_39593256\"></span> | <a href=\"hide?id=39593256&amp;goto=news\">hide</a> | <a href=\"item?id=39593256\">14 comments</a> </span>\n",
              " </td>,\n",
              " <td class=\"subtext\"><span class=\"subline\">\n",
              " <span class=\"score\" id=\"score_39591972\">30 points</span> by <a class=\"hnuser\" href=\"user?id=nehagetschoice\">nehagetschoice</a> <span class=\"age\" title=\"2024-03-04T16:03:45\"><a href=\"item?id=39591972\">3 hours ago</a></span> <span id=\"unv_39591972\"></span> | <a href=\"hide?id=39591972&amp;goto=news\">hide</a> | <a href=\"item?id=39591972\">28 comments</a> </span>\n",
              " </td>,\n",
              " <td class=\"subtext\"><span class=\"subline\">\n",
              " <span class=\"score\" id=\"score_39591772\">7 points</span> by <a class=\"hnuser\" href=\"user?id=Brajeshwar\">Brajeshwar</a> <span class=\"age\" title=\"2024-03-04T15:46:03\"><a href=\"item?id=39591772\">1 hour ago</a></span> <span id=\"unv_39591772\"></span> | <a href=\"hide?id=39591772&amp;goto=news\">hide</a> | <a href=\"item?id=39591772\">5 comments</a> </span>\n",
              " </td>,\n",
              " <td class=\"subtext\"><span class=\"subline\">\n",
              " <span class=\"score\" id=\"score_39588830\">144 points</span> by <a class=\"hnuser\" href=\"user?id=qsi\">qsi</a> <span class=\"age\" title=\"2024-03-04T10:21:35\"><a href=\"item?id=39588830\">8 hours ago</a></span> <span id=\"unv_39588830\"></span> | <a href=\"hide?id=39588830&amp;goto=news\">hide</a> | <a href=\"item?id=39588830\">141 comments</a> </span>\n",
              " </td>,\n",
              " <td class=\"subtext\"><span class=\"subline\">\n",
              " <span class=\"score\" id=\"score_39579725\">42 points</span> by <a class=\"hnuser\" href=\"user?id=PaulHoule\">PaulHoule</a> <span class=\"age\" title=\"2024-03-03T09:46:15\"><a href=\"item?id=39579725\">4 hours ago</a></span> <span id=\"unv_39579725\"></span> | <a href=\"hide?id=39579725&amp;goto=news\">hide</a> | <a href=\"item?id=39579725\">16 comments</a> </span>\n",
              " </td>,\n",
              " <td class=\"subtext\">\n",
              " <span class=\"age\" title=\"2024-03-04T17:00:14\"><a href=\"item?id=39592704\">2 hours ago</a></span> | <a href=\"hide?id=39592704&amp;goto=news\">hide</a> </td>,\n",
              " <td class=\"subtext\"><span class=\"subline\">\n",
              " <span class=\"score\" id=\"score_39589479\">119 points</span> by <a class=\"hnuser\" href=\"user?id=i2pi\">i2pi</a> <span class=\"age\" title=\"2024-03-04T12:10:59\"><a href=\"item?id=39589479\">7 hours ago</a></span> <span id=\"unv_39589479\"></span> | <a href=\"hide?id=39589479&amp;goto=news\">hide</a> | <a href=\"item?id=39589479\">45 comments</a> </span>\n",
              " </td>,\n",
              " <td class=\"subtext\"><span class=\"subline\">\n",
              " <span class=\"score\" id=\"score_39591694\">106 points</span> by <a class=\"hnuser\" href=\"user?id=Sindisil\">Sindisil</a> <span class=\"age\" title=\"2024-03-04T15:38:22\"><a href=\"item?id=39591694\">3 hours ago</a></span> <span id=\"unv_39591694\"></span> | <a href=\"hide?id=39591694&amp;goto=news\">hide</a> | <a href=\"item?id=39591694\">46 comments</a> </span>\n",
              " </td>,\n",
              " <td class=\"subtext\"><span class=\"subline\">\n",
              " <span class=\"score\" id=\"score_39592499\">8 points</span> by <a class=\"hnuser\" href=\"user?id=rbanffy\">rbanffy</a> <span class=\"age\" title=\"2024-03-04T16:46:53\"><a href=\"item?id=39592499\">2 hours ago</a></span> <span id=\"unv_39592499\"></span> | <a href=\"hide?id=39592499&amp;goto=news\">hide</a> | <a href=\"item?id=39592499\">discuss</a> </span>\n",
              " </td>,\n",
              " <td class=\"subtext\"><span class=\"subline\">\n",
              " <span class=\"score\" id=\"score_39587344\">797 points</span> by <a class=\"hnuser\" href=\"user?id=bookstore-romeo\">bookstore-romeo</a> <span class=\"age\" title=\"2024-03-04T05:40:07\"><a href=\"item?id=39587344\">13 hours ago</a></span> <span id=\"unv_39587344\"></span> | <a href=\"hide?id=39587344&amp;goto=news\">hide</a> | <a href=\"item?id=39587344\">360 comments</a> </span>\n",
              " </td>,\n",
              " <td class=\"subtext\"><span class=\"subline\">\n",
              " <span class=\"score\" id=\"score_39592288\">82 points</span> by <a class=\"hnuser\" href=\"user?id=robenkleene\">robenkleene</a> <span class=\"age\" title=\"2024-03-04T16:30:55\"><a href=\"item?id=39592288\">2 hours ago</a></span> <span id=\"unv_39592288\"></span> | <a href=\"hide?id=39592288&amp;goto=news\">hide</a> | <a href=\"item?id=39592288\">50 comments</a> </span>\n",
              " </td>,\n",
              " <td class=\"subtext\"><span class=\"subline\">\n",
              " <span class=\"score\" id=\"score_39594362\">16 points</span> by <a class=\"hnuser\" href=\"user?id=todsacerdoti\">todsacerdoti</a> <span class=\"age\" title=\"2024-03-04T18:52:53\"><a href=\"item?id=39594362\">27 minutes ago</a></span> <span id=\"unv_39594362\"></span> | <a href=\"hide?id=39594362&amp;goto=news\">hide</a> | <a href=\"item?id=39594362\">1 comment</a> </span>\n",
              " </td>,\n",
              " <td class=\"subtext\"><span class=\"subline\">\n",
              " <span class=\"score\" id=\"score_39589924\">185 points</span> by <a class=\"hnuser\" href=\"user?id=dm\">dm</a> <span class=\"age\" title=\"2024-03-04T13:00:38\"><a href=\"item?id=39589924\">6 hours ago</a></span> <span id=\"unv_39589924\"></span> | <a href=\"hide?id=39589924&amp;goto=news\">hide</a> | <a href=\"item?id=39589924\">350 comments</a> </span>\n",
              " </td>,\n",
              " <td class=\"subtext\"><span class=\"subline\">\n",
              " <span class=\"score\" id=\"score_39588899\">72 points</span> by <a class=\"hnuser\" href=\"user?id=vector_spaces\">vector_spaces</a> <span class=\"age\" title=\"2024-03-04T10:36:14\"><a href=\"item?id=39588899\">8 hours ago</a></span> <span id=\"unv_39588899\"></span> | <a href=\"hide?id=39588899&amp;goto=news\">hide</a> | <a href=\"item?id=39588899\">16 comments</a> </span>\n",
              " </td>,\n",
              " <td class=\"subtext\"><span class=\"subline\">\n",
              " <span class=\"score\" id=\"score_39590683\">30 points</span> by <a class=\"hnuser\" href=\"user?id=teh_cmc\">teh_cmc</a> <span class=\"age\" title=\"2024-03-04T14:09:46\"><a href=\"item?id=39590683\">5 hours ago</a></span> <span id=\"unv_39590683\"></span> | <a href=\"hide?id=39590683&amp;goto=news\">hide</a> | <a href=\"item?id=39590683\">5 comments</a> </span>\n",
              " </td>,\n",
              " <td class=\"subtext\"><span class=\"subline\">\n",
              " <span class=\"score\" id=\"score_39593647\">106 points</span> by <a class=\"hnuser\" href=\"user?id=ndiddy\">ndiddy</a> <span class=\"age\" title=\"2024-03-04T18:00:26\"><a href=\"item?id=39593647\">1 hour ago</a></span> <span id=\"unv_39593647\"></span> | <a href=\"hide?id=39593647&amp;goto=news\">hide</a> | <a href=\"item?id=39593647\">58 comments</a> </span>\n",
              " </td>,\n",
              " <td class=\"subtext\"><span class=\"subline\">\n",
              " <span class=\"score\" id=\"score_39592689\">192 points</span> by <a class=\"hnuser\" href=\"user?id=justinclift\">justinclift</a> <span class=\"age\" title=\"2024-03-04T16:58:51\"><a href=\"item?id=39592689\">2 hours ago</a></span> <span id=\"unv_39592689\"></span> | <a href=\"hide?id=39592689&amp;goto=news\">hide</a> | <a href=\"item?id=39592689\">94 comments</a> </span>\n",
              " </td>,\n",
              " <td class=\"subtext\"><span class=\"subline\">\n",
              " <span class=\"score\" id=\"score_39574137\">19 points</span> by <a class=\"hnuser\" href=\"user?id=Tomte\">Tomte</a> <span class=\"age\" title=\"2024-03-02T17:37:14\"><a href=\"item?id=39574137\">2 hours ago</a></span> <span id=\"unv_39574137\"></span> | <a href=\"hide?id=39574137&amp;goto=news\">hide</a> | <a href=\"item?id=39574137\">13 comments</a> </span>\n",
              " </td>,\n",
              " <td class=\"subtext\"><span class=\"subline\">\n",
              " <span class=\"score\" id=\"score_39578796\">60 points</span> by <a class=\"hnuser\" href=\"user?id=p4bl0\">p4bl0</a> <span class=\"age\" title=\"2024-03-03T05:55:37\"><a href=\"item?id=39578796\">9 hours ago</a></span> <span id=\"unv_39578796\"></span> | <a href=\"hide?id=39578796&amp;goto=news\">hide</a> | <a href=\"item?id=39578796\">39 comments</a> </span>\n",
              " </td>,\n",
              " <td class=\"subtext\"><span class=\"subline\">\n",
              " <span class=\"score\" id=\"score_39592702\">26 points</span> by <a class=\"hnuser\" href=\"user?id=matt_d\">matt_d</a> <span class=\"age\" title=\"2024-03-04T17:00:12\"><a href=\"item?id=39592702\">2 hours ago</a></span> <span id=\"unv_39592702\"></span> | <a href=\"hide?id=39592702&amp;goto=news\">hide</a> | <a href=\"item?id=39592702\">2 comments</a> </span>\n",
              " </td>,\n",
              " <td class=\"subtext\"><span class=\"subline\">\n",
              " <span class=\"score\" id=\"score_39593008\">5 points</span> by <a class=\"hnuser\" href=\"user?id=harshadmanglani\">harshadmanglani</a> <span class=\"age\" title=\"2024-03-04T17:21:42\"><a href=\"item?id=39593008\">1 hour ago</a></span> <span id=\"unv_39593008\"></span> | <a href=\"hide?id=39593008&amp;goto=news\">hide</a> | <a href=\"item?id=39593008\">1 comment</a> </span>\n",
              " </td>,\n",
              " <td class=\"subtext\"><span class=\"subline\">\n",
              " <span class=\"score\" id=\"score_39575909\">53 points</span> by <a class=\"hnuser\" href=\"user?id=sandebert\">sandebert</a> <span class=\"age\" title=\"2024-03-02T21:26:15\"><a href=\"item?id=39575909\">9 hours ago</a></span> <span id=\"unv_39575909\"></span> | <a href=\"hide?id=39575909&amp;goto=news\">hide</a> | <a href=\"item?id=39575909\">5 comments</a> </span>\n",
              " </td>,\n",
              " <td class=\"subtext\"><span class=\"subline\">\n",
              " <span class=\"score\" id=\"score_39589102\">75 points</span> by <a class=\"hnuser\" href=\"user?id=ColinWright\">ColinWright</a> <span class=\"age\" title=\"2024-03-04T11:15:03\"><a href=\"item?id=39589102\">8 hours ago</a></span> <span id=\"unv_39589102\"></span> | <a href=\"hide?id=39589102&amp;goto=news\">hide</a> | <a href=\"item?id=39589102\">12 comments</a> </span>\n",
              " </td>,\n",
              " <td class=\"subtext\"><span class=\"subline\">\n",
              " <span class=\"score\" id=\"score_39575264\">79 points</span> by <a class=\"hnuser\" href=\"user?id=SkyMarshal\">SkyMarshal</a> <span class=\"age\" title=\"2024-03-02T19:52:40\"><a href=\"item?id=39575264\">14 hours ago</a></span> <span id=\"unv_39575264\"></span> | <a href=\"hide?id=39575264&amp;goto=news\">hide</a> | <a href=\"item?id=39575264\">20 comments</a> </span>\n",
              " </td>,\n",
              " <td class=\"subtext\"><span class=\"subline\">\n",
              " <span class=\"score\" id=\"score_39593384\">38 points</span> by <a class=\"hnuser\" href=\"user?id=saisrirampur\">saisrirampur</a> <span class=\"age\" title=\"2024-03-04T17:44:28\"><a href=\"item?id=39593384\">1 hour ago</a></span> <span id=\"unv_39593384\"></span> | <a href=\"hide?id=39593384&amp;goto=news\">hide</a> | <a href=\"item?id=39593384\">2 comments</a> </span>\n",
              " </td>]"
            ]
          },
          "metadata": {},
          "execution_count": 12
        }
      ]
    },
    {
      "cell_type": "code",
      "source": [
        "subtext2"
      ],
      "metadata": {
        "colab": {
          "base_uri": "https://localhost:8080/"
        },
        "id": "MB4khJ3k71LX",
        "outputId": "aca1712a-006f-4e07-e4f2-5d0d79de3c7f"
      },
      "execution_count": 13,
      "outputs": [
        {
          "output_type": "execute_result",
          "data": {
            "text/plain": [
              "[<td class=\"subtext\"><span class=\"subline\">\n",
              " <span class=\"score\" id=\"score_39594490\">3 points</span> by <a class=\"hnuser\" href=\"user?id=tuanx5\">tuanx5</a> <span class=\"age\" title=\"2024-03-04T19:02:40\"><a href=\"item?id=39594490\">17 minutes ago</a></span> <span id=\"unv_39594490\"></span> | <a href=\"hide?id=39594490&amp;goto=news%3Fp%3D2\">hide</a> | <a href=\"item?id=39594490\">1 comment</a> </span>\n",
              " </td>,\n",
              " <td class=\"subtext\"><span class=\"subline\">\n",
              " <span class=\"score\" id=\"score_39588977\">42 points</span> by <a class=\"hnuser\" href=\"user?id=teleforce\">teleforce</a> <span class=\"age\" title=\"2024-03-04T10:49:36\"><a href=\"item?id=39588977\">8 hours ago</a></span> <span id=\"unv_39588977\"></span> | <a href=\"hide?id=39588977&amp;goto=news%3Fp%3D2\">hide</a> | <a href=\"item?id=39588977\">3 comments</a> </span>\n",
              " </td>,\n",
              " <td class=\"subtext\"><span class=\"subline\">\n",
              " <span class=\"score\" id=\"score_39586828\">294 points</span> by <a class=\"hnuser\" href=\"user?id=azeemba\">azeemba</a> <span class=\"age\" title=\"2024-03-04T03:43:20\"><a href=\"item?id=39586828\">15 hours ago</a></span> <span id=\"unv_39586828\"></span> | <a href=\"hide?id=39586828&amp;goto=news%3Fp%3D2\">hide</a> | <a href=\"item?id=39586828\">89 comments</a> </span>\n",
              " </td>,\n",
              " <td class=\"subtext\"><span class=\"subline\">\n",
              " <span class=\"score\" id=\"score_39587947\">195 points</span> by <a class=\"hnuser\" href=\"user?id=ingve\">ingve</a> <span class=\"age\" title=\"2024-03-04T07:35:28\"><a href=\"item?id=39587947\">11 hours ago</a></span> <span id=\"unv_39587947\"></span> | <a href=\"hide?id=39587947&amp;goto=news%3Fp%3D2\">hide</a> | <a href=\"item?id=39587947\">240 comments</a> </span>\n",
              " </td>,\n",
              " <td class=\"subtext\"><span class=\"subline\">\n",
              " <span class=\"score\" id=\"score_39584654\">515 points</span> by <a class=\"hnuser\" href=\"user?id=Tomte\">Tomte</a> <span class=\"age\" title=\"2024-03-03T21:22:23\"><a href=\"item?id=39584654\">21 hours ago</a></span> <span id=\"unv_39584654\"></span> | <a href=\"hide?id=39584654&amp;goto=news%3Fp%3D2\">hide</a> | <a href=\"item?id=39584654\">125 comments</a> </span>\n",
              " </td>,\n",
              " <td class=\"subtext\"><span class=\"subline\">\n",
              " <span class=\"score\" id=\"score_39590652\">9 points</span> by <a class=\"hnuser\" href=\"user?id=1wheel\">1wheel</a> <span class=\"age\" title=\"2024-03-04T14:07:04\"><a href=\"item?id=39590652\">5 hours ago</a></span> <span id=\"unv_39590652\"></span> | <a href=\"hide?id=39590652&amp;goto=news%3Fp%3D2\">hide</a> | <a href=\"item?id=39590652\">3 comments</a> </span>\n",
              " </td>,\n",
              " <td class=\"subtext\"><span class=\"subline\">\n",
              " <span class=\"score\" id=\"score_39589626\">120 points</span> by <a class=\"hnuser\" href=\"user?id=Brajeshwar\">Brajeshwar</a> <span class=\"age\" title=\"2024-03-04T12:30:25\"><a href=\"item?id=39589626\">6 hours ago</a></span> <span id=\"unv_39589626\"></span> | <a href=\"hide?id=39589626&amp;goto=news%3Fp%3D2\">hide</a> | <a href=\"item?id=39589626\">32 comments</a> </span>\n",
              " </td>,\n",
              " <td class=\"subtext\"><span class=\"subline\">\n",
              " <span class=\"score\" id=\"score_39576156\">29 points</span> by <a class=\"hnuser\" href=\"user?id=tmtvl\">tmtvl</a> <span class=\"age\" title=\"2024-03-02T22:01:48\"><a href=\"item?id=39576156\">12 hours ago</a></span> <span id=\"unv_39576156\"></span> | <a href=\"hide?id=39576156&amp;goto=news%3Fp%3D2\">hide</a> | <a href=\"item?id=39576156\">11 comments</a> </span>\n",
              " </td>,\n",
              " <td class=\"subtext\"><span class=\"subline\">\n",
              " <span class=\"score\" id=\"score_39585527\">256 points</span> by <a class=\"hnuser\" href=\"user?id=dxs\">dxs</a> <span class=\"age\" title=\"2024-03-03T23:34:05\"><a href=\"item?id=39585527\">19 hours ago</a></span> <span id=\"unv_39585527\"></span> | <a href=\"hide?id=39585527&amp;goto=news%3Fp%3D2\">hide</a> | <a href=\"item?id=39585527\">103 comments</a> </span>\n",
              " </td>,\n",
              " <td class=\"subtext\"><span class=\"subline\">\n",
              " <span class=\"score\" id=\"score_39587379\">126 points</span> by <a class=\"hnuser\" href=\"user?id=taubek\">taubek</a> <span class=\"age\" title=\"2024-03-04T05:49:20\"><a href=\"item?id=39587379\">13 hours ago</a></span> <span id=\"unv_39587379\"></span> | <a href=\"hide?id=39587379&amp;goto=news%3Fp%3D2\">hide</a> | <a href=\"item?id=39587379\">102 comments</a> </span>\n",
              " </td>,\n",
              " <td class=\"subtext\"><span class=\"subline\">\n",
              " <span class=\"score\" id=\"score_39582745\">322 points</span> by <a class=\"hnuser\" href=\"user?id=simonw\">simonw</a> <span class=\"age\" title=\"2024-03-03T18:01:13\"><a href=\"item?id=39582745\">1 day ago</a></span> <span id=\"unv_39582745\"></span> | <a href=\"hide?id=39582745&amp;goto=news%3Fp%3D2\">hide</a> | <a href=\"item?id=39582745\">58 comments</a> </span>\n",
              " </td>,\n",
              " <td class=\"subtext\"><span class=\"subline\">\n",
              " <span class=\"score\" id=\"score_39586770\">26 points</span> by <a class=\"hnuser\" href=\"user?id=signa11\">signa11</a> <span class=\"age\" title=\"2024-03-04T03:29:28\"><a href=\"item?id=39586770\">15 hours ago</a></span> <span id=\"unv_39586770\"></span> | <a href=\"hide?id=39586770&amp;goto=news%3Fp%3D2\">hide</a> | <a href=\"item?id=39586770\">3 comments</a> </span>\n",
              " </td>,\n",
              " <td class=\"subtext\"><span class=\"subline\">\n",
              " <span class=\"score\" id=\"score_39592367\">45 points</span> by <a class=\"hnuser\" href=\"user?id=gnabgib\">gnabgib</a> <span class=\"age\" title=\"2024-03-04T16:36:31\"><a href=\"item?id=39592367\">2 hours ago</a></span> <span id=\"unv_39592367\"></span> | <a href=\"hide?id=39592367&amp;goto=news%3Fp%3D2\">hide</a> | <a href=\"item?id=39592367\">20 comments</a> </span>\n",
              " </td>,\n",
              " <td class=\"subtext\"><span class=\"subline\">\n",
              " <span class=\"score\" id=\"score_39578174\">76 points</span> by <a class=\"hnuser\" href=\"user?id=sohkamyung\">sohkamyung</a> <span class=\"age\" title=\"2024-03-03T03:28:38\"><a href=\"item?id=39578174\">16 hours ago</a></span> <span id=\"unv_39578174\"></span> | <a href=\"hide?id=39578174&amp;goto=news%3Fp%3D2\">hide</a> | <a href=\"item?id=39578174\">6 comments</a> </span>\n",
              " </td>,\n",
              " <td class=\"subtext\"><span class=\"subline\">\n",
              " <span class=\"score\" id=\"score_39591367\">8 points</span> by <a class=\"hnuser\" href=\"user?id=Brajeshwar\">Brajeshwar</a> <span class=\"age\" title=\"2024-03-04T15:09:40\"><a href=\"item?id=39591367\">4 hours ago</a></span> <span id=\"unv_39591367\"></span> | <a href=\"hide?id=39591367&amp;goto=news%3Fp%3D2\">hide</a> | <a href=\"item?id=39591367\">1 comment</a> </span>\n",
              " </td>,\n",
              " <td class=\"subtext\"><span class=\"subline\">\n",
              " <span class=\"score\" id=\"score_39584201\">172 points</span> by <a class=\"hnuser\" href=\"user?id=luu\">luu</a> <span class=\"age\" title=\"2024-03-03T20:25:55\"><a href=\"item?id=39584201\">22 hours ago</a></span> <span id=\"unv_39584201\"></span> | <a href=\"hide?id=39584201&amp;goto=news%3Fp%3D2\">hide</a> | <a href=\"item?id=39584201\">59 comments</a> </span>\n",
              " </td>,\n",
              " <td class=\"subtext\"><span class=\"subline\">\n",
              " <span class=\"score\" id=\"score_39589483\">489 points</span> by <a class=\"hnuser\" href=\"user?id=nopakos\">nopakos</a> <span class=\"age\" title=\"2024-03-04T12:11:28\"><a href=\"item?id=39589483\">7 hours ago</a></span> <span id=\"unv_39589483\"></span> | <a href=\"hide?id=39589483&amp;goto=news%3Fp%3D2\">hide</a> | <a href=\"item?id=39589483\">533 comments</a> </span>\n",
              " </td>,\n",
              " <td class=\"subtext\"><span class=\"subline\">\n",
              " <span class=\"score\" id=\"score_39579721\">32 points</span> by <a class=\"hnuser\" href=\"user?id=agomez314\">agomez314</a> <span class=\"age\" title=\"2024-03-03T09:44:51\"><a href=\"item?id=39579721\">5 hours ago</a></span> <span id=\"unv_39579721\"></span> | <a href=\"hide?id=39579721&amp;goto=news%3Fp%3D2\">hide</a> | <a href=\"item?id=39579721\">4 comments</a> </span>\n",
              " </td>,\n",
              " <td class=\"subtext\"><span class=\"subline\">\n",
              " <span class=\"score\" id=\"score_39584984\">166 points</span> by <a class=\"hnuser\" href=\"user?id=ColinWright\">ColinWright</a> <span class=\"age\" title=\"2024-03-03T22:06:51\"><a href=\"item?id=39584984\">21 hours ago</a></span> <span id=\"unv_39584984\"></span> | <a href=\"hide?id=39584984&amp;goto=news%3Fp%3D2\">hide</a> | <a href=\"item?id=39584984\">80 comments</a> </span>\n",
              " </td>,\n",
              " <td class=\"subtext\"><span class=\"subline\">\n",
              " <span class=\"score\" id=\"score_39585431\">84 points</span> by <a class=\"hnuser\" href=\"user?id=apollinaire\">apollinaire</a> <span class=\"age\" title=\"2024-03-03T23:17:17\"><a href=\"item?id=39585431\">19 hours ago</a></span> <span id=\"unv_39585431\"></span> | <a href=\"hide?id=39585431&amp;goto=news%3Fp%3D2\">hide</a> | <a href=\"item?id=39585431\">34 comments</a> </span>\n",
              " </td>,\n",
              " <td class=\"subtext\"><span class=\"subline\">\n",
              " <span class=\"score\" id=\"score_39589457\">15 points</span> by <a class=\"hnuser\" href=\"user?id=sohkamyung\">sohkamyung</a> <span class=\"age\" title=\"2024-03-04T12:07:24\"><a href=\"item?id=39589457\">7 hours ago</a></span> <span id=\"unv_39589457\"></span> | <a href=\"hide?id=39589457&amp;goto=news%3Fp%3D2\">hide</a> | <a href=\"item?id=39589457\">1 comment</a> </span>\n",
              " </td>,\n",
              " <td class=\"subtext\"><span class=\"subline\">\n",
              " <span class=\"score\" id=\"score_39591910\">86 points</span> by <a class=\"hnuser\" href=\"user?id=aarondf\">aarondf</a> <span class=\"age\" title=\"2024-03-04T15:57:40\"><a href=\"item?id=39591910\">3 hours ago</a></span> <span id=\"unv_39591910\"></span> | <a href=\"hide?id=39591910&amp;goto=news%3Fp%3D2\">hide</a> | <a href=\"item?id=39591910\">18 comments</a> </span>\n",
              " </td>,\n",
              " <td class=\"subtext\"><span class=\"subline\">\n",
              " <span class=\"score\" id=\"score_39591542\">21 points</span> by <a class=\"hnuser\" href=\"user?id=meysamazad\">meysamazad</a> <span class=\"age\" title=\"2024-03-04T15:25:28\"><a href=\"item?id=39591542\">3 hours ago</a></span> <span id=\"unv_39591542\"></span> | <a href=\"hide?id=39591542&amp;goto=news%3Fp%3D2\">hide</a> | <a href=\"item?id=39591542\">6 comments</a> </span>\n",
              " </td>,\n",
              " <td class=\"subtext\"><span class=\"subline\">\n",
              " <span class=\"score\" id=\"score_39592077\">3 points</span> by <a class=\"hnuser\" href=\"user?id=rntn\">rntn</a> <span class=\"age\" title=\"2024-03-04T16:15:18\"><a href=\"item?id=39592077\">3 hours ago</a></span> <span id=\"unv_39592077\"></span> | <a href=\"hide?id=39592077&amp;goto=news%3Fp%3D2\">hide</a> | <a href=\"item?id=39592077\">discuss</a> </span>\n",
              " </td>,\n",
              " <td class=\"subtext\"><span class=\"subline\">\n",
              " <span class=\"score\" id=\"score_39580843\">55 points</span> by <a class=\"hnuser\" href=\"user?id=imacrayon\">imacrayon</a> <span class=\"age\" title=\"2024-03-03T13:56:16\"><a href=\"item?id=39580843\">1 day ago</a></span> <span id=\"unv_39580843\"></span> | <a href=\"hide?id=39580843&amp;goto=news%3Fp%3D2\">hide</a> | <a href=\"item?id=39580843\">18 comments</a> </span>\n",
              " </td>,\n",
              " <td class=\"subtext\"><span class=\"subline\">\n",
              " <span class=\"score\" id=\"score_39582116\">246 points</span> by <a class=\"hnuser\" href=\"user?id=naggie\">naggie</a> <span class=\"age\" title=\"2024-03-03T17:04:32\"><a href=\"item?id=39582116\">1 day ago</a></span> <span id=\"unv_39582116\"></span> | <a href=\"hide?id=39582116&amp;goto=news%3Fp%3D2\">hide</a> | <a href=\"item?id=39582116\">135 comments</a> </span>\n",
              " </td>,\n",
              " <td class=\"subtext\"><span class=\"subline\">\n",
              " <span class=\"score\" id=\"score_39590944\">3 points</span> by <a class=\"hnuser\" href=\"user?id=relatedcode\">relatedcode</a> <span class=\"age\" title=\"2024-03-04T14:31:18\"><a href=\"item?id=39590944\">1 hour ago</a></span> <span id=\"unv_39590944\"></span> | <a href=\"hide?id=39590944&amp;goto=news%3Fp%3D2\">hide</a> | <a href=\"item?id=39590944\">discuss</a> </span>\n",
              " </td>,\n",
              " <td class=\"subtext\"><span class=\"subline\">\n",
              " <span class=\"score\" id=\"score_39590852\">6 points</span> by <a class=\"hnuser\" href=\"user?id=georgecmu\">georgecmu</a> <span class=\"age\" title=\"2024-03-04T14:24:37\"><a href=\"item?id=39590852\">1 hour ago</a></span> <span id=\"unv_39590852\"></span> | <a href=\"hide?id=39590852&amp;goto=news%3Fp%3D2\">hide</a> | <a href=\"item?id=39590852\">discuss</a> </span>\n",
              " </td>,\n",
              " <td class=\"subtext\"><span class=\"subline\">\n",
              " <span class=\"score\" id=\"score_39591350\">3 points</span> by <a class=\"hnuser\" href=\"user?id=yakito\">yakito</a> <span class=\"age\" title=\"2024-03-04T15:07:55\"><a href=\"item?id=39591350\">1 hour ago</a></span> <span id=\"unv_39591350\"></span> | <a href=\"hide?id=39591350&amp;goto=news%3Fp%3D2\">hide</a> | <a href=\"item?id=39591350\">4 comments</a> </span>\n",
              " </td>,\n",
              " <td class=\"subtext\"><span class=\"subline\">\n",
              " <span class=\"score\" id=\"score_39592679\">8 points</span> by <a class=\"hnuser\" href=\"user?id=bratao\">bratao</a> <span class=\"age\" title=\"2024-03-04T16:58:26\"><a href=\"item?id=39592679\">1 hour ago</a></span> <span id=\"unv_39592679\"></span> | <a href=\"hide?id=39592679&amp;goto=news%3Fp%3D2\">hide</a> | <a href=\"item?id=39592679\">1 comment</a> </span>\n",
              " </td>]"
            ]
          },
          "metadata": {},
          "execution_count": 13
        }
      ]
    },
    {
      "cell_type": "code",
      "source": [
        "def create_custom_hn(links, subtext):\n",
        "  hn = []\n",
        "  for idx, item in enumerate(links):\n",
        "    title = item.getText()\n",
        "    href = item.get('href', None)\n",
        "    vote = subtext[idx].select('.score')\n",
        "    if len(vote):\n",
        "      points = int(vote[0].getText().replace(' points', ''))\n",
        "      if points > 99:\n",
        "        hn.append({'title': title, 'link': href, 'votes': points})\n",
        "  return hn\n",
        "\n",
        "print(create_custom_hn(links, subtext))"
      ],
      "metadata": {
        "colab": {
          "base_uri": "https://localhost:8080/"
        },
        "id": "g9F-hWpW6l_d",
        "outputId": "e0ee5b61-7e04-41d1-b822-fccf3f26656c"
      },
      "execution_count": 7,
      "outputs": [
        {
          "output_type": "stream",
          "name": "stdout",
          "text": [
            "[{'title': 'The hunt for the missing data type', 'link': 'https://www.hillelwayne.com/post/graph-types/', 'votes': 189}, {'title': 'Claude 3 model family', 'link': 'https://www.anthropic.com/news/claude-3-family', 'votes': 605}, {'title': 'Show HN: Astro App', 'link': 'https://astro.sshh.io/', 'votes': 149}, {'title': 'Singapore Airlines Concorde', 'link': 'https://mainlymiles.com/2024/03/03/singapore-airlines-concorde-full-story/', 'votes': 144}, {'title': 'I made a bad camera lens from some old glasses [video]', 'link': 'https://www.youtube.com/watch?v=-C6AcRnUmbE', 'votes': 119}, {'title': 'Rust for Embedded Systems: Current state, challenges and open problems', 'link': 'https://arxiv.org/abs/2311.05063', 'votes': 106}, {'title': 'French court issues damages award for violation of GPL', 'link': 'https://heathermeeker.com/2024/02/17/french-court-issues-damages-award-for-violation-of-gpl/', 'votes': 797}, {'title': 'New 13- and 15‑inch MacBook Air with M3 chip', 'link': 'https://www.apple.com/newsroom/2024/03/apple-unveils-the-new-13-and-15-inch-macbook-air-with-the-powerful-m3-chip/', 'votes': 185}, {'title': 'Yuzu emulator developers settle Nintendo lawsuit, pay $2.4M in damages', 'link': 'https://twitter.com/oatmealdome/status/1764704580724576465', 'votes': 106}, {'title': 'Nvidia bans using translation layers for CUDA software to run on other chips', 'link': 'https://www.tomshardware.com/pc-components/gpus/nvidia-bans-using-translation-layers-for-cuda-software-to-run-on-other-chips-new-restriction-apparently-targets-zluda-and-some-chinese-gpu-makers', 'votes': 192}]\n"
          ]
        }
      ]
    },
    {
      "cell_type": "code",
      "source": [
        "def create_custom_hn(links, subtext):\n",
        "  hn = []\n",
        "  for idx, item in enumerate(links):\n",
        "    title = item.getText()\n",
        "    href = item.get('href', None)\n",
        "    vote = subtext[idx].select('.score')\n",
        "    hn.append({'title': title, 'link': href, 'votes': vote})\n",
        "  return hn\n",
        "\n",
        "print(create_custom_hn(links, subtext))"
      ],
      "metadata": {
        "colab": {
          "base_uri": "https://localhost:8080/"
        },
        "id": "8uIIFsKf7U1W",
        "outputId": "7bcf9e26-9904-4ccc-ef0a-27e5f147d217"
      },
      "execution_count": 9,
      "outputs": [
        {
          "output_type": "stream",
          "name": "stdout",
          "text": [
            "[{'title': 'The hunt for the missing data type', 'link': 'https://www.hillelwayne.com/post/graph-types/', 'votes': [<span class=\"score\" id=\"score_39592444\">189 points</span>]}, {'title': 'Claude 3 model family', 'link': 'https://www.anthropic.com/news/claude-3-family', 'votes': [<span class=\"score\" id=\"score_39590666\">605 points</span>]}, {'title': 'Show HN: Astro App', 'link': 'https://astro.sshh.io/', 'votes': [<span class=\"score\" id=\"score_39591529\">149 points</span>]}, {'title': 'Improving Network Performance with Linux Flowtables', 'link': 'https://www.ubicloud.com/blog/improving-network-performance-with-linux-flowtables', 'votes': [<span class=\"score\" id=\"score_39592771\">51 points</span>]}, {'title': \"The women who coined the expression 'surfing the internet' (2019)\", 'link': 'https://www.surfertoday.com/surfing/the-woman-who-coined-the-expression-surfing-the-internet', 'votes': [<span class=\"score\" id=\"score_39592993\">49 points</span>]}, {'title': 'Opus 1.5 released: Opus gets a machine learning upgrade', 'link': 'https://opus-codec.org/demo/opus-1.5/', 'votes': [<span class=\"score\" id=\"score_39593256\">98 points</span>]}, {'title': \"Launch HN: Just words (YC W24) – Optimize your product's copy for user growth\", 'link': 'item?id=39591972', 'votes': [<span class=\"score\" id=\"score_39591972\">30 points</span>]}, {'title': \"Why it's so challenging to land upright on the moon\", 'link': 'https://www.nytimes.com/2024/03/04/science/moon-landing-sideways-gravity.html', 'votes': [<span class=\"score\" id=\"score_39591772\">7 points</span>]}, {'title': 'Singapore Airlines Concorde', 'link': 'https://mainlymiles.com/2024/03/03/singapore-airlines-concorde-full-story/', 'votes': [<span class=\"score\" id=\"score_39588830\">144 points</span>]}, {'title': 'Intel Previews Sierra Forest with 288 E-Cores, Announces Granite Rapids-D', 'link': 'https://www.anandtech.com/show/21276/intel-previews-sierra-forest-with-288-e-cores-announces-granite-rapids-d-for-2025-launch-at-mwc-2024', 'votes': [<span class=\"score\" id=\"score_39579725\">42 points</span>]}, {'title': 'Skio (YC S20) – Subscriptions for Shopify, ReCharge migrations –\\xa0Is Hiring', 'link': 'https://skio.com/careers/', 'votes': []}, {'title': 'I made a bad camera lens from some old glasses [video]', 'link': 'https://www.youtube.com/watch?v=-C6AcRnUmbE', 'votes': [<span class=\"score\" id=\"score_39589479\">119 points</span>]}, {'title': 'Rust for Embedded Systems: Current state, challenges and open problems', 'link': 'https://arxiv.org/abs/2311.05063', 'votes': [<span class=\"score\" id=\"score_39591694\">106 points</span>]}, {'title': \"U.S. Air Force Evaluating Pivotal's Blackfly Ultralight EVTOL Aircraft\", 'link': 'https://www.futureflight.aero/news-article/2024-02-27/us-air-force-evaluating-pivotals-blackfly-ultralight-evtol-aircraft', 'votes': [<span class=\"score\" id=\"score_39592499\">8 points</span>]}, {'title': 'French court issues damages award for violation of GPL', 'link': 'https://heathermeeker.com/2024/02/17/french-court-issues-damages-award-for-violation-of-gpl/', 'votes': [<span class=\"score\" id=\"score_39587344\">797 points</span>]}, {'title': \"MacPad: I created the hybrid Mac-iPad laptop and tablet that Apple won't make\", 'link': 'https://www.macstories.net/stories/macpad-how-i-created-the-hybrid-mac-ipad-laptop-and-tablet-that-apple-wont-make/', 'votes': [<span class=\"score\" id=\"score_39592288\">82 points</span>]}, {'title': 'Borrow checking without lifetimes', 'link': 'https://smallcultfollowing.com/babysteps/blog/2024/03/04/borrow-checking-without-lifetimes/', 'votes': [<span class=\"score\" id=\"score_39594362\">16 points</span>]}, {'title': 'New 13- and 15‑inch MacBook Air with M3 chip', 'link': 'https://www.apple.com/newsroom/2024/03/apple-unveils-the-new-13-and-15-inch-macbook-air-with-the-powerful-m3-chip/', 'votes': [<span class=\"score\" id=\"score_39589924\">185 points</span>]}, {'title': 'What Is a Schur Decomposition? (2022)', 'link': 'https://nhigham.com/2022/05/11/what-is-a-schur-decomposition/', 'votes': [<span class=\"score\" id=\"score_39588899\">72 points</span>]}, {'title': 'Revy – proof-of-concept time-travel debugger for the Bevy game engine', 'link': 'https://github.com/rerun-io/revy', 'votes': [<span class=\"score\" id=\"score_39590683\">30 points</span>]}, {'title': 'Yuzu emulator developers settle Nintendo lawsuit, pay $2.4M in damages', 'link': 'https://twitter.com/oatmealdome/status/1764704580724576465', 'votes': [<span class=\"score\" id=\"score_39593647\">106 points</span>]}, {'title': 'Nvidia bans using translation layers for CUDA software to run on other chips', 'link': 'https://www.tomshardware.com/pc-components/gpus/nvidia-bans-using-translation-layers-for-cuda-software-to-run-on-other-chips-new-restriction-apparently-targets-zluda-and-some-chinese-gpu-makers', 'votes': [<span class=\"score\" id=\"score_39592689\">192 points</span>]}, {'title': 'What the CEO wants you to know (2023)', 'link': 'https://commoncog.com/what-the-ceo-wants-you-to-know/', 'votes': [<span class=\"score\" id=\"score_39574137\">19 points</span>]}, {'title': 'Velato: A programming language where source code must be a valid MIDI music file', 'link': 'http://www.velato.net/', 'votes': [<span class=\"score\" id=\"score_39578796\">60 points</span>]}, {'title': 'What we learned from C++ atomics and memory model standardization [video]', 'link': 'https://www.youtube.com/watch?v=Ss7gIs2-hzk', 'votes': [<span class=\"score\" id=\"score_39592702\">26 points</span>]}, {'title': 'Show HN: Workflow orchestrator in Golang', 'link': 'https://github.com/harshadmanglani/polaris', 'votes': [<span class=\"score\" id=\"score_39593008\">5 points</span>]}, {'title': 'A broken vintage piano turned into an analog hybrid of 20 instruments', 'link': 'https://www.themusicman.uk/broken-vintage-piano/', 'votes': [<span class=\"score\" id=\"score_39575909\">53 points</span>]}, {'title': 'A mathematician who finds poetry in math and math in poetry', 'link': 'https://www.quantamagazine.org/the-theorist-who-sees-math-in-art-music-and-writing-20240112/', 'votes': [<span class=\"score\" id=\"score_39589102\">75 points</span>]}, {'title': 'A computational approach to emergence in complex multi-level systems', 'link': 'https://arxiv.org/abs/2402.09090', 'votes': [<span class=\"score\" id=\"score_39575264\">79 points</span>]}, {'title': 'Comparing Postgres Managed Services: AWS, Azure, GCP and Supabase', 'link': 'https://blog.peerdb.io/comparing-postgres-managed-services-aws-azure-gcp-and-supabase', 'votes': [<span class=\"score\" id=\"score_39593384\">38 points</span>]}]\n"
          ]
        }
      ]
    },
    {
      "cell_type": "code",
      "source": [
        "def create_custom_hn(links, subtext):\n",
        "  hn = []\n",
        "  for idx, item in enumerate(links):\n",
        "    title = item.getText()\n",
        "    href = item.get('href', None)\n",
        "    vote = subtext[idx].select('#score_39592444')\n",
        "    hn.append({'title': title, 'link': href, 'votes': vote})\n",
        "  return hn\n",
        "\n",
        "print(create_custom_hn(links, subtext))"
      ],
      "metadata": {
        "colab": {
          "base_uri": "https://localhost:8080/"
        },
        "id": "RQr4SB8CAptY",
        "outputId": "dfc0f787-199d-4d6d-dfaa-5f64ae8c339e"
      },
      "execution_count": 18,
      "outputs": [
        {
          "output_type": "stream",
          "name": "stdout",
          "text": [
            "[{'title': 'The hunt for the missing data type', 'link': 'https://www.hillelwayne.com/post/graph-types/', 'votes': [<span class=\"score\" id=\"score_39592444\">189 points</span>]}, {'title': 'Claude 3 model family', 'link': 'https://www.anthropic.com/news/claude-3-family', 'votes': []}, {'title': 'Show HN: Astro App', 'link': 'https://astro.sshh.io/', 'votes': []}, {'title': 'Improving Network Performance with Linux Flowtables', 'link': 'https://www.ubicloud.com/blog/improving-network-performance-with-linux-flowtables', 'votes': []}, {'title': \"The women who coined the expression 'surfing the internet' (2019)\", 'link': 'https://www.surfertoday.com/surfing/the-woman-who-coined-the-expression-surfing-the-internet', 'votes': []}, {'title': 'Opus 1.5 released: Opus gets a machine learning upgrade', 'link': 'https://opus-codec.org/demo/opus-1.5/', 'votes': []}, {'title': \"Launch HN: Just words (YC W24) – Optimize your product's copy for user growth\", 'link': 'item?id=39591972', 'votes': []}, {'title': \"Why it's so challenging to land upright on the moon\", 'link': 'https://www.nytimes.com/2024/03/04/science/moon-landing-sideways-gravity.html', 'votes': []}, {'title': 'Singapore Airlines Concorde', 'link': 'https://mainlymiles.com/2024/03/03/singapore-airlines-concorde-full-story/', 'votes': []}, {'title': 'Intel Previews Sierra Forest with 288 E-Cores, Announces Granite Rapids-D', 'link': 'https://www.anandtech.com/show/21276/intel-previews-sierra-forest-with-288-e-cores-announces-granite-rapids-d-for-2025-launch-at-mwc-2024', 'votes': []}, {'title': 'Skio (YC S20) – Subscriptions for Shopify, ReCharge migrations –\\xa0Is Hiring', 'link': 'https://skio.com/careers/', 'votes': []}, {'title': 'I made a bad camera lens from some old glasses [video]', 'link': 'https://www.youtube.com/watch?v=-C6AcRnUmbE', 'votes': []}, {'title': 'Rust for Embedded Systems: Current state, challenges and open problems', 'link': 'https://arxiv.org/abs/2311.05063', 'votes': []}, {'title': \"U.S. Air Force Evaluating Pivotal's Blackfly Ultralight EVTOL Aircraft\", 'link': 'https://www.futureflight.aero/news-article/2024-02-27/us-air-force-evaluating-pivotals-blackfly-ultralight-evtol-aircraft', 'votes': []}, {'title': 'French court issues damages award for violation of GPL', 'link': 'https://heathermeeker.com/2024/02/17/french-court-issues-damages-award-for-violation-of-gpl/', 'votes': []}, {'title': \"MacPad: I created the hybrid Mac-iPad laptop and tablet that Apple won't make\", 'link': 'https://www.macstories.net/stories/macpad-how-i-created-the-hybrid-mac-ipad-laptop-and-tablet-that-apple-wont-make/', 'votes': []}, {'title': 'Borrow checking without lifetimes', 'link': 'https://smallcultfollowing.com/babysteps/blog/2024/03/04/borrow-checking-without-lifetimes/', 'votes': []}, {'title': 'New 13- and 15‑inch MacBook Air with M3 chip', 'link': 'https://www.apple.com/newsroom/2024/03/apple-unveils-the-new-13-and-15-inch-macbook-air-with-the-powerful-m3-chip/', 'votes': []}, {'title': 'What Is a Schur Decomposition? (2022)', 'link': 'https://nhigham.com/2022/05/11/what-is-a-schur-decomposition/', 'votes': []}, {'title': 'Revy – proof-of-concept time-travel debugger for the Bevy game engine', 'link': 'https://github.com/rerun-io/revy', 'votes': []}, {'title': 'Yuzu emulator developers settle Nintendo lawsuit, pay $2.4M in damages', 'link': 'https://twitter.com/oatmealdome/status/1764704580724576465', 'votes': []}, {'title': 'Nvidia bans using translation layers for CUDA software to run on other chips', 'link': 'https://www.tomshardware.com/pc-components/gpus/nvidia-bans-using-translation-layers-for-cuda-software-to-run-on-other-chips-new-restriction-apparently-targets-zluda-and-some-chinese-gpu-makers', 'votes': []}, {'title': 'What the CEO wants you to know (2023)', 'link': 'https://commoncog.com/what-the-ceo-wants-you-to-know/', 'votes': []}, {'title': 'Velato: A programming language where source code must be a valid MIDI music file', 'link': 'http://www.velato.net/', 'votes': []}, {'title': 'What we learned from C++ atomics and memory model standardization [video]', 'link': 'https://www.youtube.com/watch?v=Ss7gIs2-hzk', 'votes': []}, {'title': 'Show HN: Workflow orchestrator in Golang', 'link': 'https://github.com/harshadmanglani/polaris', 'votes': []}, {'title': 'A broken vintage piano turned into an analog hybrid of 20 instruments', 'link': 'https://www.themusicman.uk/broken-vintage-piano/', 'votes': []}, {'title': 'A mathematician who finds poetry in math and math in poetry', 'link': 'https://www.quantamagazine.org/the-theorist-who-sees-math-in-art-music-and-writing-20240112/', 'votes': []}, {'title': 'A computational approach to emergence in complex multi-level systems', 'link': 'https://arxiv.org/abs/2402.09090', 'votes': []}, {'title': 'Comparing Postgres Managed Services: AWS, Azure, GCP and Supabase', 'link': 'https://blog.peerdb.io/comparing-postgres-managed-services-aws-azure-gcp-and-supabase', 'votes': []}]\n"
          ]
        }
      ]
    },
    {
      "cell_type": "code",
      "source": [],
      "metadata": {
        "id": "pQMueQFYBrxa"
      },
      "execution_count": null,
      "outputs": []
    },
    {
      "cell_type": "markdown",
      "source": [
        "[{'title': 'The hunt for the missing data type', 'link': 'https://www.hillelwayne.com/post/graph-types/', 'votes': [<span class=\"score\" id=\"score_39592444\">189 points</span>]}, {'title': 'Claude 3 model family', 'link': 'https://www.anthropic.com/news/claude-3-family', 'votes': []}, {'title': 'Show HN: Astro App', 'link': 'https://astro.sshh.io/', 'votes': []}, {'title': 'Improving Network Performance with Linux Flowtables', 'link': 'https://www.ubicloud.com/blog/improving-network-performance-with-linux-flowtables', 'votes': []}, {'title': \"The women who coined the expression 'surfing the internet' (2019)\", 'link': 'https://www.surfertoday.com/surfing/the-woman-who-coined-the-expression-surfing-the-internet', 'votes': []}, {'title': 'Opus 1.5 released: Opus gets a machine learning upgrade', 'link': 'https://opus-codec.org/demo/opus-1.5/', 'votes': []}, {'title': \"Launch HN: Just words (YC W24) – Optimize your product's copy for user growth\", 'link': 'item?id=39591972', 'votes': []}, {'title': \"Why it's so challenging to land upright on the moon\", 'link': 'https://www.nytimes.com/2024/03/04/science/moon-landing-sideways-gravity.html', 'votes': []}, {'title': 'Singapore Airlines Concorde', 'link': 'https://mainlymiles.com/2024/03/03/singapore-airlines-concorde-full-story/', 'votes': []}, {'title': 'Intel Previews Sierra Forest with 288 E-Cores, Announces Granite Rapids-D', 'link': 'https://www.anandtech.com/show/21276/intel-previews-sierra-forest-with-288-e-cores-announces-granite-rapids-d-for-2025-launch-at-mwc-2024', 'votes': []}, {'title': 'Skio (YC S20) – Subscriptions for Shopify, ReCharge migrations –\\xa0Is Hiring', 'link': 'https://skio.com/careers/', 'votes': []}, {'title': 'I made a bad camera lens from some old glasses [video]', 'link': 'https://www.youtube.com/watch?v=-C6AcRnUmbE', 'votes': []}, {'title': 'Rust for Embedded Systems: Current state, challenges and open problems', 'link': 'https://arxiv.org/abs/2311.05063', 'votes': []}, {'title': \"U.S. Air Force Evaluating Pivotal's Blackfly Ultralight EVTOL Aircraft\", 'link': 'https://www.futureflight.aero/news-article/2024-02-27/us-air-force-evaluating-pivotals-blackfly-ultralight-evtol-aircraft', 'votes': []}, {'title': 'French court issues damages award for violation of GPL', 'link': 'https://heathermeeker.com/2024/02/17/french-court-issues-damages-award-for-violation-of-gpl/', 'votes': []}, {'title': \"MacPad: I created the hybrid Mac-iPad laptop and tablet that Apple won't make\", 'link': 'https://www.macstories.net/stories/macpad-how-i-created-the-hybrid-mac-ipad-laptop-and-tablet-that-apple-wont-make/', 'votes': []}, {'title': 'Borrow checking without lifetimes', 'link': 'https://smallcultfollowing.com/babysteps/blog/2024/03/04/borrow-checking-without-lifetimes/', 'votes': []}, {'title': 'New 13- and 15‑inch MacBook Air with M3 chip', 'link': 'https://www.apple.com/newsroom/2024/03/apple-unveils-the-new-13-and-15-inch-macbook-air-with-the-powerful-m3-chip/', 'votes': []}, {'title': 'What Is a Schur Decomposition? (2022)', 'link': 'https://nhigham.com/2022/05/11/what-is-a-schur-decomposition/', 'votes': []}, {'title': 'Revy – proof-of-concept time-travel debugger for the Bevy game engine', 'link': 'https://github.com/rerun-io/revy', 'votes': []}, {'title': 'Yuzu emulator developers settle Nintendo lawsuit, pay $2.4M in damages', 'link': 'https://twitter.com/oatmealdome/status/1764704580724576465', 'votes': []}, {'title': 'Nvidia bans using translation layers for CUDA software to run on other chips', 'link': 'https://www.tomshardware.com/pc-components/gpus/nvidia-bans-using-translation-layers-for-cuda-software-to-run-on-other-chips-new-restriction-apparently-targets-zluda-and-some-chinese-gpu-makers', 'votes': []}, {'title': 'What the CEO wants you to know (2023)', 'link': 'https://commoncog.com/what-the-ceo-wants-you-to-know/', 'votes': []}, {'title': 'Velato: A programming language where source code must be a valid MIDI music file', 'link': 'http://www.velato.net/', 'votes': []}, {'title': 'What we learned from C++ atomics and memory model standardization [video]', 'link': 'https://www.youtube.com/watch?v=Ss7gIs2-hzk', 'votes': []}, {'title': 'Show HN: Workflow orchestrator in Golang', 'link': 'https://github.com/harshadmanglani/polaris', 'votes': []}, {'title': 'A broken vintage piano turned into an analog hybrid of 20 instruments', 'link': 'https://www.themusicman.uk/broken-vintage-piano/', 'votes': []}, {'title': 'A mathematician who finds poetry in math and math in poetry', 'link': 'https://www.quantamagazine.org/the-theorist-who-sees-math-in-art-music-and-writing-20240112/', 'votes': []}, {'title': 'A computational approach to emergence in complex multi-level systems', 'link': 'https://arxiv.org/abs/2402.09090', 'votes': []}, {'title': 'Comparing Postgres Managed Services: AWS, Azure, GCP and Supabase', 'link': 'https://blog.peerdb.io/comparing-postgres-managed-services-aws-azure-gcp-and-supabase', 'votes': []}]\n"
      ],
      "metadata": {
        "id": "U0BxN4uPBUqs"
      }
    },
    {
      "cell_type": "code",
      "source": [
        "def create_custom_hn(links, subtext):\n",
        "  hn = []\n",
        "  for idx, item in enumerate(links):\n",
        "    title = item.getText()\n",
        "    href = item.get('href', None)\n",
        "    vote = subtext[idx].select('.score')\n",
        "    if len(vote):\n",
        "      points = int(vote[0].getText().replace(' points', ''))\n",
        "      print(points)\n",
        "    hn.append({'title': title, 'link': href, 'votes': vote})\n",
        "  return hn\n",
        "\n",
        "print(create_custom_hn(links, subtext))"
      ],
      "metadata": {
        "colab": {
          "base_uri": "https://localhost:8080/"
        },
        "id": "N4LgW0wzBtnt",
        "outputId": "2f1a31d5-480c-40cd-d2d0-4884f15380ad"
      },
      "execution_count": 21,
      "outputs": [
        {
          "output_type": "stream",
          "name": "stdout",
          "text": [
            "189\n",
            "605\n",
            "149\n",
            "51\n",
            "49\n",
            "98\n",
            "30\n",
            "7\n",
            "144\n",
            "42\n",
            "119\n",
            "106\n",
            "8\n",
            "797\n",
            "82\n",
            "16\n",
            "185\n",
            "72\n",
            "30\n",
            "106\n",
            "192\n",
            "19\n",
            "60\n",
            "26\n",
            "5\n",
            "53\n",
            "75\n",
            "79\n",
            "38\n",
            "[{'title': 'The hunt for the missing data type', 'link': 'https://www.hillelwayne.com/post/graph-types/', 'votes': [<span class=\"score\" id=\"score_39592444\">189 points</span>]}, {'title': 'Claude 3 model family', 'link': 'https://www.anthropic.com/news/claude-3-family', 'votes': [<span class=\"score\" id=\"score_39590666\">605 points</span>]}, {'title': 'Show HN: Astro App', 'link': 'https://astro.sshh.io/', 'votes': [<span class=\"score\" id=\"score_39591529\">149 points</span>]}, {'title': 'Improving Network Performance with Linux Flowtables', 'link': 'https://www.ubicloud.com/blog/improving-network-performance-with-linux-flowtables', 'votes': [<span class=\"score\" id=\"score_39592771\">51 points</span>]}, {'title': \"The women who coined the expression 'surfing the internet' (2019)\", 'link': 'https://www.surfertoday.com/surfing/the-woman-who-coined-the-expression-surfing-the-internet', 'votes': [<span class=\"score\" id=\"score_39592993\">49 points</span>]}, {'title': 'Opus 1.5 released: Opus gets a machine learning upgrade', 'link': 'https://opus-codec.org/demo/opus-1.5/', 'votes': [<span class=\"score\" id=\"score_39593256\">98 points</span>]}, {'title': \"Launch HN: Just words (YC W24) – Optimize your product's copy for user growth\", 'link': 'item?id=39591972', 'votes': [<span class=\"score\" id=\"score_39591972\">30 points</span>]}, {'title': \"Why it's so challenging to land upright on the moon\", 'link': 'https://www.nytimes.com/2024/03/04/science/moon-landing-sideways-gravity.html', 'votes': [<span class=\"score\" id=\"score_39591772\">7 points</span>]}, {'title': 'Singapore Airlines Concorde', 'link': 'https://mainlymiles.com/2024/03/03/singapore-airlines-concorde-full-story/', 'votes': [<span class=\"score\" id=\"score_39588830\">144 points</span>]}, {'title': 'Intel Previews Sierra Forest with 288 E-Cores, Announces Granite Rapids-D', 'link': 'https://www.anandtech.com/show/21276/intel-previews-sierra-forest-with-288-e-cores-announces-granite-rapids-d-for-2025-launch-at-mwc-2024', 'votes': [<span class=\"score\" id=\"score_39579725\">42 points</span>]}, {'title': 'Skio (YC S20) – Subscriptions for Shopify, ReCharge migrations –\\xa0Is Hiring', 'link': 'https://skio.com/careers/', 'votes': []}, {'title': 'I made a bad camera lens from some old glasses [video]', 'link': 'https://www.youtube.com/watch?v=-C6AcRnUmbE', 'votes': [<span class=\"score\" id=\"score_39589479\">119 points</span>]}, {'title': 'Rust for Embedded Systems: Current state, challenges and open problems', 'link': 'https://arxiv.org/abs/2311.05063', 'votes': [<span class=\"score\" id=\"score_39591694\">106 points</span>]}, {'title': \"U.S. Air Force Evaluating Pivotal's Blackfly Ultralight EVTOL Aircraft\", 'link': 'https://www.futureflight.aero/news-article/2024-02-27/us-air-force-evaluating-pivotals-blackfly-ultralight-evtol-aircraft', 'votes': [<span class=\"score\" id=\"score_39592499\">8 points</span>]}, {'title': 'French court issues damages award for violation of GPL', 'link': 'https://heathermeeker.com/2024/02/17/french-court-issues-damages-award-for-violation-of-gpl/', 'votes': [<span class=\"score\" id=\"score_39587344\">797 points</span>]}, {'title': \"MacPad: I created the hybrid Mac-iPad laptop and tablet that Apple won't make\", 'link': 'https://www.macstories.net/stories/macpad-how-i-created-the-hybrid-mac-ipad-laptop-and-tablet-that-apple-wont-make/', 'votes': [<span class=\"score\" id=\"score_39592288\">82 points</span>]}, {'title': 'Borrow checking without lifetimes', 'link': 'https://smallcultfollowing.com/babysteps/blog/2024/03/04/borrow-checking-without-lifetimes/', 'votes': [<span class=\"score\" id=\"score_39594362\">16 points</span>]}, {'title': 'New 13- and 15‑inch MacBook Air with M3 chip', 'link': 'https://www.apple.com/newsroom/2024/03/apple-unveils-the-new-13-and-15-inch-macbook-air-with-the-powerful-m3-chip/', 'votes': [<span class=\"score\" id=\"score_39589924\">185 points</span>]}, {'title': 'What Is a Schur Decomposition? (2022)', 'link': 'https://nhigham.com/2022/05/11/what-is-a-schur-decomposition/', 'votes': [<span class=\"score\" id=\"score_39588899\">72 points</span>]}, {'title': 'Revy – proof-of-concept time-travel debugger for the Bevy game engine', 'link': 'https://github.com/rerun-io/revy', 'votes': [<span class=\"score\" id=\"score_39590683\">30 points</span>]}, {'title': 'Yuzu emulator developers settle Nintendo lawsuit, pay $2.4M in damages', 'link': 'https://twitter.com/oatmealdome/status/1764704580724576465', 'votes': [<span class=\"score\" id=\"score_39593647\">106 points</span>]}, {'title': 'Nvidia bans using translation layers for CUDA software to run on other chips', 'link': 'https://www.tomshardware.com/pc-components/gpus/nvidia-bans-using-translation-layers-for-cuda-software-to-run-on-other-chips-new-restriction-apparently-targets-zluda-and-some-chinese-gpu-makers', 'votes': [<span class=\"score\" id=\"score_39592689\">192 points</span>]}, {'title': 'What the CEO wants you to know (2023)', 'link': 'https://commoncog.com/what-the-ceo-wants-you-to-know/', 'votes': [<span class=\"score\" id=\"score_39574137\">19 points</span>]}, {'title': 'Velato: A programming language where source code must be a valid MIDI music file', 'link': 'http://www.velato.net/', 'votes': [<span class=\"score\" id=\"score_39578796\">60 points</span>]}, {'title': 'What we learned from C++ atomics and memory model standardization [video]', 'link': 'https://www.youtube.com/watch?v=Ss7gIs2-hzk', 'votes': [<span class=\"score\" id=\"score_39592702\">26 points</span>]}, {'title': 'Show HN: Workflow orchestrator in Golang', 'link': 'https://github.com/harshadmanglani/polaris', 'votes': [<span class=\"score\" id=\"score_39593008\">5 points</span>]}, {'title': 'A broken vintage piano turned into an analog hybrid of 20 instruments', 'link': 'https://www.themusicman.uk/broken-vintage-piano/', 'votes': [<span class=\"score\" id=\"score_39575909\">53 points</span>]}, {'title': 'A mathematician who finds poetry in math and math in poetry', 'link': 'https://www.quantamagazine.org/the-theorist-who-sees-math-in-art-music-and-writing-20240112/', 'votes': [<span class=\"score\" id=\"score_39589102\">75 points</span>]}, {'title': 'A computational approach to emergence in complex multi-level systems', 'link': 'https://arxiv.org/abs/2402.09090', 'votes': [<span class=\"score\" id=\"score_39575264\">79 points</span>]}, {'title': 'Comparing Postgres Managed Services: AWS, Azure, GCP and Supabase', 'link': 'https://blog.peerdb.io/comparing-postgres-managed-services-aws-azure-gcp-and-supabase', 'votes': [<span class=\"score\" id=\"score_39593384\">38 points</span>]}]\n"
          ]
        }
      ]
    },
    {
      "cell_type": "code",
      "source": [
        "def create_custom_hn(links, subtext):\n",
        "  hn = []\n",
        "  for idx, item in enumerate(links):\n",
        "    title = item.getText()\n",
        "    href = item.get('href', None)\n",
        "    vote = subtext[idx].select('.score')\n",
        "    if len(vote):\n",
        "      points = int(vote[0].getText().replace(' points', ''))\n",
        "      # print(points)\n",
        "    hn.append({'title': title, 'link': href, 'votes': points})\n",
        "  return hn\n",
        "\n",
        "print(create_custom_hn(links, subtext))"
      ],
      "metadata": {
        "colab": {
          "base_uri": "https://localhost:8080/"
        },
        "id": "qGIOPzQ6CvnB",
        "outputId": "f8691d96-9df5-4934-8298-cd5e45b4b604"
      },
      "execution_count": 23,
      "outputs": [
        {
          "output_type": "stream",
          "name": "stdout",
          "text": [
            "[{'title': 'The hunt for the missing data type', 'link': 'https://www.hillelwayne.com/post/graph-types/', 'votes': 189}, {'title': 'Claude 3 model family', 'link': 'https://www.anthropic.com/news/claude-3-family', 'votes': 605}, {'title': 'Show HN: Astro App', 'link': 'https://astro.sshh.io/', 'votes': 149}, {'title': 'Improving Network Performance with Linux Flowtables', 'link': 'https://www.ubicloud.com/blog/improving-network-performance-with-linux-flowtables', 'votes': 51}, {'title': \"The women who coined the expression 'surfing the internet' (2019)\", 'link': 'https://www.surfertoday.com/surfing/the-woman-who-coined-the-expression-surfing-the-internet', 'votes': 49}, {'title': 'Opus 1.5 released: Opus gets a machine learning upgrade', 'link': 'https://opus-codec.org/demo/opus-1.5/', 'votes': 98}, {'title': \"Launch HN: Just words (YC W24) – Optimize your product's copy for user growth\", 'link': 'item?id=39591972', 'votes': 30}, {'title': \"Why it's so challenging to land upright on the moon\", 'link': 'https://www.nytimes.com/2024/03/04/science/moon-landing-sideways-gravity.html', 'votes': 7}, {'title': 'Singapore Airlines Concorde', 'link': 'https://mainlymiles.com/2024/03/03/singapore-airlines-concorde-full-story/', 'votes': 144}, {'title': 'Intel Previews Sierra Forest with 288 E-Cores, Announces Granite Rapids-D', 'link': 'https://www.anandtech.com/show/21276/intel-previews-sierra-forest-with-288-e-cores-announces-granite-rapids-d-for-2025-launch-at-mwc-2024', 'votes': 42}, {'title': 'Skio (YC S20) – Subscriptions for Shopify, ReCharge migrations –\\xa0Is Hiring', 'link': 'https://skio.com/careers/', 'votes': 42}, {'title': 'I made a bad camera lens from some old glasses [video]', 'link': 'https://www.youtube.com/watch?v=-C6AcRnUmbE', 'votes': 119}, {'title': 'Rust for Embedded Systems: Current state, challenges and open problems', 'link': 'https://arxiv.org/abs/2311.05063', 'votes': 106}, {'title': \"U.S. Air Force Evaluating Pivotal's Blackfly Ultralight EVTOL Aircraft\", 'link': 'https://www.futureflight.aero/news-article/2024-02-27/us-air-force-evaluating-pivotals-blackfly-ultralight-evtol-aircraft', 'votes': 8}, {'title': 'French court issues damages award for violation of GPL', 'link': 'https://heathermeeker.com/2024/02/17/french-court-issues-damages-award-for-violation-of-gpl/', 'votes': 797}, {'title': \"MacPad: I created the hybrid Mac-iPad laptop and tablet that Apple won't make\", 'link': 'https://www.macstories.net/stories/macpad-how-i-created-the-hybrid-mac-ipad-laptop-and-tablet-that-apple-wont-make/', 'votes': 82}, {'title': 'Borrow checking without lifetimes', 'link': 'https://smallcultfollowing.com/babysteps/blog/2024/03/04/borrow-checking-without-lifetimes/', 'votes': 16}, {'title': 'New 13- and 15‑inch MacBook Air with M3 chip', 'link': 'https://www.apple.com/newsroom/2024/03/apple-unveils-the-new-13-and-15-inch-macbook-air-with-the-powerful-m3-chip/', 'votes': 185}, {'title': 'What Is a Schur Decomposition? (2022)', 'link': 'https://nhigham.com/2022/05/11/what-is-a-schur-decomposition/', 'votes': 72}, {'title': 'Revy – proof-of-concept time-travel debugger for the Bevy game engine', 'link': 'https://github.com/rerun-io/revy', 'votes': 30}, {'title': 'Yuzu emulator developers settle Nintendo lawsuit, pay $2.4M in damages', 'link': 'https://twitter.com/oatmealdome/status/1764704580724576465', 'votes': 106}, {'title': 'Nvidia bans using translation layers for CUDA software to run on other chips', 'link': 'https://www.tomshardware.com/pc-components/gpus/nvidia-bans-using-translation-layers-for-cuda-software-to-run-on-other-chips-new-restriction-apparently-targets-zluda-and-some-chinese-gpu-makers', 'votes': 192}, {'title': 'What the CEO wants you to know (2023)', 'link': 'https://commoncog.com/what-the-ceo-wants-you-to-know/', 'votes': 19}, {'title': 'Velato: A programming language where source code must be a valid MIDI music file', 'link': 'http://www.velato.net/', 'votes': 60}, {'title': 'What we learned from C++ atomics and memory model standardization [video]', 'link': 'https://www.youtube.com/watch?v=Ss7gIs2-hzk', 'votes': 26}, {'title': 'Show HN: Workflow orchestrator in Golang', 'link': 'https://github.com/harshadmanglani/polaris', 'votes': 5}, {'title': 'A broken vintage piano turned into an analog hybrid of 20 instruments', 'link': 'https://www.themusicman.uk/broken-vintage-piano/', 'votes': 53}, {'title': 'A mathematician who finds poetry in math and math in poetry', 'link': 'https://www.quantamagazine.org/the-theorist-who-sees-math-in-art-music-and-writing-20240112/', 'votes': 75}, {'title': 'A computational approach to emergence in complex multi-level systems', 'link': 'https://arxiv.org/abs/2402.09090', 'votes': 79}, {'title': 'Comparing Postgres Managed Services: AWS, Azure, GCP and Supabase', 'link': 'https://blog.peerdb.io/comparing-postgres-managed-services-aws-azure-gcp-and-supabase', 'votes': 38}]\n"
          ]
        }
      ]
    },
    {
      "cell_type": "code",
      "source": [
        "import pprint\n"
      ],
      "metadata": {
        "id": "OjJvwqlKDKEJ"
      },
      "execution_count": 26,
      "outputs": []
    },
    {
      "cell_type": "code",
      "source": [
        "\n",
        "def create_custom_hn(links, subtext):\n",
        "  hn = []\n",
        "  for idx, item in enumerate(links):\n",
        "    title = item.getText()\n",
        "    href = item.get('href', None)\n",
        "    vote = subtext[idx].select('.score')\n",
        "    if len(vote):\n",
        "      points = int(vote[0].getText().replace(' points', ''))\n",
        "      # print(points)\n",
        "    hn.append({'title': title, 'link': href, 'votes': points})\n",
        "  return hn\n",
        "\n",
        "pprint.pprint(create_custom_hn(links, subtext))"
      ],
      "metadata": {
        "colab": {
          "base_uri": "https://localhost:8080/"
        },
        "id": "SrjK76CKDgXD",
        "outputId": "29ace5e8-3f0c-468d-e1d6-dd8ca7a0dcac"
      },
      "execution_count": 27,
      "outputs": [
        {
          "output_type": "stream",
          "name": "stdout",
          "text": [
            "[{'link': 'https://www.hillelwayne.com/post/graph-types/',\n",
            "  'title': 'The hunt for the missing data type',\n",
            "  'votes': 189},\n",
            " {'link': 'https://www.anthropic.com/news/claude-3-family',\n",
            "  'title': 'Claude 3 model family',\n",
            "  'votes': 605},\n",
            " {'link': 'https://astro.sshh.io/',\n",
            "  'title': 'Show HN: Astro App',\n",
            "  'votes': 149},\n",
            " {'link': 'https://www.ubicloud.com/blog/improving-network-performance-with-linux-flowtables',\n",
            "  'title': 'Improving Network Performance with Linux Flowtables',\n",
            "  'votes': 51},\n",
            " {'link': 'https://www.surfertoday.com/surfing/the-woman-who-coined-the-expression-surfing-the-internet',\n",
            "  'title': \"The women who coined the expression 'surfing the internet' (2019)\",\n",
            "  'votes': 49},\n",
            " {'link': 'https://opus-codec.org/demo/opus-1.5/',\n",
            "  'title': 'Opus 1.5 released: Opus gets a machine learning upgrade',\n",
            "  'votes': 98},\n",
            " {'link': 'item?id=39591972',\n",
            "  'title': \"Launch HN: Just words (YC W24) – Optimize your product's copy for \"\n",
            "           'user growth',\n",
            "  'votes': 30},\n",
            " {'link': 'https://www.nytimes.com/2024/03/04/science/moon-landing-sideways-gravity.html',\n",
            "  'title': \"Why it's so challenging to land upright on the moon\",\n",
            "  'votes': 7},\n",
            " {'link': 'https://mainlymiles.com/2024/03/03/singapore-airlines-concorde-full-story/',\n",
            "  'title': 'Singapore Airlines Concorde',\n",
            "  'votes': 144},\n",
            " {'link': 'https://www.anandtech.com/show/21276/intel-previews-sierra-forest-with-288-e-cores-announces-granite-rapids-d-for-2025-launch-at-mwc-2024',\n",
            "  'title': 'Intel Previews Sierra Forest with 288 E-Cores, Announces Granite '\n",
            "           'Rapids-D',\n",
            "  'votes': 42},\n",
            " {'link': 'https://skio.com/careers/',\n",
            "  'title': 'Skio (YC S20) – Subscriptions for Shopify, ReCharge migrations '\n",
            "           '–\\xa0Is Hiring',\n",
            "  'votes': 42},\n",
            " {'link': 'https://www.youtube.com/watch?v=-C6AcRnUmbE',\n",
            "  'title': 'I made a bad camera lens from some old glasses [video]',\n",
            "  'votes': 119},\n",
            " {'link': 'https://arxiv.org/abs/2311.05063',\n",
            "  'title': 'Rust for Embedded Systems: Current state, challenges and open '\n",
            "           'problems',\n",
            "  'votes': 106},\n",
            " {'link': 'https://www.futureflight.aero/news-article/2024-02-27/us-air-force-evaluating-pivotals-blackfly-ultralight-evtol-aircraft',\n",
            "  'title': \"U.S. Air Force Evaluating Pivotal's Blackfly Ultralight EVTOL \"\n",
            "           'Aircraft',\n",
            "  'votes': 8},\n",
            " {'link': 'https://heathermeeker.com/2024/02/17/french-court-issues-damages-award-for-violation-of-gpl/',\n",
            "  'title': 'French court issues damages award for violation of GPL',\n",
            "  'votes': 797},\n",
            " {'link': 'https://www.macstories.net/stories/macpad-how-i-created-the-hybrid-mac-ipad-laptop-and-tablet-that-apple-wont-make/',\n",
            "  'title': 'MacPad: I created the hybrid Mac-iPad laptop and tablet that Apple '\n",
            "           \"won't make\",\n",
            "  'votes': 82},\n",
            " {'link': 'https://smallcultfollowing.com/babysteps/blog/2024/03/04/borrow-checking-without-lifetimes/',\n",
            "  'title': 'Borrow checking without lifetimes',\n",
            "  'votes': 16},\n",
            " {'link': 'https://www.apple.com/newsroom/2024/03/apple-unveils-the-new-13-and-15-inch-macbook-air-with-the-powerful-m3-chip/',\n",
            "  'title': 'New 13- and 15‑inch MacBook Air with M3 chip',\n",
            "  'votes': 185},\n",
            " {'link': 'https://nhigham.com/2022/05/11/what-is-a-schur-decomposition/',\n",
            "  'title': 'What Is a Schur Decomposition? (2022)',\n",
            "  'votes': 72},\n",
            " {'link': 'https://github.com/rerun-io/revy',\n",
            "  'title': 'Revy – proof-of-concept time-travel debugger for the Bevy game '\n",
            "           'engine',\n",
            "  'votes': 30},\n",
            " {'link': 'https://twitter.com/oatmealdome/status/1764704580724576465',\n",
            "  'title': 'Yuzu emulator developers settle Nintendo lawsuit, pay $2.4M in '\n",
            "           'damages',\n",
            "  'votes': 106},\n",
            " {'link': 'https://www.tomshardware.com/pc-components/gpus/nvidia-bans-using-translation-layers-for-cuda-software-to-run-on-other-chips-new-restriction-apparently-targets-zluda-and-some-chinese-gpu-makers',\n",
            "  'title': 'Nvidia bans using translation layers for CUDA software to run on '\n",
            "           'other chips',\n",
            "  'votes': 192},\n",
            " {'link': 'https://commoncog.com/what-the-ceo-wants-you-to-know/',\n",
            "  'title': 'What the CEO wants you to know (2023)',\n",
            "  'votes': 19},\n",
            " {'link': 'http://www.velato.net/',\n",
            "  'title': 'Velato: A programming language where source code must be a valid '\n",
            "           'MIDI music file',\n",
            "  'votes': 60},\n",
            " {'link': 'https://www.youtube.com/watch?v=Ss7gIs2-hzk',\n",
            "  'title': 'What we learned from C++ atomics and memory model standardization '\n",
            "           '[video]',\n",
            "  'votes': 26},\n",
            " {'link': 'https://github.com/harshadmanglani/polaris',\n",
            "  'title': 'Show HN: Workflow orchestrator in Golang',\n",
            "  'votes': 5},\n",
            " {'link': 'https://www.themusicman.uk/broken-vintage-piano/',\n",
            "  'title': 'A broken vintage piano turned into an analog hybrid of 20 '\n",
            "           'instruments',\n",
            "  'votes': 53},\n",
            " {'link': 'https://www.quantamagazine.org/the-theorist-who-sees-math-in-art-music-and-writing-20240112/',\n",
            "  'title': 'A mathematician who finds poetry in math and math in poetry',\n",
            "  'votes': 75},\n",
            " {'link': 'https://arxiv.org/abs/2402.09090',\n",
            "  'title': 'A computational approach to emergence in complex multi-level '\n",
            "           'systems',\n",
            "  'votes': 79},\n",
            " {'link': 'https://blog.peerdb.io/comparing-postgres-managed-services-aws-azure-gcp-and-supabase',\n",
            "  'title': 'Comparing Postgres Managed Services: AWS, Azure, GCP and Supabase',\n",
            "  'votes': 38}]\n"
          ]
        }
      ]
    },
    {
      "cell_type": "code",
      "source": [
        "#add a filter to links with 100 (or more) votes\n",
        "\n",
        "def create_custom_hn(links, subtext):\n",
        "  hn = []\n",
        "  for idx, item in enumerate(links):\n",
        "    title = item.getText()\n",
        "    href = item.get('href', None)\n",
        "    vote = subtext[idx].select('.score')\n",
        "    if len(vote):\n",
        "      points = int(vote[0].getText().replace(' points', ''))\n",
        "      # print(points)\n",
        "      if points > 99:\n",
        "        hn.append({'title': title, 'link': href, 'votes': points})\n",
        "  return hn\n",
        "\n",
        "pprint.pprint(create_custom_hn(links, subtext))"
      ],
      "metadata": {
        "colab": {
          "base_uri": "https://localhost:8080/"
        },
        "id": "1SJ-9q4GDr4y",
        "outputId": "3c41ad83-9a31-4cb9-8845-f835728ae870"
      },
      "execution_count": 29,
      "outputs": [
        {
          "output_type": "stream",
          "name": "stdout",
          "text": [
            "[{'link': 'https://www.hillelwayne.com/post/graph-types/',\n",
            "  'title': 'The hunt for the missing data type',\n",
            "  'votes': 189},\n",
            " {'link': 'https://www.anthropic.com/news/claude-3-family',\n",
            "  'title': 'Claude 3 model family',\n",
            "  'votes': 605},\n",
            " {'link': 'https://astro.sshh.io/',\n",
            "  'title': 'Show HN: Astro App',\n",
            "  'votes': 149},\n",
            " {'link': 'https://mainlymiles.com/2024/03/03/singapore-airlines-concorde-full-story/',\n",
            "  'title': 'Singapore Airlines Concorde',\n",
            "  'votes': 144},\n",
            " {'link': 'https://www.youtube.com/watch?v=-C6AcRnUmbE',\n",
            "  'title': 'I made a bad camera lens from some old glasses [video]',\n",
            "  'votes': 119},\n",
            " {'link': 'https://arxiv.org/abs/2311.05063',\n",
            "  'title': 'Rust for Embedded Systems: Current state, challenges and open '\n",
            "           'problems',\n",
            "  'votes': 106},\n",
            " {'link': 'https://heathermeeker.com/2024/02/17/french-court-issues-damages-award-for-violation-of-gpl/',\n",
            "  'title': 'French court issues damages award for violation of GPL',\n",
            "  'votes': 797},\n",
            " {'link': 'https://www.apple.com/newsroom/2024/03/apple-unveils-the-new-13-and-15-inch-macbook-air-with-the-powerful-m3-chip/',\n",
            "  'title': 'New 13- and 15‑inch MacBook Air with M3 chip',\n",
            "  'votes': 185},\n",
            " {'link': 'https://twitter.com/oatmealdome/status/1764704580724576465',\n",
            "  'title': 'Yuzu emulator developers settle Nintendo lawsuit, pay $2.4M in '\n",
            "           'damages',\n",
            "  'votes': 106},\n",
            " {'link': 'https://www.tomshardware.com/pc-components/gpus/nvidia-bans-using-translation-layers-for-cuda-software-to-run-on-other-chips-new-restriction-apparently-targets-zluda-and-some-chinese-gpu-makers',\n",
            "  'title': 'Nvidia bans using translation layers for CUDA software to run on '\n",
            "           'other chips',\n",
            "  'votes': 192}]\n"
          ]
        }
      ]
    }
  ]
}