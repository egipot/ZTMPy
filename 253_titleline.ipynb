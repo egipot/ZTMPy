{
  "nbformat": 4,
  "nbformat_minor": 0,
  "metadata": {
    "colab": {
      "provenance": [],
      "authorship_tag": "ABX9TyPHtHO472YNOVpwZaf82cYJ",
      "include_colab_link": true
    },
    "kernelspec": {
      "name": "python3",
      "display_name": "Python 3"
    },
    "language_info": {
      "name": "python"
    }
  },
  "cells": [
    {
      "cell_type": "markdown",
      "metadata": {
        "id": "view-in-github",
        "colab_type": "text"
      },
      "source": [
        "<a href=\"https://colab.research.google.com/github/egipot/ZTMPy/blob/main/253_titleline.ipynb\" target=\"_parent\"><img src=\"https://colab.research.google.com/assets/colab-badge.svg\" alt=\"Open In Colab\"/></a>"
      ]
    },
    {
      "cell_type": "markdown",
      "source": [
        "code update by Andrei"
      ],
      "metadata": {
        "id": "Wn3FuQKYpnUF"
      }
    },
    {
      "cell_type": "code",
      "execution_count": 1,
      "metadata": {
        "colab": {
          "base_uri": "https://localhost:8080/"
        },
        "id": "ybSkRTiVpdJv",
        "outputId": "2bd05f1e-3f20-4ecf-debf-6a9e4a3934ef"
      },
      "outputs": [
        {
          "output_type": "stream",
          "name": "stdout",
          "text": [
            "[{'link': 'https://heathermeeker.com/2024/02/17/french-court-issues-damages-award-for-violation-of-gpl/',\n",
            "  'title': 'French court issues damages award for violation of GPL',\n",
            "  'votes': 747},\n",
            " {'link': 'https://voussoir.net/writing/css_for_printing',\n",
            "  'title': 'CSS for printing to paper',\n",
            "  'votes': 503},\n",
            " {'link': 'https://www.anthropic.com/news/claude-3-family',\n",
            "  'title': 'Claude 3 model family',\n",
            "  'votes': 498},\n",
            " {'link': 'https://www.reuters.com/technology/apple-hit-with-over-18-bln-euro-eu-antitrust-fine-spotify-case-2024-03-04/',\n",
            "  'title': 'Apple hit with over 1.8B euro EU antitrust fine in Spotify case',\n",
            "  'votes': 471},\n",
            " {'link': 'https://simonwillison.net/2024/Mar/3/interesting-ideas-in-observable-framework/',\n",
            "  'title': 'Interesting ideas in Observable Framework',\n",
            "  'votes': 317},\n",
            " {'link': 'https://www.osar.fr/notes/motionblur/',\n",
            "  'title': 'Motion blur all the way down (2022)',\n",
            "  'votes': 285},\n",
            " {'link': 'https://www.computer.org/publications/tech-news/research/dame-stephanie-steve-shirley-computer-pioneer',\n",
            "  'title': 'A woman named \"Steve\" – IT pioneer, entrepreneur, philanthropist '\n",
            "           '(2019)',\n",
            "  'votes': 249},\n",
            " {'link': 'https://calbryant.uk/blog/better-pc-cooling-with-python/',\n",
            "  'title': 'Better PC cooling with Python and Grafana',\n",
            "  'votes': 245},\n",
            " {'link': 'https://tomblog.rip/the-myth-of-the-good-listener/',\n",
            "  'title': 'How to be a good listener',\n",
            "  'votes': 196},\n",
            " {'link': 'https://deprogrammaticaipsum.com/twenty-years-is-nothing/',\n",
            "  'title': 'Twenty years is nothing',\n",
            "  'votes': 174},\n",
            " {'link': 'https://www.wescottdesign.com/articles/Sampling/sampling.pdf',\n",
            "  'title': \"Sampling: What Nyquist didn't say, and what to do about it (2018) \"\n",
            "           '[pdf]',\n",
            "  'votes': 172},\n",
            " {'link': 'http://solarcooking.org/radiant-fridge.htm',\n",
            "  'title': 'Using a solar oven as a radiant refrigerator at night',\n",
            "  'votes': 162},\n",
            " {'link': 'https://cdec.water.ca.gov/resapp/RescondMain',\n",
            "  'title': \"Nearly all of California's reservoir's are above their historical \"\n",
            "           'averages',\n",
            "  'votes': 142},\n",
            " {'link': 'https://www.apple.com/newsroom/2024/03/apple-unveils-the-new-13-and-15-inch-macbook-air-with-the-powerful-m3-chip/',\n",
            "  'title': 'New 13- and 15‑inch MacBook Air with M3 chip',\n",
            "  'votes': 129},\n",
            " {'link': 'https://astro.sshh.io/',\n",
            "  'title': 'Show HN: Astro App',\n",
            "  'votes': 120},\n",
            " {'link': 'https://mainlymiles.com/2024/03/03/singapore-airlines-concorde-full-story/',\n",
            "  'title': 'Singapore Airlines Concorde',\n",
            "  'votes': 120},\n",
            " {'link': 'https://www.washingtonpost.com/nation/2024/03/01/death-valley-lake-california-rain/',\n",
            "  'title': 'California rains resurrect a long-dead lake in dry Death Valley',\n",
            "  'votes': 120},\n",
            " {'link': 'https://twitter.com/davepl1968/status/1764459921616359478',\n",
            "  'title': 'The Corvette that Windows zip folders bought',\n",
            "  'votes': 111},\n",
            " {'link': 'https://www.hillelwayne.com/post/graph-types/',\n",
            "  'title': 'The hunt for the missing data type',\n",
            "  'votes': 105},\n",
            " {'link': 'https://www.nature.com/articles/d41586-024-00616-5',\n",
            "  'title': 'More than 2M research papers have disappeared from the Internet',\n",
            "  'votes': 104},\n",
            " {'link': 'https://www.youtube.com/watch?v=-C6AcRnUmbE',\n",
            "  'title': 'I made a bad camera lens from some old glasses [video]',\n",
            "  'votes': 101}]\n"
          ]
        }
      ],
      "source": [
        "import requests\n",
        "from bs4 import BeautifulSoup\n",
        "import pprint\n",
        "\n",
        "res = requests.get('https://news.ycombinator.com/news')\n",
        "res2 = requests.get('https://news.ycombinator.com/news?p=2')\n",
        "soup = BeautifulSoup(res.text, 'html.parser')\n",
        "soup2 = BeautifulSoup(res2.text, 'html.parser')\n",
        "\n",
        "links = soup.select('.titleline > a') #heads up! .storylink changed to .titleline\n",
        "subtext = soup.select('.subtext')\n",
        "links2 = soup2.select('.titleline > a') #heads up! .storylink changed to .titleline\n",
        "subtext2 = soup2.select('.subtext')\n",
        "\n",
        "mega_links = links + links2\n",
        "mega_subtext = subtext + subtext2\n",
        "\n",
        "def sort_stories_by_votes(hnlist):\n",
        "  return sorted(hnlist, key= lambda k:k['votes'], reverse=True)\n",
        "\n",
        "def create_custom_hn(links, subtext):\n",
        "  hn = []\n",
        "  for idx, item in enumerate(links):\n",
        "    title = item.getText()\n",
        "    href = item.get('href', None)\n",
        "    vote = subtext[idx].select('.score')\n",
        "    if len(vote):\n",
        "      points = int(vote[0].getText().replace(' points', ''))\n",
        "      if points > 99:\n",
        "        hn.append({'title': title, 'link': href, 'votes': points})\n",
        "  return sort_stories_by_votes(hn)\n",
        "\n",
        "pprint.pprint(create_custom_hn(mega_links, mega_subtext))"
      ]
    }
  ]
}