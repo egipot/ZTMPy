{
  "nbformat": 4,
  "nbformat_minor": 0,
  "metadata": {
    "colab": {
      "provenance": [],
      "authorship_tag": "ABX9TyMt5am75vSVOEAXAFerKTBv",
      "include_colab_link": true
    },
    "kernelspec": {
      "name": "python3",
      "display_name": "Python 3"
    },
    "language_info": {
      "name": "python"
    }
  },
  "cells": [
    {
      "cell_type": "markdown",
      "metadata": {
        "id": "view-in-github",
        "colab_type": "text"
      },
      "source": [
        "<a href=\"https://colab.research.google.com/github/egipot/ZTMPy/blob/main/252_BeautifulSoup_basics.ipynb\" target=\"_parent\"><img src=\"https://colab.research.google.com/assets/colab-badge.svg\" alt=\"Open In Colab\"/></a>"
      ]
    },
    {
      "cell_type": "code",
      "execution_count": 1,
      "metadata": {
        "id": "Rt_ctfw9jZdV"
      },
      "outputs": [],
      "source": [
        "import requests\n",
        "from bs4 import BeautifulSoup\n",
        "\n"
      ]
    },
    {
      "cell_type": "code",
      "source": [
        "res = requests.get('https://news.ycombinator.com/news')\n",
        "soup = BeautifulSoup(res.text, 'html.parser')\n"
      ],
      "metadata": {
        "id": "CPUmiTDTjpo5"
      },
      "execution_count": 4,
      "outputs": []
    },
    {
      "cell_type": "code",
      "source": [
        "#https://www.w3schools.com/Tags/tag_div.asp\n",
        "# 'div' definitions:\n",
        "# The <div> tag defines a division or a section in an HTML document.\n",
        "# The <div> tag is used as a container for HTML elements - which is then styled with CSS or manipulated with JavaScript.\n",
        "# The <div> tag is easily styled by using the class or id attribute.\n",
        "# Any sort of content can be put inside the <div> tag!\n",
        "# Note: By default, browsers always place a line break before and after the <div> element.\n",
        "\n",
        "print(soup.find_all('div'))"
      ],
      "metadata": {
        "colab": {
          "base_uri": "https://localhost:8080/"
        },
        "id": "VXpdhij6k1m_",
        "outputId": "62a06a29-5dbb-4f0d-ad93-6cef6568be4a"
      },
      "execution_count": 7,
      "outputs": [
        {
          "output_type": "stream",
          "name": "stdout",
          "text": [
            "[<div class=\"votearrow\" title=\"upvote\"></div>, <div class=\"votearrow\" title=\"upvote\"></div>, <div class=\"votearrow\" title=\"upvote\"></div>, <div class=\"votearrow\" title=\"upvote\"></div>, <div class=\"votearrow\" title=\"upvote\"></div>, <div class=\"votearrow\" title=\"upvote\"></div>, <div class=\"votearrow\" title=\"upvote\"></div>, <div class=\"votearrow\" title=\"upvote\"></div>, <div class=\"votearrow\" title=\"upvote\"></div>, <div class=\"votearrow\" title=\"upvote\"></div>, <div class=\"votearrow\" title=\"upvote\"></div>, <div class=\"votearrow\" title=\"upvote\"></div>, <div class=\"votearrow\" title=\"upvote\"></div>, <div class=\"votearrow\" title=\"upvote\"></div>, <div class=\"votearrow\" title=\"upvote\"></div>, <div class=\"votearrow\" title=\"upvote\"></div>, <div class=\"votearrow\" title=\"upvote\"></div>, <div class=\"votearrow\" title=\"upvote\"></div>, <div class=\"votearrow\" title=\"upvote\"></div>, <div class=\"votearrow\" title=\"upvote\"></div>, <div class=\"votearrow\" title=\"upvote\"></div>, <div class=\"votearrow\" title=\"upvote\"></div>, <div class=\"votearrow\" title=\"upvote\"></div>, <div class=\"votearrow\" title=\"upvote\"></div>, <div class=\"votearrow\" title=\"upvote\"></div>, <div class=\"votearrow\" title=\"upvote\"></div>, <div class=\"votearrow\" title=\"upvote\"></div>, <div class=\"votearrow\" title=\"upvote\"></div>, <div class=\"votearrow\" title=\"upvote\"></div>]\n"
          ]
        }
      ]
    },
    {
      "cell_type": "markdown",
      "source": [
        "[<div class=\"votearrow\" title=\"upvote\"></div>, <div class=\"votearrow\" title=\"upvote\"></div>, <div class=\"votearrow\" title=\"upvote\"></div>, <div class=\"votearrow\" title=\"upvote\"></div>, <div class=\"votearrow\" title=\"upvote\"></div>, <div class=\"votearrow\" title=\"upvote\"></div>, <div class=\"votearrow\" title=\"upvote\"></div>, <div class=\"votearrow\" title=\"upvote\"></div>, <div class=\"votearrow\" title=\"upvote\"></div>, <div class=\"votearrow\" title=\"upvote\"></div>, <div class=\"votearrow\" title=\"upvote\"></div>, <div class=\"votearrow\" title=\"upvote\"></div>, <div class=\"votearrow\" title=\"upvote\"></div>, <div class=\"votearrow\" title=\"upvote\"></div>, <div class=\"votearrow\" title=\"upvote\"></div>, <div class=\"votearrow\" title=\"upvote\"></div>, <div class=\"votearrow\" title=\"upvote\"></div>, <div class=\"votearrow\" title=\"upvote\"></div>, <div class=\"votearrow\" title=\"upvote\"></div>, <div class=\"votearrow\" title=\"upvote\"></div>, <div class=\"votearrow\" title=\"upvote\"></div>, <div class=\"votearrow\" title=\"upvote\"></div>, <div class=\"votearrow\" title=\"upvote\"></div>, <div class=\"votearrow\" title=\"upvote\"></div>, <div class=\"votearrow\" title=\"upvote\"></div>, <div class=\"votearrow\" title=\"upvote\"></div>, <div class=\"votearrow\" title=\"upvote\"></div>, <div class=\"votearrow\" title=\"upvote\"></div>, <div class=\"votearrow\" title=\"upvote\"></div>]\n"
      ],
      "metadata": {
        "id": "4PCuViWdlEAa"
      }
    },
    {
      "cell_type": "code",
      "source": [
        "#print all the links == print all the 'a' tags\n",
        "\n",
        "print(soup.find_all('a'))"
      ],
      "metadata": {
        "colab": {
          "base_uri": "https://localhost:8080/"
        },
        "id": "-87FYgVej9fS",
        "outputId": "6f6a9189-17b8-43a5-8261-b59942e1ac36"
      },
      "execution_count": 6,
      "outputs": [
        {
          "output_type": "stream",
          "name": "stdout",
          "text": [
            "[<a href=\"https://news.ycombinator.com\"><img height=\"18\" src=\"y18.svg\" style=\"border:1px white solid; display:block\" width=\"18\"/></a>, <a href=\"news\">Hacker News</a>, <a href=\"newest\">new</a>, <a href=\"front\">past</a>, <a href=\"newcomments\">comments</a>, <a href=\"ask\">ask</a>, <a href=\"show\">show</a>, <a href=\"jobs\">jobs</a>, <a href=\"submit\" rel=\"nofollow\">submit</a>, <a href=\"login?goto=news\">login</a>, <a href=\"vote?id=39592444&amp;how=up&amp;goto=news\" id=\"up_39592444\"><div class=\"votearrow\" title=\"upvote\"></div></a>, <a href=\"https://www.hillelwayne.com/post/graph-types/\">The hunt for the missing data type</a>, <a href=\"from?site=hillelwayne.com\"><span class=\"sitestr\">hillelwayne.com</span></a>, <a class=\"hnuser\" href=\"user?id=todsacerdoti\">todsacerdoti</a>, <a href=\"item?id=39592444\">1 hour ago</a>, <a href=\"hide?id=39592444&amp;goto=news\">hide</a>, <a href=\"item?id=39592444\">40 comments</a>, <a href=\"vote?id=39592760&amp;how=up&amp;goto=news\" id=\"up_39592760\"><div class=\"votearrow\" title=\"upvote\"></div></a>, <a href=\"https://careers.walmart.com//us/jobs/WD1786226-software-engineer-iii\">Walmart is migrating the remaining F# code into Java</a>, <a href=\"from?site=walmart.com\"><span class=\"sitestr\">walmart.com</span></a>, <a class=\"hnuser\" href=\"user?id=pjmlp\">pjmlp</a>, <a href=\"item?id=39592760\">40 minutes ago</a>, <a href=\"hide?id=39592760&amp;goto=news\">hide</a>, <a href=\"item?id=39592760\">32 comments</a>, <a href=\"vote?id=39590666&amp;how=up&amp;goto=news\" id=\"up_39590666\"><div class=\"votearrow\" title=\"upvote\"></div></a>, <a href=\"https://www.anthropic.com/news/claude-3-family\">Claude 3 model family</a>, <a href=\"from?site=anthropic.com\"><span class=\"sitestr\">anthropic.com</span></a>, <a class=\"hnuser\" href=\"user?id=marc__1\">marc__1</a>, <a href=\"item?id=39590666\">3 hours ago</a>, <a href=\"hide?id=39590666&amp;goto=news\">hide</a>, <a href=\"item?id=39590666\">282 comments</a>, <a href=\"vote?id=39591529&amp;how=up&amp;goto=news\" id=\"up_39591529\"><div class=\"votearrow\" title=\"upvote\"></div></a>, <a href=\"https://astro.sshh.io/\">Show HN: Astro App</a>, <a href=\"from?site=sshh.io\"><span class=\"sitestr\">sshh.io</span></a>, <a class=\"hnuser\" href=\"user?id=sshh12\">sshh12</a>, <a href=\"item?id=39591529\">2 hours ago</a>, <a href=\"hide?id=39591529&amp;goto=news\">hide</a>, <a href=\"item?id=39591529\">32 comments</a>, <a href=\"vote?id=39592876&amp;how=up&amp;goto=news\" id=\"up_39592876\"><div class=\"votearrow\" title=\"upvote\"></div></a>, <a href=\"https://en.wikipedia.org/wiki/Category:Obsolete_occupations\">Obsolete Occupations</a>, <a href=\"from?site=wikipedia.org\"><span class=\"sitestr\">wikipedia.org</span></a>, <a class=\"hnuser\" href=\"user?id=alxjsn\">alxjsn</a>, <a href=\"item?id=39592876\">24 minutes ago</a>, <a href=\"hide?id=39592876&amp;goto=news\">hide</a>, <a href=\"item?id=39592876\">7 comments</a>, <a href=\"vote?id=39592771&amp;how=up&amp;goto=news\" id=\"up_39592771\"><div class=\"votearrow\" title=\"upvote\"></div></a>, <a href=\"https://www.ubicloud.com/blog/improving-network-performance-with-linux-flowtables\">Improving Network Performance with Linux Flowtables</a>, <a href=\"from?site=ubicloud.com\"><span class=\"sitestr\">ubicloud.com</span></a>, <a class=\"hnuser\" href=\"user?id=furkansahin\">furkansahin</a>, <a href=\"item?id=39592771\">39 minutes ago</a>, <a href=\"hide?id=39592771&amp;goto=news\">hide</a>, <a href=\"item?id=39592771\">discuss</a>, <a href=\"vote?id=39592689&amp;how=up&amp;goto=news\" id=\"up_39592689\"><div class=\"votearrow\" title=\"upvote\"></div></a>, <a href=\"https://www.tomshardware.com/pc-components/gpus/nvidia-bans-using-translation-layers-for-cuda-software-to-run-on-other-chips-new-restriction-apparently-targets-zluda-and-some-chinese-gpu-makers\">Nvidia bans using translation layers for CUDA software to run on other chips</a>, <a href=\"from?site=tomshardware.com\"><span class=\"sitestr\">tomshardware.com</span></a>, <a class=\"hnuser\" href=\"user?id=justinclift\">justinclift</a>, <a href=\"item?id=39592689\">46 minutes ago</a>, <a href=\"hide?id=39592689&amp;goto=news\">hide</a>, <a href=\"item?id=39592689\">24 comments</a>, <a href=\"https://skio.com/careers/\">Skio (YC S20) – Subscriptions for Shopify, ReCharge Migrations Is Hiring</a>, <a href=\"from?site=skio.com\"><span class=\"sitestr\">skio.com</span></a>, <a href=\"item?id=39592704\">45 minutes ago</a>, <a href=\"hide?id=39592704&amp;goto=news\">hide</a>, <a href=\"vote?id=39592993&amp;how=up&amp;goto=news\" id=\"up_39592993\"><div class=\"votearrow\" title=\"upvote\"></div></a>, <a href=\"https://www.surfertoday.com/surfing/the-woman-who-coined-the-expression-surfing-the-internet\" rel=\"nofollow\">The woman who coined the expression 'Surfing the Internet'</a>, <a href=\"from?site=surfertoday.com\"><span class=\"sitestr\">surfertoday.com</span></a>, <a class=\"hnuser\" href=\"user?id=cfcfcf\">cfcfcf</a>, <a href=\"item?id=39592993\">24 minutes ago</a>, <a href=\"hide?id=39592993&amp;goto=news\">hide</a>, <a href=\"item?id=39592993\">discuss</a>, <a href=\"vote?id=39591972&amp;how=up&amp;goto=news\" id=\"up_39591972\"><div class=\"votearrow\" title=\"upvote\"></div></a>, <a href=\"item?id=39591972\">Launch HN: Just words (YC W24) – Optimize your product's copy for user growth</a>, <a class=\"hnuser\" href=\"user?id=nehagetschoice\">nehagetschoice</a>, <a href=\"item?id=39591972\">1 hour ago</a>, <a href=\"hide?id=39591972&amp;goto=news\">hide</a>, <a href=\"item?id=39591972\">15 comments</a>, <a href=\"vote?id=39589479&amp;how=up&amp;goto=news\" id=\"up_39589479\"><div class=\"votearrow\" title=\"upvote\"></div></a>, <a href=\"https://www.youtube.com/watch?v=-C6AcRnUmbE\">I made a bad camera lens from some old glasses [video]</a>, <a href=\"from?site=youtube.com\"><span class=\"sitestr\">youtube.com</span></a>, <a class=\"hnuser\" href=\"user?id=i2pi\">i2pi</a>, <a href=\"item?id=39589479\">5 hours ago</a>, <a href=\"hide?id=39589479&amp;goto=news\">hide</a>, <a href=\"item?id=39589479\">41 comments</a>, <a href=\"vote?id=39588830&amp;how=up&amp;goto=news\" id=\"up_39588830\"><div class=\"votearrow\" title=\"upvote\"></div></a>, <a href=\"https://mainlymiles.com/2024/03/03/singapore-airlines-concorde-full-story/\">Singapore Airlines Concorde</a>, <a href=\"from?site=mainlymiles.com\"><span class=\"sitestr\">mainlymiles.com</span></a>, <a class=\"hnuser\" href=\"user?id=qsi\">qsi</a>, <a href=\"item?id=39588830\">6 hours ago</a>, <a href=\"hide?id=39588830&amp;goto=news\">hide</a>, <a href=\"item?id=39588830\">128 comments</a>, <a href=\"vote?id=39591694&amp;how=up&amp;goto=news\" id=\"up_39591694\"><div class=\"votearrow\" title=\"upvote\"></div></a>, <a href=\"https://arxiv.org/abs/2311.05063\">Rust for Embedded Systems: Current state, challenges and open problems</a>, <a href=\"from?site=arxiv.org\"><span class=\"sitestr\">arxiv.org</span></a>, <a class=\"hnuser\" href=\"user?id=Sindisil\">Sindisil</a>, <a href=\"item?id=39591694\">2 hours ago</a>, <a href=\"hide?id=39591694&amp;goto=news\">hide</a>, <a href=\"item?id=39591694\">21 comments</a>, <a href=\"vote?id=39592288&amp;how=up&amp;goto=news\" id=\"up_39592288\"><div class=\"votearrow\" title=\"upvote\"></div></a>, <a href=\"https://www.macstories.net/stories/macpad-how-i-created-the-hybrid-mac-ipad-laptop-and-tablet-that-apple-wont-make/\">MacPad: I Created the Hybrid Mac-iPad Laptop and Tablet That Apple Won't Make</a>, <a href=\"from?site=macstories.net\"><span class=\"sitestr\">macstories.net</span></a>, <a class=\"hnuser\" href=\"user?id=robenkleene\">robenkleene</a>, <a href=\"item?id=39592288\">1 hour ago</a>, <a href=\"hide?id=39592288&amp;goto=news\">hide</a>, <a href=\"item?id=39592288\">14 comments</a>, <a href=\"vote?id=39579725&amp;how=up&amp;goto=news\" id=\"up_39579725\"><div class=\"votearrow\" title=\"upvote\"></div></a>, <a href=\"https://www.anandtech.com/show/21276/intel-previews-sierra-forest-with-288-e-cores-announces-granite-rapids-d-for-2025-launch-at-mwc-2024\">Intel Previews Sierra Forest with 288 E-Cores, Announces Granite Rapids-D</a>, <a href=\"from?site=anandtech.com\"><span class=\"sitestr\">anandtech.com</span></a>, <a class=\"hnuser\" href=\"user?id=PaulHoule\">PaulHoule</a>, <a href=\"item?id=39579725\">2 hours ago</a>, <a href=\"hide?id=39579725&amp;goto=news\">hide</a>, <a href=\"item?id=39579725\">3 comments</a>, <a href=\"vote?id=39586828&amp;how=up&amp;goto=news\" id=\"up_39586828\"><div class=\"votearrow\" title=\"upvote\"></div></a>, <a href=\"https://www.osar.fr/notes/motionblur/\">Motion blur all the way down (2022)</a>, <a href=\"from?site=osar.fr\"><span class=\"sitestr\">osar.fr</span></a>, <a class=\"hnuser\" href=\"user?id=azeemba\">azeemba</a>, <a href=\"item?id=39586828\">14 hours ago</a>, <a href=\"hide?id=39586828&amp;goto=news\">hide</a>, <a href=\"item?id=39586828\">81 comments</a>, <a href=\"vote?id=39592367&amp;how=up&amp;goto=news\" id=\"up_39592367\"><div class=\"votearrow\" title=\"upvote\"></div></a>, <a href=\"https://www.nature.com/articles/s41467-024-46116-y\">Effect of gut microbiome modulation on muscle function and cognition</a>, <a href=\"from?site=nature.com\"><span class=\"sitestr\">nature.com</span></a>, <a class=\"hnuser\" href=\"user?id=gnabgib\">gnabgib</a>, <a href=\"item?id=39592367\">1 hour ago</a>, <a href=\"hide?id=39592367&amp;goto=news\">hide</a>, <a href=\"item?id=39592367\">7 comments</a>, <a href=\"vote?id=39588899&amp;how=up&amp;goto=news\" id=\"up_39588899\"><div class=\"votearrow\" title=\"upvote\"></div></a>, <a href=\"https://nhigham.com/2022/05/11/what-is-a-schur-decomposition/\">What Is a Schur Decomposition? (2022)</a>, <a href=\"from?site=nhigham.com\"><span class=\"sitestr\">nhigham.com</span></a>, <a class=\"hnuser\" href=\"user?id=vector_spaces\">vector_spaces</a>, <a href=\"item?id=39588899\">7 hours ago</a>, <a href=\"hide?id=39588899&amp;goto=news\">hide</a>, <a href=\"item?id=39588899\">11 comments</a>, <a href=\"vote?id=39578796&amp;how=up&amp;goto=news\" id=\"up_39578796\"><div class=\"votearrow\" title=\"upvote\"></div></a>, <a href=\"http://www.velato.net/\">Velato: A programming language where source code must be a valid MIDI music file</a>, <a href=\"from?site=velato.net\"><span class=\"sitestr\">velato.net</span></a>, <a class=\"hnuser\" href=\"user?id=p4bl0\">p4bl0</a>, <a href=\"item?id=39578796\">8 hours ago</a>, <a href=\"hide?id=39578796&amp;goto=news\">hide</a>, <a href=\"item?id=39578796\">35 comments</a>, <a href=\"vote?id=39592702&amp;how=up&amp;goto=news\" id=\"up_39592702\"><div class=\"votearrow\" title=\"upvote\"></div></a>, <a href=\"https://www.youtube.com/watch?v=Ss7gIs2-hzk\">What we learned from C++ atomics and memory model standardization – Hans-J Boehm [video]</a>, <a href=\"from?site=youtube.com\"><span class=\"sitestr\">youtube.com</span></a>, <a class=\"hnuser\" href=\"user?id=matt_d\">matt_d</a>, <a href=\"item?id=39592702\">45 minutes ago</a>, <a href=\"hide?id=39592702&amp;goto=news\">hide</a>, <a href=\"item?id=39592702\">discuss</a>, <a href=\"vote?id=39589924&amp;how=up&amp;goto=news\" id=\"up_39589924\"><div class=\"votearrow\" title=\"upvote\"></div></a>, <a href=\"https://www.apple.com/newsroom/2024/03/apple-unveils-the-new-13-and-15-inch-macbook-air-with-the-powerful-m3-chip/\">New 13- and 15‑inch MacBook Air with M3 chip</a>, <a href=\"from?site=apple.com\"><span class=\"sitestr\">apple.com</span></a>, <a class=\"hnuser\" href=\"user?id=dm\">dm</a>, <a href=\"item?id=39589924\">4 hours ago</a>, <a href=\"hide?id=39589924&amp;goto=news\">hide</a>, <a href=\"item?id=39589924\">188 comments</a>, <a href=\"vote?id=39587344&amp;how=up&amp;goto=news\" id=\"up_39587344\"><div class=\"votearrow\" title=\"upvote\"></div></a>, <a href=\"https://heathermeeker.com/2024/02/17/french-court-issues-damages-award-for-violation-of-gpl/\">French court issues damages award for violation of GPL</a>, <a href=\"from?site=heathermeeker.com\"><span class=\"sitestr\">heathermeeker.com</span></a>, <a class=\"hnuser\" href=\"user?id=bookstore-romeo\">bookstore-romeo</a>, <a href=\"item?id=39587344\">12 hours ago</a>, <a href=\"hide?id=39587344&amp;goto=news\">hide</a>, <a href=\"item?id=39587344\">335 comments</a>, <a href=\"vote?id=39575909&amp;how=up&amp;goto=news\" id=\"up_39575909\"><div class=\"votearrow\" title=\"upvote\"></div></a>, <a href=\"https://www.themusicman.uk/broken-vintage-piano/\">A broken vintage piano turned into an analog hybrid of 20 instruments</a>, <a href=\"from?site=themusicman.uk\"><span class=\"sitestr\">themusicman.uk</span></a>, <a class=\"hnuser\" href=\"user?id=sandebert\">sandebert</a>, <a href=\"item?id=39575909\">7 hours ago</a>, <a href=\"hide?id=39575909&amp;goto=news\">hide</a>, <a href=\"item?id=39575909\">5 comments</a>, <a href=\"vote?id=39589102&amp;how=up&amp;goto=news\" id=\"up_39589102\"><div class=\"votearrow\" title=\"upvote\"></div></a>, <a href=\"https://www.quantamagazine.org/the-theorist-who-sees-math-in-art-music-and-writing-20240112/\">A mathematician who finds poetry in math and math in poetry</a>, <a href=\"from?site=quantamagazine.org\"><span class=\"sitestr\">quantamagazine.org</span></a>, <a class=\"hnuser\" href=\"user?id=ColinWright\">ColinWright</a>, <a href=\"item?id=39589102\">6 hours ago</a>, <a href=\"hide?id=39589102&amp;goto=news\">hide</a>, <a href=\"item?id=39589102\">9 comments</a>, <a href=\"vote?id=39575264&amp;how=up&amp;goto=news\" id=\"up_39575264\"><div class=\"votearrow\" title=\"upvote\"></div></a>, <a href=\"https://arxiv.org/abs/2402.09090\">A computational approach to emergence in complex multi-level systems</a>, <a href=\"from?site=arxiv.org\"><span class=\"sitestr\">arxiv.org</span></a>, <a class=\"hnuser\" href=\"user?id=SkyMarshal\">SkyMarshal</a>, <a href=\"item?id=39575264\">12 hours ago</a>, <a href=\"hide?id=39575264&amp;goto=news\">hide</a>, <a href=\"item?id=39575264\">17 comments</a>, <a href=\"vote?id=39588977&amp;how=up&amp;goto=news\" id=\"up_39588977\"><div class=\"votearrow\" title=\"upvote\"></div></a>, <a href=\"https://ieeexplore.ieee.org/abstract/document/6319640\">A windowed graph Fourier transform (2012)</a>, <a href=\"from?site=ieee.org\"><span class=\"sitestr\">ieee.org</span></a>, <a class=\"hnuser\" href=\"user?id=teleforce\">teleforce</a>, <a href=\"item?id=39588977\">6 hours ago</a>, <a href=\"hide?id=39588977&amp;goto=news\">hide</a>, <a href=\"item?id=39588977\">2 comments</a>, <a href=\"vote?id=39587947&amp;how=up&amp;goto=news\" id=\"up_39587947\"><div class=\"votearrow\" title=\"upvote\"></div></a>, <a href=\"https://deprogrammaticaipsum.com/twenty-years-is-nothing/\">Twenty years is nothing</a>, <a href=\"from?site=deprogrammaticaipsum.com\"><span class=\"sitestr\">deprogrammaticaipsum.com</span></a>, <a class=\"hnuser\" href=\"user?id=ingve\">ingve</a>, <a href=\"item?id=39587947\">10 hours ago</a>, <a href=\"hide?id=39587947&amp;goto=news\">hide</a>, <a href=\"item?id=39587947\">214 comments</a>, <a href=\"vote?id=39589626&amp;how=up&amp;goto=news\" id=\"up_39589626\"><div class=\"votearrow\" title=\"upvote\"></div></a>, <a href=\"https://www.nature.com/articles/d41586-024-00616-5\">More than 2M research papers have disappeared from the Internet</a>, <a href=\"from?site=nature.com\"><span class=\"sitestr\">nature.com</span></a>, <a class=\"hnuser\" href=\"user?id=Brajeshwar\">Brajeshwar</a>, <a href=\"item?id=39589626\">5 hours ago</a>, <a href=\"hide?id=39589626&amp;goto=news\">hide</a>, <a href=\"item?id=39589626\">23 comments</a>, <a href=\"vote?id=39584654&amp;how=up&amp;goto=news\" id=\"up_39584654\"><div class=\"votearrow\" title=\"upvote\"></div></a>, <a href=\"https://voussoir.net/writing/css_for_printing\">CSS for printing to paper</a>, <a href=\"from?site=voussoir.net\"><span class=\"sitestr\">voussoir.net</span></a>, <a class=\"hnuser\" href=\"user?id=Tomte\">Tomte</a>, <a href=\"item?id=39584654\">20 hours ago</a>, <a href=\"hide?id=39584654&amp;goto=news\">hide</a>, <a href=\"item?id=39584654\">123 comments</a>, <a href=\"vote?id=39576156&amp;how=up&amp;goto=news\" id=\"up_39576156\"><div class=\"votearrow\" title=\"upvote\"></div></a>, <a href=\"https://www.gresham.ac.uk/sites/default/files/2021-02-09-1300-HART_FictionalWorlds-T.pdf\">Mathematical Journeys into Fictional Worlds (2021) [pdf]</a>, <a href=\"from?site=gresham.ac.uk\"><span class=\"sitestr\">gresham.ac.uk</span></a>, <a class=\"hnuser\" href=\"user?id=tmtvl\">tmtvl</a>, <a href=\"item?id=39576156\">10 hours ago</a>, <a href=\"hide?id=39576156&amp;goto=news\">hide</a>, <a href=\"item?id=39576156\">10 comments</a>, <a class=\"morelink\" href=\"?p=2\" rel=\"next\">More</a>, <a href=\"newsguidelines.html\">Guidelines</a>, <a href=\"newsfaq.html\">FAQ</a>, <a href=\"lists\">Lists</a>, <a href=\"https://github.com/HackerNews/API\">API</a>, <a href=\"security.html\">Security</a>, <a href=\"https://www.ycombinator.com/legal/\">Legal</a>, <a href=\"https://www.ycombinator.com/apply/\">Apply to YC</a>, <a href=\"mailto:hn@ycombinator.com\">Contact</a>]\n"
          ]
        }
      ]
    },
    {
      "cell_type": "markdown",
      "source": [
        "[<a href=\"https://news.ycombinator.com\"><img height=\"18\" src=\"y18.svg\" style=\"border:1px white solid; display:block\" width=\"18\"/></a>, <a href=\"news\">Hacker News</a>, <a href=\"newest\">new</a>, <a href=\"front\">past</a>, <a href=\"newcomments\">comments</a>, <a href=\"ask\">ask</a>, <a href=\"show\">show</a>, <a href=\"jobs\">jobs</a>, <a href=\"submit\" rel=\"nofollow\">submit</a>, <a href=\"login?goto=news\">login</a>, <a href=\"vote?id=39592444&amp;how=up&amp;goto=news\" id=\"up_39592444\"><div class=\"votearrow\" title=\"upvote\"></div></a>, <a href=\"https://www.hillelwayne.com/post/graph-types/\">The hunt for the missing data type</a>, <a href=\"from?site=hillelwayne.com\"><span class=\"sitestr\">hillelwayne.com</span></a>, <a class=\"hnuser\" href=\"user?id=todsacerdoti\">todsacerdoti</a>, <a href=\"item?id=39592444\">1 hour ago</a>, <a href=\"hide?id=39592444&amp;goto=news\">hide</a>, <a href=\"item?id=39592444\">40 comments</a>, <a href=\"vote?id=39592760&amp;how=up&amp;goto=news\" id=\"up_39592760\"><div class=\"votearrow\" title=\"upvote\"></div></a>, <a href=\"https://careers.walmart.com//us/jobs/WD1786226-software-engineer-iii\">Walmart is migrating the remaining F# code into Java</a>, <a href=\"from?site=walmart.com\"><span class=\"sitestr\">walmart.com</span></a>, <a class=\"hnuser\" href=\"user?id=pjmlp\">pjmlp</a>, <a href=\"item?id=39592760\">40 minutes ago</a>, <a href=\"hide?id=39592760&amp;goto=news\">hide</a>, <a href=\"item?id=39592760\">32 comments</a>, <a href=\"vote?id=39590666&amp;how=up&amp;goto=news\" id=\"up_39590666\"><div class=\"votearrow\" title=\"upvote\"></div></a>, <a href=\"https://www.anthropic.com/news/claude-3-family\">Claude 3 model family</a>, <a href=\"from?site=anthropic.com\"><span class=\"sitestr\">anthropic.com</span></a>, <a class=\"hnuser\" href=\"user?id=marc__1\">marc__1</a>, <a href=\"item?id=39590666\">3 hours ago</a>, <a href=\"hide?id=39590666&amp;goto=news\">hide</a>, <a href=\"item?id=39590666\">282 comments</a>, <a href=\"vote?id=39591529&amp;how=up&amp;goto=news\" id=\"up_39591529\"><div class=\"votearrow\" title=\"upvote\"></div></a>, <a href=\"https://astro.sshh.io/\">Show HN: Astro App</a>, <a href=\"from?site=sshh.io\"><span class=\"sitestr\">sshh.io</span></a>, <a class=\"hnuser\" href=\"user?id=sshh12\">sshh12</a>, <a href=\"item?id=39591529\">2 hours ago</a>, <a href=\"hide?id=39591529&amp;goto=news\">hide</a>, <a href=\"item?id=39591529\">32 comments</a>, <a href=\"vote?id=39592876&amp;how=up&amp;goto=news\" id=\"up_39592876\"><div class=\"votearrow\" title=\"upvote\"></div></a>, <a href=\"https://en.wikipedia.org/wiki/Category:Obsolete_occupations\">Obsolete Occupations</a>, <a href=\"from?site=wikipedia.org\"><span class=\"sitestr\">wikipedia.org</span></a>, <a class=\"hnuser\" href=\"user?id=alxjsn\">alxjsn</a>, <a href=\"item?id=39592876\">24 minutes ago</a>, <a href=\"hide?id=39592876&amp;goto=news\">hide</a>, <a href=\"item?id=39592876\">7 comments</a>, <a href=\"vote?id=39592771&amp;how=up&amp;goto=news\" id=\"up_39592771\"><div class=\"votearrow\" title=\"upvote\"></div></a>, <a href=\"https://www.ubicloud.com/blog/improving-network-performance-with-linux-flowtables\">Improving Network Performance with Linux Flowtables</a>, <a href=\"from?site=ubicloud.com\"><span class=\"sitestr\">ubicloud.com</span></a>, <a class=\"hnuser\" href=\"user?id=furkansahin\">furkansahin</a>, <a href=\"item?id=39592771\">39 minutes ago</a>, <a href=\"hide?id=39592771&amp;goto=news\">hide</a>, <a href=\"item?id=39592771\">discuss</a>, <a href=\"vote?id=39592689&amp;how=up&amp;goto=news\" id=\"up_39592689\"><div class=\"votearrow\" title=\"upvote\"></div></a>, <a href=\"https://www.tomshardware.com/pc-components/gpus/nvidia-bans-using-translation-layers-for-cuda-software-to-run-on-other-chips-new-restriction-apparently-targets-zluda-and-some-chinese-gpu-makers\">Nvidia bans using translation layers for CUDA software to run on other chips</a>, <a href=\"from?site=tomshardware.com\"><span class=\"sitestr\">tomshardware.com</span></a>, <a class=\"hnuser\" href=\"user?id=justinclift\">justinclift</a>, <a href=\"item?id=39592689\">46 minutes ago</a>, <a href=\"hide?id=39592689&amp;goto=news\">hide</a>, <a href=\"item?id=39592689\">24 comments</a>, <a href=\"https://skio.com/careers/\">Skio (YC S20) – Subscriptions for Shopify, ReCharge Migrations Is Hiring</a>, <a href=\"from?site=skio.com\"><span class=\"sitestr\">skio.com</span></a>, <a href=\"item?id=39592704\">45 minutes ago</a>, <a href=\"hide?id=39592704&amp;goto=news\">hide</a>, <a href=\"vote?id=39592993&amp;how=up&amp;goto=news\" id=\"up_39592993\"><div class=\"votearrow\" title=\"upvote\"></div></a>, <a href=\"https://www.surfertoday.com/surfing/the-woman-who-coined-the-expression-surfing-the-internet\" rel=\"nofollow\">The woman who coined the expression 'Surfing the Internet'</a>, <a href=\"from?site=surfertoday.com\"><span class=\"sitestr\">surfertoday.com</span></a>, <a class=\"hnuser\" href=\"user?id=cfcfcf\">cfcfcf</a>, <a href=\"item?id=39592993\">24 minutes ago</a>, <a href=\"hide?id=39592993&amp;goto=news\">hide</a>, <a href=\"item?id=39592993\">discuss</a>, <a href=\"vote?id=39591972&amp;how=up&amp;goto=news\" id=\"up_39591972\"><div class=\"votearrow\" title=\"upvote\"></div></a>, <a href=\"item?id=39591972\">Launch HN: Just words (YC W24) – Optimize your product's copy for user growth</a>, <a class=\"hnuser\" href=\"user?id=nehagetschoice\">nehagetschoice</a>, <a href=\"item?id=39591972\">1 hour ago</a>, <a href=\"hide?id=39591972&amp;goto=news\">hide</a>, <a href=\"item?id=39591972\">15 comments</a>, <a href=\"vote?id=39589479&amp;how=up&amp;goto=news\" id=\"up_39589479\"><div class=\"votearrow\" title=\"upvote\"></div></a>, <a href=\"https://www.youtube.com/watch?v=-C6AcRnUmbE\">I made a bad camera lens from some old glasses [video]</a>, <a href=\"from?site=youtube.com\"><span class=\"sitestr\">youtube.com</span></a>, <a class=\"hnuser\" href=\"user?id=i2pi\">i2pi</a>, <a href=\"item?id=39589479\">5 hours ago</a>, <a href=\"hide?id=39589479&amp;goto=news\">hide</a>, <a href=\"item?id=39589479\">41 comments</a>, <a href=\"vote?id=39588830&amp;how=up&amp;goto=news\" id=\"up_39588830\"><div class=\"votearrow\" title=\"upvote\"></div></a>, <a href=\"https://mainlymiles.com/2024/03/03/singapore-airlines-concorde-full-story/\">Singapore Airlines Concorde</a>, <a href=\"from?site=mainlymiles.com\"><span class=\"sitestr\">mainlymiles.com</span></a>, <a class=\"hnuser\" href=\"user?id=qsi\">qsi</a>, <a href=\"item?id=39588830\">6 hours ago</a>, <a href=\"hide?id=39588830&amp;goto=news\">hide</a>, <a href=\"item?id=39588830\">128 comments</a>, <a href=\"vote?id=39591694&amp;how=up&amp;goto=news\" id=\"up_39591694\"><div class=\"votearrow\" title=\"upvote\"></div></a>, <a href=\"https://arxiv.org/abs/2311.05063\">Rust for Embedded Systems: Current state, challenges and open problems</a>, <a href=\"from?site=arxiv.org\"><span class=\"sitestr\">arxiv.org</span></a>, <a class=\"hnuser\" href=\"user?id=Sindisil\">Sindisil</a>, <a href=\"item?id=39591694\">2 hours ago</a>, <a href=\"hide?id=39591694&amp;goto=news\">hide</a>, <a href=\"item?id=39591694\">21 comments</a>, <a href=\"vote?id=39592288&amp;how=up&amp;goto=news\" id=\"up_39592288\"><div class=\"votearrow\" title=\"upvote\"></div></a>, <a href=\"https://www.macstories.net/stories/macpad-how-i-created-the-hybrid-mac-ipad-laptop-and-tablet-that-apple-wont-make/\">MacPad: I Created the Hybrid Mac-iPad Laptop and Tablet That Apple Won't Make</a>, <a href=\"from?site=macstories.net\"><span class=\"sitestr\">macstories.net</span></a>, <a class=\"hnuser\" href=\"user?id=robenkleene\">robenkleene</a>, <a href=\"item?id=39592288\">1 hour ago</a>, <a href=\"hide?id=39592288&amp;goto=news\">hide</a>, <a href=\"item?id=39592288\">14 comments</a>, <a href=\"vote?id=39579725&amp;how=up&amp;goto=news\" id=\"up_39579725\"><div class=\"votearrow\" title=\"upvote\"></div></a>, <a href=\"https://www.anandtech.com/show/21276/intel-previews-sierra-forest-with-288-e-cores-announces-granite-rapids-d-for-2025-launch-at-mwc-2024\">Intel Previews Sierra Forest with 288 E-Cores, Announces Granite Rapids-D</a>, <a href=\"from?site=anandtech.com\"><span class=\"sitestr\">anandtech.com</span></a>, <a class=\"hnuser\" href=\"user?id=PaulHoule\">PaulHoule</a>, <a href=\"item?id=39579725\">2 hours ago</a>, <a href=\"hide?id=39579725&amp;goto=news\">hide</a>, <a href=\"item?id=39579725\">3 comments</a>, <a href=\"vote?id=39586828&amp;how=up&amp;goto=news\" id=\"up_39586828\"><div class=\"votearrow\" title=\"upvote\"></div></a>, <a href=\"https://www.osar.fr/notes/motionblur/\">Motion blur all the way down (2022)</a>, <a href=\"from?site=osar.fr\"><span class=\"sitestr\">osar.fr</span></a>, <a class=\"hnuser\" href=\"user?id=azeemba\">azeemba</a>, <a href=\"item?id=39586828\">14 hours ago</a>, <a href=\"hide?id=39586828&amp;goto=news\">hide</a>, <a href=\"item?id=39586828\">81 comments</a>, <a href=\"vote?id=39592367&amp;how=up&amp;goto=news\" id=\"up_39592367\"><div class=\"votearrow\" title=\"upvote\"></div></a>, <a href=\"https://www.nature.com/articles/s41467-024-46116-y\">Effect of gut microbiome modulation on muscle function and cognition</a>, <a href=\"from?site=nature.com\"><span class=\"sitestr\">nature.com</span></a>, <a class=\"hnuser\" href=\"user?id=gnabgib\">gnabgib</a>, <a href=\"item?id=39592367\">1 hour ago</a>, <a href=\"hide?id=39592367&amp;goto=news\">hide</a>, <a href=\"item?id=39592367\">7 comments</a>, <a href=\"vote?id=39588899&amp;how=up&amp;goto=news\" id=\"up_39588899\"><div class=\"votearrow\" title=\"upvote\"></div></a>, <a href=\"https://nhigham.com/2022/05/11/what-is-a-schur-decomposition/\">What Is a Schur Decomposition? (2022)</a>, <a href=\"from?site=nhigham.com\"><span class=\"sitestr\">nhigham.com</span></a>, <a class=\"hnuser\" href=\"user?id=vector_spaces\">vector_spaces</a>, <a href=\"item?id=39588899\">7 hours ago</a>, <a href=\"hide?id=39588899&amp;goto=news\">hide</a>, <a href=\"item?id=39588899\">11 comments</a>, <a href=\"vote?id=39578796&amp;how=up&amp;goto=news\" id=\"up_39578796\"><div class=\"votearrow\" title=\"upvote\"></div></a>, <a href=\"http://www.velato.net/\">Velato: A programming language where source code must be a valid MIDI music file</a>, <a href=\"from?site=velato.net\"><span class=\"sitestr\">velato.net</span></a>, <a class=\"hnuser\" href=\"user?id=p4bl0\">p4bl0</a>, <a href=\"item?id=39578796\">8 hours ago</a>, <a href=\"hide?id=39578796&amp;goto=news\">hide</a>, <a href=\"item?id=39578796\">35 comments</a>, <a href=\"vote?id=39592702&amp;how=up&amp;goto=news\" id=\"up_39592702\"><div class=\"votearrow\" title=\"upvote\"></div></a>, <a href=\"https://www.youtube.com/watch?v=Ss7gIs2-hzk\">What we learned from C++ atomics and memory model standardization – Hans-J Boehm [video]</a>, <a href=\"from?site=youtube.com\"><span class=\"sitestr\">youtube.com</span></a>, <a class=\"hnuser\" href=\"user?id=matt_d\">matt_d</a>, <a href=\"item?id=39592702\">45 minutes ago</a>, <a href=\"hide?id=39592702&amp;goto=news\">hide</a>, <a href=\"item?id=39592702\">discuss</a>, <a href=\"vote?id=39589924&amp;how=up&amp;goto=news\" id=\"up_39589924\"><div class=\"votearrow\" title=\"upvote\"></div></a>, <a href=\"https://www.apple.com/newsroom/2024/03/apple-unveils-the-new-13-and-15-inch-macbook-air-with-the-powerful-m3-chip/\">New 13- and 15‑inch MacBook Air with M3 chip</a>, <a href=\"from?site=apple.com\"><span class=\"sitestr\">apple.com</span></a>, <a class=\"hnuser\" href=\"user?id=dm\">dm</a>, <a href=\"item?id=39589924\">4 hours ago</a>, <a href=\"hide?id=39589924&amp;goto=news\">hide</a>, <a href=\"item?id=39589924\">188 comments</a>, <a href=\"vote?id=39587344&amp;how=up&amp;goto=news\" id=\"up_39587344\"><div class=\"votearrow\" title=\"upvote\"></div></a>, <a href=\"https://heathermeeker.com/2024/02/17/french-court-issues-damages-award-for-violation-of-gpl/\">French court issues damages award for violation of GPL</a>, <a href=\"from?site=heathermeeker.com\"><span class=\"sitestr\">heathermeeker.com</span></a>, <a class=\"hnuser\" href=\"user?id=bookstore-romeo\">bookstore-romeo</a>, <a href=\"item?id=39587344\">12 hours ago</a>, <a href=\"hide?id=39587344&amp;goto=news\">hide</a>, <a href=\"item?id=39587344\">335 comments</a>, <a href=\"vote?id=39575909&amp;how=up&amp;goto=news\" id=\"up_39575909\"><div class=\"votearrow\" title=\"upvote\"></div></a>, <a href=\"https://www.themusicman.uk/broken-vintage-piano/\">A broken vintage piano turned into an analog hybrid of 20 instruments</a>, <a href=\"from?site=themusicman.uk\"><span class=\"sitestr\">themusicman.uk</span></a>, <a class=\"hnuser\" href=\"user?id=sandebert\">sandebert</a>, <a href=\"item?id=39575909\">7 hours ago</a>, <a href=\"hide?id=39575909&amp;goto=news\">hide</a>, <a href=\"item?id=39575909\">5 comments</a>, <a href=\"vote?id=39589102&amp;how=up&amp;goto=news\" id=\"up_39589102\"><div class=\"votearrow\" title=\"upvote\"></div></a>, <a href=\"https://www.quantamagazine.org/the-theorist-who-sees-math-in-art-music-and-writing-20240112/\">A mathematician who finds poetry in math and math in poetry</a>, <a href=\"from?site=quantamagazine.org\"><span class=\"sitestr\">quantamagazine.org</span></a>, <a class=\"hnuser\" href=\"user?id=ColinWright\">ColinWright</a>, <a href=\"item?id=39589102\">6 hours ago</a>, <a href=\"hide?id=39589102&amp;goto=news\">hide</a>, <a href=\"item?id=39589102\">9 comments</a>, <a href=\"vote?id=39575264&amp;how=up&amp;goto=news\" id=\"up_39575264\"><div class=\"votearrow\" title=\"upvote\"></div></a>, <a href=\"https://arxiv.org/abs/2402.09090\">A computational approach to emergence in complex multi-level systems</a>, <a href=\"from?site=arxiv.org\"><span class=\"sitestr\">arxiv.org</span></a>, <a class=\"hnuser\" href=\"user?id=SkyMarshal\">SkyMarshal</a>, <a href=\"item?id=39575264\">12 hours ago</a>, <a href=\"hide?id=39575264&amp;goto=news\">hide</a>, <a href=\"item?id=39575264\">17 comments</a>, <a href=\"vote?id=39588977&amp;how=up&amp;goto=news\" id=\"up_39588977\"><div class=\"votearrow\" title=\"upvote\"></div></a>, <a href=\"https://ieeexplore.ieee.org/abstract/document/6319640\">A windowed graph Fourier transform (2012)</a>, <a href=\"from?site=ieee.org\"><span class=\"sitestr\">ieee.org</span></a>, <a class=\"hnuser\" href=\"user?id=teleforce\">teleforce</a>, <a href=\"item?id=39588977\">6 hours ago</a>, <a href=\"hide?id=39588977&amp;goto=news\">hide</a>, <a href=\"item?id=39588977\">2 comments</a>, <a href=\"vote?id=39587947&amp;how=up&amp;goto=news\" id=\"up_39587947\"><div class=\"votearrow\" title=\"upvote\"></div></a>, <a href=\"https://deprogrammaticaipsum.com/twenty-years-is-nothing/\">Twenty years is nothing</a>, <a href=\"from?site=deprogrammaticaipsum.com\"><span class=\"sitestr\">deprogrammaticaipsum.com</span></a>, <a class=\"hnuser\" href=\"user?id=ingve\">ingve</a>, <a href=\"item?id=39587947\">10 hours ago</a>, <a href=\"hide?id=39587947&amp;goto=news\">hide</a>, <a href=\"item?id=39587947\">214 comments</a>, <a href=\"vote?id=39589626&amp;how=up&amp;goto=news\" id=\"up_39589626\"><div class=\"votearrow\" title=\"upvote\"></div></a>, <a href=\"https://www.nature.com/articles/d41586-024-00616-5\">More than 2M research papers have disappeared from the Internet</a>, <a href=\"from?site=nature.com\"><span class=\"sitestr\">nature.com</span></a>, <a class=\"hnuser\" href=\"user?id=Brajeshwar\">Brajeshwar</a>, <a href=\"item?id=39589626\">5 hours ago</a>, <a href=\"hide?id=39589626&amp;goto=news\">hide</a>, <a href=\"item?id=39589626\">23 comments</a>, <a href=\"vote?id=39584654&amp;how=up&amp;goto=news\" id=\"up_39584654\"><div class=\"votearrow\" title=\"upvote\"></div></a>, <a href=\"https://voussoir.net/writing/css_for_printing\">CSS for printing to paper</a>, <a href=\"from?site=voussoir.net\"><span class=\"sitestr\">voussoir.net</span></a>, <a class=\"hnuser\" href=\"user?id=Tomte\">Tomte</a>, <a href=\"item?id=39584654\">20 hours ago</a>, <a href=\"hide?id=39584654&amp;goto=news\">hide</a>, <a href=\"item?id=39584654\">123 comments</a>, <a href=\"vote?id=39576156&amp;how=up&amp;goto=news\" id=\"up_39576156\"><div class=\"votearrow\" title=\"upvote\"></div></a>, <a href=\"https://www.gresham.ac.uk/sites/default/files/2021-02-09-1300-HART_FictionalWorlds-T.pdf\">Mathematical Journeys into Fictional Worlds (2021) [pdf]</a>, <a href=\"from?site=gresham.ac.uk\"><span class=\"sitestr\">gresham.ac.uk</span></a>, <a class=\"hnuser\" href=\"user?id=tmtvl\">tmtvl</a>, <a href=\"item?id=39576156\">10 hours ago</a>, <a href=\"hide?id=39576156&amp;goto=news\">hide</a>, <a href=\"item?id=39576156\">10 comments</a>, <a class=\"morelink\" href=\"?p=2\" rel=\"next\">More</a>, <a href=\"newsguidelines.html\">Guidelines</a>, <a href=\"newsfaq.html\">FAQ</a>, <a href=\"lists\">Lists</a>, <a href=\"https://github.com/HackerNews/API\">API</a>, <a href=\"security.html\">Security</a>, <a href=\"https://www.ycombinator.com/legal/\">Legal</a>, <a href=\"https://www.ycombinator.com/apply/\">Apply to YC</a>, <a href=\"hn@ycombinator.com\">Contact</a>]\n"
      ],
      "metadata": {
        "id": "OxF389a2lO2Z"
      }
    },
    {
      "cell_type": "code",
      "source": [
        "#print the title\n",
        "\n",
        "print(soup.title)"
      ],
      "metadata": {
        "colab": {
          "base_uri": "https://localhost:8080/"
        },
        "id": "TCJj37mJlReN",
        "outputId": "bcf0a568-14c5-4bc1-e598-3a9cd80394e6"
      },
      "execution_count": 8,
      "outputs": [
        {
          "output_type": "stream",
          "name": "stdout",
          "text": [
            "<title>Hacker News</title>\n"
          ]
        }
      ]
    },
    {
      "cell_type": "code",
      "source": [
        "#print the first 'a' - tag\n",
        "\n",
        "print(soup.a)"
      ],
      "metadata": {
        "colab": {
          "base_uri": "https://localhost:8080/"
        },
        "id": "HHLUJ-o9ld7I",
        "outputId": "efc610d1-045a-4e00-89a7-ba2a2579e479"
      },
      "execution_count": 9,
      "outputs": [
        {
          "output_type": "stream",
          "name": "stdout",
          "text": [
            "<a href=\"https://news.ycombinator.com\"><img height=\"18\" src=\"y18.svg\" style=\"border:1px white solid; display:block\" width=\"18\"/></a>\n"
          ]
        }
      ]
    },
    {
      "cell_type": "code",
      "source": [
        "#find the first item\n",
        "\n",
        "print(soup.find('a'))"
      ],
      "metadata": {
        "colab": {
          "base_uri": "https://localhost:8080/"
        },
        "id": "TU6pFwtUln47",
        "outputId": "c0b61257-ead5-4f69-bf4e-d8cd1471fcda"
      },
      "execution_count": 10,
      "outputs": [
        {
          "output_type": "stream",
          "name": "stdout",
          "text": [
            "<a href=\"https://news.ycombinator.com\"><img height=\"18\" src=\"y18.svg\" style=\"border:1px white solid; display:block\" width=\"18\"/></a>\n"
          ]
        }
      ]
    },
    {
      "cell_type": "code",
      "source": [
        "#tr\n",
        "# https://developer.mozilla.org/en-US/docs/Web/HTML/Element/tr\n",
        "# The <tr> HTML element defines a row of cells in a table. The row's cells can then be established using a mix of <td> (data cell) and <th> (header cell) elements.\n",
        "\n",
        "print(soup.find('tr'))"
      ],
      "metadata": {
        "colab": {
          "base_uri": "https://localhost:8080/"
        },
        "id": "jTsyPsY7m8NP",
        "outputId": "fa3d225d-f809-425b-9fe7-d6f17b88975f"
      },
      "execution_count": 13,
      "outputs": [
        {
          "output_type": "stream",
          "name": "stdout",
          "text": [
            "<tr><td bgcolor=\"#ff6600\"><table border=\"0\" cellpadding=\"0\" cellspacing=\"0\" style=\"padding:2px\" width=\"100%\"><tr><td style=\"width:18px;padding-right:4px\"><a href=\"https://news.ycombinator.com\"><img height=\"18\" src=\"y18.svg\" style=\"border:1px white solid; display:block\" width=\"18\"/></a></td>\n",
            "<td style=\"line-height:12pt; height:10px;\"><span class=\"pagetop\"><b class=\"hnname\"><a href=\"news\">Hacker News</a></b>\n",
            "<a href=\"newest\">new</a> | <a href=\"front\">past</a> | <a href=\"newcomments\">comments</a> | <a href=\"ask\">ask</a> | <a href=\"show\">show</a> | <a href=\"jobs\">jobs</a> | <a href=\"submit\" rel=\"nofollow\">submit</a> </span></td><td style=\"text-align:right;padding-right:4px;\"><span class=\"pagetop\">\n",
            "<a href=\"login?goto=news\">login</a>\n",
            "</span></td>\n",
            "</tr></table></td></tr>\n"
          ]
        }
      ]
    },
    {
      "cell_type": "code",
      "source": [
        "#td\n",
        "# https://developer.mozilla.org/en-US/docs/Web/HTML/Element/td\n",
        "# <td>: The Table Data Cell element\n",
        "# The <td> HTML element defines a cell of a table that contains data and may be used as a child of the <tr> element.\n",
        "\n",
        "print(soup.find('td'))"
      ],
      "metadata": {
        "colab": {
          "base_uri": "https://localhost:8080/"
        },
        "id": "LtnD2dHomGZR",
        "outputId": "930c9a42-5cdb-4647-b394-17d1efd7e4e8"
      },
      "execution_count": 12,
      "outputs": [
        {
          "output_type": "stream",
          "name": "stdout",
          "text": [
            "<td bgcolor=\"#ff6600\"><table border=\"0\" cellpadding=\"0\" cellspacing=\"0\" style=\"padding:2px\" width=\"100%\"><tr><td style=\"width:18px;padding-right:4px\"><a href=\"https://news.ycombinator.com\"><img height=\"18\" src=\"y18.svg\" style=\"border:1px white solid; display:block\" width=\"18\"/></a></td>\n",
            "<td style=\"line-height:12pt; height:10px;\"><span class=\"pagetop\"><b class=\"hnname\"><a href=\"news\">Hacker News</a></b>\n",
            "<a href=\"newest\">new</a> | <a href=\"front\">past</a> | <a href=\"newcomments\">comments</a> | <a href=\"ask\">ask</a> | <a href=\"show\">show</a> | <a href=\"jobs\">jobs</a> | <a href=\"submit\" rel=\"nofollow\">submit</a> </span></td><td style=\"text-align:right;padding-right:4px;\"><span class=\"pagetop\">\n",
            "<a href=\"login?goto=news\">login</a>\n",
            "</span></td>\n",
            "</tr></table></td>\n"
          ]
        }
      ]
    },
    {
      "cell_type": "markdown",
      "source": [
        "#sample HTML as captured today\n",
        "\n",
        "<html lang=\"en\" op=\"news\"><head><meta name=\"referrer\" content=\"origin\"><meta name=\"viewport\" content=\"width=device-width, initial-scale=1.0\"><link rel=\"stylesheet\" type=\"text/css\" href=\"news.css?QLOfXquzzbHEgTV4P3Dq\">\n",
        "        <link rel=\"icon\" href=\"y18.svg\">\n",
        "                  <link rel=\"alternate\" type=\"application/rss+xml\" title=\"RSS\" href=\"rss\">\n",
        "        <title>Hacker News</title></head><body><center><table id=\"hnmain\" border=\"0\" cellpadding=\"0\" cellspacing=\"0\" width=\"85%\" bgcolor=\"#f6f6ef\">\n",
        "        <tr><td bgcolor=\"#ff6600\"><table border=\"0\" cellpadding=\"0\" cellspacing=\"0\" width=\"100%\" style=\"padding:2px\"><tr><td style=\"width:18px;padding-right:4px\"><a href=\"https://news.ycombinator.com\"><img src=\"y18.svg\" width=\"18\" height=\"18\" style=\"border:1px white solid; display:block\"></a></td>\n",
        "                  <td style=\"line-height:12pt; height:10px;\"><span class=\"pagetop\"><b class=\"hnname\"><a href=\"news\">Hacker News</a></b>\n",
        "                            <a href=\"newest\">new</a> | <a href=\"front\">past</a> | <a href=\"newcomments\">comments</a> | <a href=\"ask\">ask</a> | <a href=\"show\">show</a> | <a href=\"jobs\">jobs</a> | <a href=\"submit\" rel=\"nofollow\">submit</a>            </span></td><td style=\"text-align:right;padding-right:4px;\"><span class=\"pagetop\">\n",
        "                              <a href=\"login?goto=news\">login</a>\n",
        "                          </span></td>\n",
        "              </tr></table></td></tr>\n",
        "<tr id=\"pagespace\" title=\"\" style=\"height:10px\"></tr><tr><td><table border=\"0\" cellpadding=\"0\" cellspacing=\"0\">\n",
        "            <tr class='athing' id='39592760'>\n",
        "      <td align=\"right\" valign=\"top\" class=\"title\"><span class=\"rank\">1.</span></td>      <td valign=\"top\" class=\"votelinks\"><center><a id='up_39592760'href='vote?id=39592760&amp;how=up&amp;goto=news'><div class='votearrow' title='upvote'></div></a></center></td><td class=\"title\"><span class=\"titleline\"><a href=\"https://careers.walmart.com//us/jobs/WD1786226-software-engineer-iii\">Walmart is migrating the remaining F# code into Java</a><span class=\"sitebit comhead\"> (<a href=\"from?site=walmart.com\"><span class=\"sitestr\">walmart.com</span></a>)</span></span></td></tr><tr><td colspan=\"2\"></td><td class=\"subtext\"><span class=\"subline\">\n",
        "          <span class=\"score\" id=\"score_39592760\">64 points</span> by <a href=\"user?id=pjmlp\" class=\"hnuser\">pjmlp</a> <span class=\"age\" title=\"2024-03-04T17:05:05\"><a href=\"item?id=39592760\">46 minutes ago</a></span> <span id=\"unv_39592760\"></span> | <a href=\"hide?id=39592760&amp;goto=news\">hide</a> | <a href=\"item?id=39592760\">42&nbsp;comments</a>        </span>\n",
        "              </td></tr>\n",
        "      <tr class=\"spacer\" style=\"height:5px\"></tr>\n",
        "                <tr class='athing' id='39592444'>\n",
        "      <td align=\"right\" valign=\"top\" class=\"title\"><span class=\"rank\">2.</span></td>      <td valign=\"top\" class=\"votelinks\"><center><a id='up_39592444'href='vote?id=39592444&amp;how=up&amp;goto=news'><div class='votearrow' title='upvote'></div></a></center></td><td class=\"title\"><span class=\"titleline\"><a href=\"https://www.hillelwayne.com/post/graph-types/\">The hunt for the missing data type</a><span class=\"sitebit comhead\"> (<a href=\"from?site=hillelwayne.com\"><span class=\"sitestr\">hillelwayne.com</span></a>)</span></span></td></tr><tr><td colspan=\"2\"></td><td class=\"subtext\"><span class=\"subline\">\n",
        "          <span class=\"score\" id=\"score_39592444\">88 points</span> by <a href=\"user?id=todsacerdoti\" class=\"hnuser\">todsacerdoti</a> <span class=\"age\" title=\"2024-03-04T16:42:14\"><a href=\"item?id=39592444\">1 hour ago</a></span> <span id=\"unv_39592444\"></span> | <a href=\"hide?id=39592444&amp;goto=news\">hide</a> | <a href=\"item?id=39592444\">45&nbsp;comments</a>        </span>\n",
        "              </td></tr>\n",
        "      <tr class=\"spacer\" style=\"height:5px\"></tr>\n",
        "                <tr class='athing' id='39590666'>\n",
        "      <td align=\"right\" valign=\"top\" class=\"title\"><span class=\"rank\">3.</span></td>      <td valign=\"top\" class=\"votelinks\"><center><a id='up_39590666'href='vote?id=39590666&amp;how=up&amp;goto=news'><div class='votearrow' title='upvote'></div></a></center></td><td class=\"title\"><span class=\"titleline\"><a href=\"https://www.anthropic.com/news/claude-3-family\">Claude 3 model family</a><span class=\"sitebit comhead\"> (<a href=\"from?site=anthropic.com\"><span class=\"sitestr\">anthropic.com</span></a>)</span></span></td></tr><tr><td colspan=\"2\"></td><td class=\"subtext\"><span class=\"subline\">\n",
        "          <span class=\"score\" id=\"score_39590666\">482 points</span> by <a href=\"user?id=marc__1\" class=\"hnuser\">marc__1</a> <span class=\"age\" title=\"2024-03-04T14:08:51\"><a href=\"item?id=39590666\">3 hours ago</a></span> <span id=\"unv_39590666\"></span> | <a href=\"hide?id=39590666&amp;goto=news\">hide</a> | <a href=\"item?id=39590666\">285&nbsp;comments</a>        </span>\n",
        "              </td></tr>\n",
        "     \n",
        "   \n",
        "  </table>\n",
        "</td></tr>\n",
        "<tr><td><img src=\"s.gif\" height=\"10\" width=\"0\"><table width=\"100%\" cellspacing=\"0\" cellpadding=\"1\"><tr><td bgcolor=\"#ff6600\"></td></tr></table><br>\n",
        "<center><span class=\"yclinks\"><a href=\"newsguidelines.html\">Guidelines</a> | <a href=\"newsfaq.html\">FAQ</a> | <a href=\"lists\">Lists</a> | <a href=\"https://github.com/HackerNews/API\">API</a> | <a href=\"security.html\">Security</a> | <a href=\"https://www.ycombinator.com/legal/\">Legal</a> | <a href=\"https://www.ycombinator.com/apply/\">Apply to YC</a> | <a href=\"mailto:hn@ycombinator.com\">Contact</a></span><br><br>\n",
        "<form method=\"get\" action=\"//hn.algolia.com/\">Search: <input type=\"text\" name=\"q\" size=\"17\" autocorrect=\"off\" spellcheck=\"false\" autocapitalize=\"off\" autocomplete=\"false\"></form></center></td></tr>      </table></center></body>\n",
        "      <script type='text/javascript' src='hn.js?QLOfXquzzbHEgTV4P3Dq'></script>\n",
        "  </html>"
      ],
      "metadata": {
        "id": "e68SDhgvnMoE"
      }
    },
    {
      "cell_type": "code",
      "source": [
        "#print a specific or selected data\n",
        "\n",
        "print(soup.find(id='score_39592760'))"
      ],
      "metadata": {
        "colab": {
          "base_uri": "https://localhost:8080/"
        },
        "id": "yvKe-ooxnsND",
        "outputId": "1d3777b5-fb02-45dd-beb3-0ea2bf7b7266"
      },
      "execution_count": 14,
      "outputs": [
        {
          "output_type": "stream",
          "name": "stdout",
          "text": [
            "<span class=\"score\" id=\"score_39592760\">48 points</span>\n"
          ]
        }
      ]
    }
  ]
}