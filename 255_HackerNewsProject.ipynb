{
  "nbformat": 4,
  "nbformat_minor": 0,
  "metadata": {
    "colab": {
      "provenance": [],
      "authorship_tag": "ABX9TyMKQ5lYulNUlc4FbR1fd7Rp",
      "include_colab_link": true
    },
    "kernelspec": {
      "name": "python3",
      "display_name": "Python 3"
    },
    "language_info": {
      "name": "python"
    }
  },
  "cells": [
    {
      "cell_type": "markdown",
      "metadata": {
        "id": "view-in-github",
        "colab_type": "text"
      },
      "source": [
        "<a href=\"https://colab.research.google.com/github/egipot/ZTMPy/blob/main/255_HackerNewsProject.ipynb\" target=\"_parent\"><img src=\"https://colab.research.google.com/assets/colab-badge.svg\" alt=\"Open In Colab\"/></a>"
      ]
    },
    {
      "cell_type": "code",
      "execution_count": 42,
      "metadata": {
        "id": "fWo0RoMquPSm"
      },
      "outputs": [],
      "source": [
        "import requests\n",
        "from bs4 import BeautifulSoup\n"
      ]
    },
    {
      "cell_type": "code",
      "source": [
        "res= requests.get('https://news.ycombinator.com/news')\n",
        "soup = BeautifulSoup(res.text, 'html.parser')\n",
        "links = soup.select('.titleline')\n",
        "votes = soup.select('.score')\n"
      ],
      "metadata": {
        "id": "725me2KwufK-"
      },
      "execution_count": 43,
      "outputs": []
    },
    {
      "cell_type": "code",
      "source": [
        "links"
      ],
      "metadata": {
        "colab": {
          "base_uri": "https://localhost:8080/"
        },
        "id": "5LyBzPHu4mPV",
        "outputId": "ec0476eb-e687-49fd-b6d7-da58d633dd4c"
      },
      "execution_count": 44,
      "outputs": [
        {
          "output_type": "execute_result",
          "data": {
            "text/plain": [
              "[<span class=\"titleline\"><a href=\"https://www.hillelwayne.com/post/graph-types/\">The hunt for the missing data type</a><span class=\"sitebit comhead\"> (<a href=\"from?site=hillelwayne.com\"><span class=\"sitestr\">hillelwayne.com</span></a>)</span></span>,\n",
              " <span class=\"titleline\"><a href=\"https://www.anthropic.com/news/claude-3-family\">Claude 3 model family</a><span class=\"sitebit comhead\"> (<a href=\"from?site=anthropic.com\"><span class=\"sitestr\">anthropic.com</span></a>)</span></span>,\n",
              " <span class=\"titleline\"><a href=\"https://astro.sshh.io/\">Show HN: Astro App</a><span class=\"sitebit comhead\"> (<a href=\"from?site=sshh.io\"><span class=\"sitestr\">sshh.io</span></a>)</span></span>,\n",
              " <span class=\"titleline\"><a href=\"https://www.ubicloud.com/blog/improving-network-performance-with-linux-flowtables\">Improving Network Performance with Linux Flowtables</a><span class=\"sitebit comhead\"> (<a href=\"from?site=ubicloud.com\"><span class=\"sitestr\">ubicloud.com</span></a>)</span></span>,\n",
              " <span class=\"titleline\"><a href=\"https://www.surfertoday.com/surfing/the-woman-who-coined-the-expression-surfing-the-internet\">The women who coined the expression 'surfing the internet' (2019)</a><span class=\"sitebit comhead\"> (<a href=\"from?site=surfertoday.com\"><span class=\"sitestr\">surfertoday.com</span></a>)</span></span>,\n",
              " <span class=\"titleline\"><a href=\"https://www.nytimes.com/2024/03/04/science/moon-landing-sideways-gravity.html\">Why it's so challenging to land upright on the moon</a><span class=\"sitebit comhead\"> (<a href=\"from?site=nytimes.com\"><span class=\"sitestr\">nytimes.com</span></a>)</span></span>,\n",
              " <span class=\"titleline\"><a href=\"https://opus-codec.org/demo/opus-1.5/\">Opus 1.5 released: Opus gets a machine learning upgrade</a><span class=\"sitebit comhead\"> (<a href=\"from?site=opus-codec.org\"><span class=\"sitestr\">opus-codec.org</span></a>)</span></span>,\n",
              " <span class=\"titleline\"><a href=\"item?id=39591972\">Launch HN: Just words (YC W24) – Optimize your product's copy for user growth</a></span>,\n",
              " <span class=\"titleline\"><a href=\"https://mainlymiles.com/2024/03/03/singapore-airlines-concorde-full-story/\">Singapore Airlines Concorde</a><span class=\"sitebit comhead\"> (<a href=\"from?site=mainlymiles.com\"><span class=\"sitestr\">mainlymiles.com</span></a>)</span></span>,\n",
              " <span class=\"titleline\"><a href=\"https://www.anandtech.com/show/21276/intel-previews-sierra-forest-with-288-e-cores-announces-granite-rapids-d-for-2025-launch-at-mwc-2024\">Intel Previews Sierra Forest with 288 E-Cores, Announces Granite Rapids-D</a><span class=\"sitebit comhead\"> (<a href=\"from?site=anandtech.com\"><span class=\"sitestr\">anandtech.com</span></a>)</span></span>,\n",
              " <span class=\"titleline\"><a href=\"https://skio.com/careers/\">Skio (YC S20) – Subscriptions for Shopify, ReCharge migrations – Is Hiring</a><span class=\"sitebit comhead\"> (<a href=\"from?site=skio.com\"><span class=\"sitestr\">skio.com</span></a>)</span></span>,\n",
              " <span class=\"titleline\"><a href=\"https://www.youtube.com/watch?v=-C6AcRnUmbE\">I made a bad camera lens from some old glasses [video]</a><span class=\"sitebit comhead\"> (<a href=\"from?site=youtube.com\"><span class=\"sitestr\">youtube.com</span></a>)</span></span>,\n",
              " <span class=\"titleline\"><a href=\"https://arxiv.org/abs/2311.05063\">Rust for Embedded Systems: Current state, challenges and open problems</a><span class=\"sitebit comhead\"> (<a href=\"from?site=arxiv.org\"><span class=\"sitestr\">arxiv.org</span></a>)</span></span>,\n",
              " <span class=\"titleline\"><a href=\"https://theintercept.com/2024/03/04/signal-app-username-phone-number-privacy/\" rel=\"nofollow\">Ephemeral usernames safeguard privacy and make Signal harder to subpoena</a><span class=\"sitebit comhead\"> (<a href=\"from?site=theintercept.com\"><span class=\"sitestr\">theintercept.com</span></a>)</span></span>,\n",
              " <span class=\"titleline\"><a href=\"https://www.futureflight.aero/news-article/2024-02-27/us-air-force-evaluating-pivotals-blackfly-ultralight-evtol-aircraft\">U.S. Air Force Evaluating Pivotal's Blackfly Ultralight EVTOL Aircraft</a><span class=\"sitebit comhead\"> (<a href=\"from?site=futureflight.aero\"><span class=\"sitestr\">futureflight.aero</span></a>)</span></span>,\n",
              " <span class=\"titleline\"><a href=\"https://wiki.xxiivv.com/site/uxntal.html\" rel=\"nofollow\">Tal is the programming language for the Uxn virtual machine</a><span class=\"sitebit comhead\"> (<a href=\"from?site=xxiivv.com\"><span class=\"sitestr\">xxiivv.com</span></a>)</span></span>,\n",
              " <span class=\"titleline\"><a href=\"https://heathermeeker.com/2024/02/17/french-court-issues-damages-award-for-violation-of-gpl/\">French court issues damages award for violation of GPL</a><span class=\"sitebit comhead\"> (<a href=\"from?site=heathermeeker.com\"><span class=\"sitestr\">heathermeeker.com</span></a>)</span></span>,\n",
              " <span class=\"titleline\"><a href=\"https://www.macstories.net/stories/macpad-how-i-created-the-hybrid-mac-ipad-laptop-and-tablet-that-apple-wont-make/\">MacPad: I created the hybrid Mac-iPad laptop and tablet that Apple won't make</a><span class=\"sitebit comhead\"> (<a href=\"from?site=macstories.net\"><span class=\"sitestr\">macstories.net</span></a>)</span></span>,\n",
              " <span class=\"titleline\"><a href=\"https://www.apple.com/newsroom/2024/03/apple-unveils-the-new-13-and-15-inch-macbook-air-with-the-powerful-m3-chip/\">New 13- and 15‑inch MacBook Air with M3 chip</a><span class=\"sitebit comhead\"> (<a href=\"from?site=apple.com\"><span class=\"sitestr\">apple.com</span></a>)</span></span>,\n",
              " <span class=\"titleline\"><a href=\"https://github.com/rerun-io/revy\">Revy – proof-of-concept time-travel debugger for the Bevy game engine</a><span class=\"sitebit comhead\"> (<a href=\"from?site=github.com/rerun-io\"><span class=\"sitestr\">github.com/rerun-io</span></a>)</span></span>,\n",
              " <span class=\"titleline\"><a href=\"https://smallcultfollowing.com/babysteps/blog/2024/03/04/borrow-checking-without-lifetimes/\">Borrow checking without lifetimes</a><span class=\"sitebit comhead\"> (<a href=\"from?site=smallcultfollowing.com\"><span class=\"sitestr\">smallcultfollowing.com</span></a>)</span></span>,\n",
              " <span class=\"titleline\"><a href=\"https://nhigham.com/2022/05/11/what-is-a-schur-decomposition/\">What Is a Schur Decomposition? (2022)</a><span class=\"sitebit comhead\"> (<a href=\"from?site=nhigham.com\"><span class=\"sitestr\">nhigham.com</span></a>)</span></span>,\n",
              " <span class=\"titleline\"><a href=\"https://commoncog.com/what-the-ceo-wants-you-to-know/\">What the CEO wants you to know (2023)</a><span class=\"sitebit comhead\"> (<a href=\"from?site=commoncog.com\"><span class=\"sitestr\">commoncog.com</span></a>)</span></span>,\n",
              " <span class=\"titleline\"><a href=\"https://twitter.com/oatmealdome/status/1764704580724576465\">Yuzu emulator developers settle Nintendo lawsuit, pay $2.4M in damages</a><span class=\"sitebit comhead\"> (<a href=\"from?site=twitter.com/oatmealdome\"><span class=\"sitestr\">twitter.com/oatmealdome</span></a>)</span></span>,\n",
              " <span class=\"titleline\"><a href=\"https://www.tomshardware.com/pc-components/gpus/nvidia-bans-using-translation-layers-for-cuda-software-to-run-on-other-chips-new-restriction-apparently-targets-zluda-and-some-chinese-gpu-makers\">Nvidia bans using translation layers for CUDA software to run on other chips</a><span class=\"sitebit comhead\"> (<a href=\"from?site=tomshardware.com\"><span class=\"sitestr\">tomshardware.com</span></a>)</span></span>,\n",
              " <span class=\"titleline\"><a href=\"http://www.velato.net/\">Velato: A programming language where source code must be a valid MIDI music file</a><span class=\"sitebit comhead\"> (<a href=\"from?site=velato.net\"><span class=\"sitestr\">velato.net</span></a>)</span></span>,\n",
              " <span class=\"titleline\"><a href=\"https://www.youtube.com/watch?v=Ss7gIs2-hzk\">What we learned from C++ atomics and memory model standardization [video]</a><span class=\"sitebit comhead\"> (<a href=\"from?site=youtube.com\"><span class=\"sitestr\">youtube.com</span></a>)</span></span>,\n",
              " <span class=\"titleline\"><a href=\"https://github.com/harshadmanglani/polaris\">Show HN: Workflow orchestrator in Golang</a><span class=\"sitebit comhead\"> (<a href=\"from?site=github.com/harshadmanglani\"><span class=\"sitestr\">github.com/harshadmanglani</span></a>)</span></span>,\n",
              " <span class=\"titleline\"><a href=\"https://www.themusicman.uk/broken-vintage-piano/\">A broken vintage piano turned into an analog hybrid of 20 instruments</a><span class=\"sitebit comhead\"> (<a href=\"from?site=themusicman.uk\"><span class=\"sitestr\">themusicman.uk</span></a>)</span></span>,\n",
              " <span class=\"titleline\"><a href=\"https://www.quantamagazine.org/the-theorist-who-sees-math-in-art-music-and-writing-20240112/\">A mathematician who finds poetry in math and math in poetry</a><span class=\"sitebit comhead\"> (<a href=\"from?site=quantamagazine.org\"><span class=\"sitestr\">quantamagazine.org</span></a>)</span></span>]"
            ]
          },
          "metadata": {},
          "execution_count": 44
        }
      ]
    },
    {
      "cell_type": "code",
      "source": [
        "votes"
      ],
      "metadata": {
        "colab": {
          "base_uri": "https://localhost:8080/"
        },
        "id": "qarWwZ4L5KOZ",
        "outputId": "0781bf2d-d8d7-4939-99f3-a9d4496fef5d"
      },
      "execution_count": 45,
      "outputs": [
        {
          "output_type": "execute_result",
          "data": {
            "text/plain": [
              "[<span class=\"score\" id=\"score_39592444\">203 points</span>,\n",
              " <span class=\"score\" id=\"score_39590666\">615 points</span>,\n",
              " <span class=\"score\" id=\"score_39591529\">151 points</span>,\n",
              " <span class=\"score\" id=\"score_39592771\">51 points</span>,\n",
              " <span class=\"score\" id=\"score_39592993\">51 points</span>,\n",
              " <span class=\"score\" id=\"score_39591772\">11 points</span>,\n",
              " <span class=\"score\" id=\"score_39593256\">106 points</span>,\n",
              " <span class=\"score\" id=\"score_39591972\">30 points</span>,\n",
              " <span class=\"score\" id=\"score_39588830\">144 points</span>,\n",
              " <span class=\"score\" id=\"score_39579725\">43 points</span>,\n",
              " <span class=\"score\" id=\"score_39589479\">120 points</span>,\n",
              " <span class=\"score\" id=\"score_39591694\">109 points</span>,\n",
              " <span class=\"score\" id=\"score_39590852\">8 points</span>,\n",
              " <span class=\"score\" id=\"score_39592499\">9 points</span>,\n",
              " <span class=\"score\" id=\"score_39575102\">7 points</span>,\n",
              " <span class=\"score\" id=\"score_39587344\">810 points</span>,\n",
              " <span class=\"score\" id=\"score_39592288\">87 points</span>,\n",
              " <span class=\"score\" id=\"score_39589924\">190 points</span>,\n",
              " <span class=\"score\" id=\"score_39590683\">32 points</span>,\n",
              " <span class=\"score\" id=\"score_39594362\">18 points</span>,\n",
              " <span class=\"score\" id=\"score_39588899\">72 points</span>,\n",
              " <span class=\"score\" id=\"score_39574137\">21 points</span>,\n",
              " <span class=\"score\" id=\"score_39593647\">120 points</span>,\n",
              " <span class=\"score\" id=\"score_39592689\">200 points</span>,\n",
              " <span class=\"score\" id=\"score_39578796\">61 points</span>,\n",
              " <span class=\"score\" id=\"score_39592702\">28 points</span>,\n",
              " <span class=\"score\" id=\"score_39593008\">5 points</span>,\n",
              " <span class=\"score\" id=\"score_39575909\">55 points</span>,\n",
              " <span class=\"score\" id=\"score_39589102\">77 points</span>]"
            ]
          },
          "metadata": {},
          "execution_count": 45
        }
      ]
    },
    {
      "cell_type": "code",
      "source": [
        "links[0] = soup.get('href', None)\n",
        "print(links[0])"
      ],
      "metadata": {
        "colab": {
          "base_uri": "https://localhost:8080/"
        },
        "id": "O2EVP7dY360x",
        "outputId": "9a8027f0-5e4c-41f2-fdf8-fdbef0e1c3b6"
      },
      "execution_count": 39,
      "outputs": [
        {
          "output_type": "stream",
          "name": "stdout",
          "text": [
            "None\n"
          ]
        }
      ]
    },
    {
      "cell_type": "code",
      "source": [
        "def create_custom_hn(links, votes):\n",
        "  #create a new empty hacker news list\n",
        "  hn = []\n",
        "  for index, item in enumerate(links):\n",
        "    #grep the title of each link and get the text inside the text\n",
        "    title = links[index].getText()\n",
        "    hn.append(title)\n",
        "  return hn"
      ],
      "metadata": {
        "id": "t4qOs412z0TU"
      },
      "execution_count": 46,
      "outputs": []
    },
    {
      "cell_type": "code",
      "source": [
        "create_custom_hn (links, votes)"
      ],
      "metadata": {
        "colab": {
          "base_uri": "https://localhost:8080/"
        },
        "id": "YxZeBe2w0pHN",
        "outputId": "d6353935-c98e-4220-ada5-278435e10fe5"
      },
      "execution_count": 47,
      "outputs": [
        {
          "output_type": "execute_result",
          "data": {
            "text/plain": [
              "['The hunt for the missing data type (hillelwayne.com)',\n",
              " 'Claude 3 model family (anthropic.com)',\n",
              " 'Show HN: Astro App (sshh.io)',\n",
              " 'Improving Network Performance with Linux Flowtables (ubicloud.com)',\n",
              " \"The women who coined the expression 'surfing the internet' (2019) (surfertoday.com)\",\n",
              " \"Why it's so challenging to land upright on the moon (nytimes.com)\",\n",
              " 'Opus 1.5 released: Opus gets a machine learning upgrade (opus-codec.org)',\n",
              " \"Launch HN: Just words (YC W24) – Optimize your product's copy for user growth\",\n",
              " 'Singapore Airlines Concorde (mainlymiles.com)',\n",
              " 'Intel Previews Sierra Forest with 288 E-Cores, Announces Granite Rapids-D (anandtech.com)',\n",
              " 'Skio (YC S20) – Subscriptions for Shopify, ReCharge migrations –\\xa0Is Hiring (skio.com)',\n",
              " 'I made a bad camera lens from some old glasses [video] (youtube.com)',\n",
              " 'Rust for Embedded Systems: Current state, challenges and open problems (arxiv.org)',\n",
              " 'Ephemeral usernames safeguard privacy and make Signal harder to subpoena (theintercept.com)',\n",
              " \"U.S. Air Force Evaluating Pivotal's Blackfly Ultralight EVTOL Aircraft (futureflight.aero)\",\n",
              " 'Tal is the programming language for the Uxn virtual machine (xxiivv.com)',\n",
              " 'French court issues damages award for violation of GPL (heathermeeker.com)',\n",
              " \"MacPad: I created the hybrid Mac-iPad laptop and tablet that Apple won't make (macstories.net)\",\n",
              " 'New 13- and 15‑inch MacBook Air with M3 chip (apple.com)',\n",
              " 'Revy – proof-of-concept time-travel debugger for the Bevy game engine (github.com/rerun-io)',\n",
              " 'Borrow checking without lifetimes (smallcultfollowing.com)',\n",
              " 'What Is a Schur Decomposition? (2022) (nhigham.com)',\n",
              " 'What the CEO wants you to know (2023) (commoncog.com)',\n",
              " 'Yuzu emulator developers settle Nintendo lawsuit, pay $2.4M in damages (twitter.com/oatmealdome)',\n",
              " 'Nvidia bans using translation layers for CUDA software to run on other chips (tomshardware.com)',\n",
              " 'Velato: A programming language where source code must be a valid MIDI music file (velato.net)',\n",
              " 'What we learned from C++ atomics and memory model standardization [video] (youtube.com)',\n",
              " 'Show HN: Workflow orchestrator in Golang (github.com/harshadmanglani)',\n",
              " 'A broken vintage piano turned into an analog hybrid of 20 instruments (themusicman.uk)',\n",
              " 'A mathematician who finds poetry in math and math in poetry (quantamagazine.org)']"
            ]
          },
          "metadata": {},
          "execution_count": 47
        }
      ]
    },
    {
      "cell_type": "markdown",
      "source": [
        "^ printed all of the titles of the links\n"
      ],
      "metadata": {
        "id": "NJ9WZkIP01Fl"
      }
    },
    {
      "cell_type": "code",
      "source": [
        "#href = link"
      ],
      "metadata": {
        "id": "6bG1QtVM04VL"
      },
      "execution_count": null,
      "outputs": []
    },
    {
      "cell_type": "code",
      "source": [
        "#modified function\n",
        "def create_custom_hn(links, votes):\n",
        "  #create a new empty hacker news list\n",
        "  hn = []\n",
        "  for index, item in enumerate(links):\n",
        "    #grep the title of each link and get the text inside the text\n",
        "    title = links[index].getText()\n",
        "    href = links[index].get('href', None)\n",
        "    hn.append(href)\n",
        "  return hn\n",
        "\n",
        "create_custom_hn(links, votes)\n",
        "\n"
      ],
      "metadata": {
        "colab": {
          "base_uri": "https://localhost:8080/"
        },
        "id": "jtbdgaX71Alx",
        "outputId": "578279e8-0cc7-4ae9-a99a-70dca503e887"
      },
      "execution_count": 48,
      "outputs": [
        {
          "output_type": "execute_result",
          "data": {
            "text/plain": [
              "[None,\n",
              " None,\n",
              " None,\n",
              " None,\n",
              " None,\n",
              " None,\n",
              " None,\n",
              " None,\n",
              " None,\n",
              " None,\n",
              " None,\n",
              " None,\n",
              " None,\n",
              " None,\n",
              " None,\n",
              " None,\n",
              " None,\n",
              " None,\n",
              " None,\n",
              " None,\n",
              " None,\n",
              " None,\n",
              " None,\n",
              " None,\n",
              " None,\n",
              " None,\n",
              " None,\n",
              " None,\n",
              " None,\n",
              " None]"
            ]
          },
          "metadata": {},
          "execution_count": 48
        }
      ]
    },
    {
      "cell_type": "code",
      "source": [
        "# '.titleline > a' --> This fixed the None error above\n",
        "# element > element --> Selects all <p> elements where the parent is a <div> element\n",
        "# reference: https://www.w3schools.com/cssref/css_selectors.php\n",
        "\n",
        "\n",
        "res2= requests.get('https://news.ycombinator.com/news')\n",
        "soup2 = BeautifulSoup(res2.text, 'html.parser')\n",
        "links2 = soup.select('.titleline > a')\n",
        "votes2 = soup.select('.score')"
      ],
      "metadata": {
        "id": "L0xUW1rJ8dKa"
      },
      "execution_count": 51,
      "outputs": []
    },
    {
      "cell_type": "code",
      "source": [
        "#modified function (3rd)\n",
        "def create_custom_hn2(links, votes):\n",
        "  #create a new empty hacker news list\n",
        "  hn2 = []\n",
        "  for index2, item2 in enumerate(links2):\n",
        "    #grep the title of each link and get the text inside the text\n",
        "    title2 = links2[index2].getText()\n",
        "    href2 = links2[index2].get('href', None)\n",
        "    hn2.append({'title': title2, 'link': href2})\n",
        "  return hn2\n",
        "\n",
        "create_custom_hn2(links2, votes2)"
      ],
      "metadata": {
        "colab": {
          "base_uri": "https://localhost:8080/"
        },
        "id": "cTf5fm3x2ySd",
        "outputId": "f135a1e5-63a8-4287-8398-acd825656681"
      },
      "execution_count": 52,
      "outputs": [
        {
          "output_type": "execute_result",
          "data": {
            "text/plain": [
              "[{'title': 'The hunt for the missing data type',\n",
              "  'link': 'https://www.hillelwayne.com/post/graph-types/'},\n",
              " {'title': 'Claude 3 model family',\n",
              "  'link': 'https://www.anthropic.com/news/claude-3-family'},\n",
              " {'title': 'Show HN: Astro App', 'link': 'https://astro.sshh.io/'},\n",
              " {'title': 'Improving Network Performance with Linux Flowtables',\n",
              "  'link': 'https://www.ubicloud.com/blog/improving-network-performance-with-linux-flowtables'},\n",
              " {'title': \"The women who coined the expression 'surfing the internet' (2019)\",\n",
              "  'link': 'https://www.surfertoday.com/surfing/the-woman-who-coined-the-expression-surfing-the-internet'},\n",
              " {'title': \"Why it's so challenging to land upright on the moon\",\n",
              "  'link': 'https://www.nytimes.com/2024/03/04/science/moon-landing-sideways-gravity.html'},\n",
              " {'title': 'Opus 1.5 released: Opus gets a machine learning upgrade',\n",
              "  'link': 'https://opus-codec.org/demo/opus-1.5/'},\n",
              " {'title': \"Launch HN: Just words (YC W24) – Optimize your product's copy for user growth\",\n",
              "  'link': 'item?id=39591972'},\n",
              " {'title': 'Singapore Airlines Concorde',\n",
              "  'link': 'https://mainlymiles.com/2024/03/03/singapore-airlines-concorde-full-story/'},\n",
              " {'title': 'Intel Previews Sierra Forest with 288 E-Cores, Announces Granite Rapids-D',\n",
              "  'link': 'https://www.anandtech.com/show/21276/intel-previews-sierra-forest-with-288-e-cores-announces-granite-rapids-d-for-2025-launch-at-mwc-2024'},\n",
              " {'title': 'Skio (YC S20) – Subscriptions for Shopify, ReCharge migrations –\\xa0Is Hiring',\n",
              "  'link': 'https://skio.com/careers/'},\n",
              " {'title': 'I made a bad camera lens from some old glasses [video]',\n",
              "  'link': 'https://www.youtube.com/watch?v=-C6AcRnUmbE'},\n",
              " {'title': 'Rust for Embedded Systems: Current state, challenges and open problems',\n",
              "  'link': 'https://arxiv.org/abs/2311.05063'},\n",
              " {'title': 'Ephemeral usernames safeguard privacy and make Signal harder to subpoena',\n",
              "  'link': 'https://theintercept.com/2024/03/04/signal-app-username-phone-number-privacy/'},\n",
              " {'title': \"U.S. Air Force Evaluating Pivotal's Blackfly Ultralight EVTOL Aircraft\",\n",
              "  'link': 'https://www.futureflight.aero/news-article/2024-02-27/us-air-force-evaluating-pivotals-blackfly-ultralight-evtol-aircraft'},\n",
              " {'title': 'Tal is the programming language for the Uxn virtual machine',\n",
              "  'link': 'https://wiki.xxiivv.com/site/uxntal.html'},\n",
              " {'title': 'French court issues damages award for violation of GPL',\n",
              "  'link': 'https://heathermeeker.com/2024/02/17/french-court-issues-damages-award-for-violation-of-gpl/'},\n",
              " {'title': \"MacPad: I created the hybrid Mac-iPad laptop and tablet that Apple won't make\",\n",
              "  'link': 'https://www.macstories.net/stories/macpad-how-i-created-the-hybrid-mac-ipad-laptop-and-tablet-that-apple-wont-make/'},\n",
              " {'title': 'New 13- and 15‑inch MacBook Air with M3 chip',\n",
              "  'link': 'https://www.apple.com/newsroom/2024/03/apple-unveils-the-new-13-and-15-inch-macbook-air-with-the-powerful-m3-chip/'},\n",
              " {'title': 'Revy – proof-of-concept time-travel debugger for the Bevy game engine',\n",
              "  'link': 'https://github.com/rerun-io/revy'},\n",
              " {'title': 'Borrow checking without lifetimes',\n",
              "  'link': 'https://smallcultfollowing.com/babysteps/blog/2024/03/04/borrow-checking-without-lifetimes/'},\n",
              " {'title': 'What Is a Schur Decomposition? (2022)',\n",
              "  'link': 'https://nhigham.com/2022/05/11/what-is-a-schur-decomposition/'},\n",
              " {'title': 'What the CEO wants you to know (2023)',\n",
              "  'link': 'https://commoncog.com/what-the-ceo-wants-you-to-know/'},\n",
              " {'title': 'Yuzu emulator developers settle Nintendo lawsuit, pay $2.4M in damages',\n",
              "  'link': 'https://twitter.com/oatmealdome/status/1764704580724576465'},\n",
              " {'title': 'Nvidia bans using translation layers for CUDA software to run on other chips',\n",
              "  'link': 'https://www.tomshardware.com/pc-components/gpus/nvidia-bans-using-translation-layers-for-cuda-software-to-run-on-other-chips-new-restriction-apparently-targets-zluda-and-some-chinese-gpu-makers'},\n",
              " {'title': 'Velato: A programming language where source code must be a valid MIDI music file',\n",
              "  'link': 'http://www.velato.net/'},\n",
              " {'title': 'What we learned from C++ atomics and memory model standardization [video]',\n",
              "  'link': 'https://www.youtube.com/watch?v=Ss7gIs2-hzk'},\n",
              " {'title': 'Show HN: Workflow orchestrator in Golang',\n",
              "  'link': 'https://github.com/harshadmanglani/polaris'},\n",
              " {'title': 'A broken vintage piano turned into an analog hybrid of 20 instruments',\n",
              "  'link': 'https://www.themusicman.uk/broken-vintage-piano/'},\n",
              " {'title': 'A mathematician who finds poetry in math and math in poetry',\n",
              "  'link': 'https://www.quantamagazine.org/the-theorist-who-sees-math-in-art-music-and-writing-20240112/'}]"
            ]
          },
          "metadata": {},
          "execution_count": 52
        }
      ]
    }
  ]
}