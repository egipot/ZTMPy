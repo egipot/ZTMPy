{
  "nbformat": 4,
  "nbformat_minor": 0,
  "metadata": {
    "colab": {
      "provenance": [],
      "authorship_tag": "ABX9TyMY6DX4XHN2gRFvzlUP3dTT",
      "include_colab_link": true
    },
    "kernelspec": {
      "name": "python3",
      "display_name": "Python 3"
    },
    "language_info": {
      "name": "python"
    }
  },
  "cells": [
    {
      "cell_type": "markdown",
      "metadata": {
        "id": "view-in-github",
        "colab_type": "text"
      },
      "source": [
        "<a href=\"https://colab.research.google.com/github/egipot/ZTMPy/blob/main/258_BeautifulSoupProj4.ipynb\" target=\"_parent\"><img src=\"https://colab.research.google.com/assets/colab-badge.svg\" alt=\"Open In Colab\"/></a>"
      ]
    },
    {
      "cell_type": "code",
      "execution_count": 1,
      "metadata": {
        "id": "rQGbegAk60Xb"
      },
      "outputs": [],
      "source": [
        "import requests\n",
        "from bs4 import BeautifulSoup\n",
        "import pprint\n"
      ]
    },
    {
      "cell_type": "code",
      "source": [
        "res = requests.get('https://news.ycombinator.com/news')\n",
        "soup = BeautifulSoup(res.text, 'html.parser')\n"
      ],
      "metadata": {
        "id": "P2_lI1iq7tf_"
      },
      "execution_count": 3,
      "outputs": []
    },
    {
      "cell_type": "code",
      "source": [
        "links = soup.select('.titleline > a')\n",
        "subtext = soup.select('.subtext')"
      ],
      "metadata": {
        "id": "ozMOLu9C8Ak1"
      },
      "execution_count": 4,
      "outputs": []
    },
    {
      "cell_type": "code",
      "source": [
        "def sort_stories_by_votes(hnlist):\n",
        "  return  sorted(hnlist,key=lambda k:k['votes'], reverse=True) #descending\n",
        "\n",
        "def create_custom_hn(links, subtext):\n",
        "  hn = []\n",
        "  for index, item in enumerate(links):\n",
        "    title = item.getText()\n",
        "    href = item.get('href', None)\n",
        "    vote = subtext[index].select('.score')\n",
        "    if len(vote):\n",
        "      points = int(vote[0].getText().replace('points', ''))\n",
        "      if points > 500:\n",
        "        hn.append({'title': title, 'link': href, 'votes': points})\n",
        "  return sort_stories_by_votes(hn)\n",
        "\n",
        "pprint.pprint(create_custom_hn(links, subtext))"
      ],
      "metadata": {
        "colab": {
          "base_uri": "https://localhost:8080/"
        },
        "id": "3OLtLFYY8Hpc",
        "outputId": "ce889f0a-a26c-4a22-f3d7-4327ea3a0ad6"
      },
      "execution_count": 5,
      "outputs": [
        {
          "output_type": "stream",
          "name": "stdout",
          "text": [
            "[{'link': 'https://github.com/HeyPuter/puter',\n",
            "  'title': 'Show HN: 3 years and 1M users later, I just open-sourced my '\n",
            "           '\"Internet OS\"',\n",
            "  'votes': 1071},\n",
            " {'link': 'https://metastatus.com/', 'title': 'Meta outage', 'votes': 555},\n",
            " {'link': 'https://app.radicle.xyz/nodes/seed.radicle.garden/rad:z3gqcJUoA1n9HaHKufZs5FCSGazv5',\n",
            "  'title': 'Radicle: Open-Source, Peer-to-Peer, GitHub Alternative',\n",
            "  'votes': 553}]\n"
          ]
        }
      ]
    },
    {
      "cell_type": "code",
      "source": [
        "#https://news.ycombinator.com/news?p=2"
      ],
      "metadata": {
        "id": "_ndyKgWJ8j1-"
      },
      "execution_count": null,
      "outputs": []
    },
    {
      "cell_type": "code",
      "source": [
        "res2 = requests.get('https://news.ycombinator.com/news?p=2')\n",
        "soup2 = BeautifulSoup(res2.text, 'html.parser')\n",
        "links2 = soup2.select('.titleline > a')\n",
        "subtext2 = soup2.select('.subtext')\n"
      ],
      "metadata": {
        "id": "vkcPR7xZ8rnI"
      },
      "execution_count": 7,
      "outputs": []
    },
    {
      "cell_type": "code",
      "source": [
        "mega_links = links + links2\n",
        "mega_subtext = subtext + subtext2"
      ],
      "metadata": {
        "id": "0kHFpUPI93mM"
      },
      "execution_count": 8,
      "outputs": []
    },
    {
      "cell_type": "code",
      "source": [
        "def sort_stories_by_votes(hnlist):\n",
        "  return  sorted(hnlist,key=lambda k:k['votes'], reverse=True) #descending\n",
        "\n",
        "def create_custom_hn(mega_links, mega_subtext):\n",
        "  hn = []\n",
        "  for index, item in enumerate(mega_links):\n",
        "    title = item.getText()\n",
        "    href = item.get('href', None)\n",
        "    vote = mega_subtext[index].select('.score')\n",
        "    if len(vote):\n",
        "      points = int(vote[0].getText().replace('points', ''))\n",
        "      if points > 500:\n",
        "        hn.append({'title': title, 'link': href, 'votes': points})\n",
        "  return sort_stories_by_votes(hn)\n",
        "\n",
        "pprint.pprint(create_custom_hn(mega_links, mega_subtext))"
      ],
      "metadata": {
        "colab": {
          "base_uri": "https://localhost:8080/"
        },
        "id": "XYzAgcv29_Ql",
        "outputId": "f2c3467e-a079-415f-a685-9d368734f7c4"
      },
      "execution_count": 9,
      "outputs": [
        {
          "output_type": "stream",
          "name": "stdout",
          "text": [
            "[{'link': 'https://github.com/HeyPuter/puter',\n",
            "  'title': 'Show HN: 3 years and 1M users later, I just open-sourced my '\n",
            "           '\"Internet OS\"',\n",
            "  'votes': 1071},\n",
            " {'link': 'https://www.anthropic.com/news/claude-3-family',\n",
            "  'title': 'Claude 3 model family',\n",
            "  'votes': 954},\n",
            " {'link': 'https://www.hillelwayne.com/post/graph-types/',\n",
            "  'title': 'The hunt for the missing data type',\n",
            "  'votes': 632},\n",
            " {'link': 'https://metastatus.com/', 'title': 'Meta outage', 'votes': 555},\n",
            " {'link': 'https://app.radicle.xyz/nodes/seed.radicle.garden/rad:z3gqcJUoA1n9HaHKufZs5FCSGazv5',\n",
            "  'title': 'Radicle: Open-Source, Peer-to-Peer, GitHub Alternative',\n",
            "  'votes': 553}]\n"
          ]
        }
      ]
    }
  ]
}